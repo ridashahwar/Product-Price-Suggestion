{
 "cells": [
  {
   "cell_type": "markdown",
   "id": "9938d3d9",
   "metadata": {},
   "source": [
    "## Deep Learning Model"
   ]
  },
  {
   "cell_type": "code",
   "execution_count": 1,
   "id": "9819d559",
   "metadata": {},
   "outputs": [],
   "source": [
    "import numpy as np\n",
    "import pandas as pd\n",
    "import tensorflow as tf\n",
    "import warnings\n",
    "warnings.filterwarnings('ignore')\n",
    "from  sklearn.model_selection import train_test_split\n",
    "from tensorflow.keras.preprocessing.text import Tokenizer\n",
    "from tensorflow.keras.preprocessing.sequence import pad_sequences\n",
    "from tensorflow.keras import layers\n",
    "from tensorflow.keras import Model"
   ]
  },
  {
   "cell_type": "code",
   "execution_count": 2,
   "id": "b21475f3",
   "metadata": {},
   "outputs": [
    {
     "data": {
      "text/html": [
       "<div>\n",
       "<style scoped>\n",
       "    .dataframe tbody tr th:only-of-type {\n",
       "        vertical-align: middle;\n",
       "    }\n",
       "\n",
       "    .dataframe tbody tr th {\n",
       "        vertical-align: top;\n",
       "    }\n",
       "\n",
       "    .dataframe thead th {\n",
       "        text-align: right;\n",
       "    }\n",
       "</style>\n",
       "<table border=\"1\" class=\"dataframe\">\n",
       "  <thead>\n",
       "    <tr style=\"text-align: right;\">\n",
       "      <th></th>\n",
       "      <th>name</th>\n",
       "      <th>item_condition_id</th>\n",
       "      <th>category_name</th>\n",
       "      <th>brand_name</th>\n",
       "      <th>price</th>\n",
       "      <th>shipping</th>\n",
       "      <th>item_description</th>\n",
       "      <th>log_price</th>\n",
       "      <th>name_processed</th>\n",
       "      <th>brand_name_processed</th>\n",
       "      <th>category_name_preprocessed</th>\n",
       "      <th>Tier_1</th>\n",
       "      <th>Tier_2</th>\n",
       "      <th>Tier_3</th>\n",
       "      <th>processed_item_description</th>\n",
       "    </tr>\n",
       "    <tr>\n",
       "      <th>train_id</th>\n",
       "      <th></th>\n",
       "      <th></th>\n",
       "      <th></th>\n",
       "      <th></th>\n",
       "      <th></th>\n",
       "      <th></th>\n",
       "      <th></th>\n",
       "      <th></th>\n",
       "      <th></th>\n",
       "      <th></th>\n",
       "      <th></th>\n",
       "      <th></th>\n",
       "      <th></th>\n",
       "      <th></th>\n",
       "      <th></th>\n",
       "    </tr>\n",
       "  </thead>\n",
       "  <tbody>\n",
       "    <tr>\n",
       "      <th>0</th>\n",
       "      <td>MLB Cincinnati Reds T Shirt Size XL</td>\n",
       "      <td>3</td>\n",
       "      <td>Men/Tops/T-shirts</td>\n",
       "      <td>NaN</td>\n",
       "      <td>10.0</td>\n",
       "      <td>1</td>\n",
       "      <td>No description yet</td>\n",
       "      <td>2.397895</td>\n",
       "      <td>mlb cincinnati reds shirt size xl</td>\n",
       "      <td>mlb</td>\n",
       "      <td>men/top/tshirts</td>\n",
       "      <td>men</td>\n",
       "      <td>top</td>\n",
       "      <td>tshirts</td>\n",
       "      <td>description yet</td>\n",
       "    </tr>\n",
       "    <tr>\n",
       "      <th>1</th>\n",
       "      <td>Razer BlackWidow Chroma Keyboard</td>\n",
       "      <td>3</td>\n",
       "      <td>Electronics/Computers &amp; Tablets/Components &amp; P...</td>\n",
       "      <td>Razer</td>\n",
       "      <td>52.0</td>\n",
       "      <td>0</td>\n",
       "      <td>This keyboard is in great condition and works ...</td>\n",
       "      <td>3.970292</td>\n",
       "      <td>razer blackwidow chroma keyboard</td>\n",
       "      <td>razer</td>\n",
       "      <td>electronic/computer tablet/component parts</td>\n",
       "      <td>electronic</td>\n",
       "      <td>computer tablet</td>\n",
       "      <td>component parts</td>\n",
       "      <td>keyboard great condition works like came box p...</td>\n",
       "    </tr>\n",
       "    <tr>\n",
       "      <th>2</th>\n",
       "      <td>AVA-VIV Blouse</td>\n",
       "      <td>1</td>\n",
       "      <td>Women/Tops &amp; Blouses/Blouse</td>\n",
       "      <td>Target</td>\n",
       "      <td>10.0</td>\n",
       "      <td>1</td>\n",
       "      <td>Adorable top with a hint of lace and a key hol...</td>\n",
       "      <td>2.397895</td>\n",
       "      <td>avaviv blouse</td>\n",
       "      <td>target</td>\n",
       "      <td>women/top blouse/blouse</td>\n",
       "      <td>women</td>\n",
       "      <td>top blouse</td>\n",
       "      <td>blouse</td>\n",
       "      <td>adorable top hint lace key hole back pale pink...</td>\n",
       "    </tr>\n",
       "    <tr>\n",
       "      <th>3</th>\n",
       "      <td>Leather Horse Statues</td>\n",
       "      <td>1</td>\n",
       "      <td>Home/Home Décor/Home Décor Accents</td>\n",
       "      <td>NaN</td>\n",
       "      <td>35.0</td>\n",
       "      <td>1</td>\n",
       "      <td>New with tags. Leather horses. Retail for [rm]...</td>\n",
       "      <td>3.583519</td>\n",
       "      <td>leather horse statues</td>\n",
       "      <td>missing</td>\n",
       "      <td>home/home dcor/home dcor accents</td>\n",
       "      <td>home</td>\n",
       "      <td>home dcor</td>\n",
       "      <td>home dcor accents</td>\n",
       "      <td>new tags leather horses retail stand foot high...</td>\n",
       "    </tr>\n",
       "    <tr>\n",
       "      <th>4</th>\n",
       "      <td>24K GOLD plated rose</td>\n",
       "      <td>1</td>\n",
       "      <td>Women/Jewelry/Necklaces</td>\n",
       "      <td>NaN</td>\n",
       "      <td>44.0</td>\n",
       "      <td>0</td>\n",
       "      <td>Complete with certificate of authenticity</td>\n",
       "      <td>3.806662</td>\n",
       "      <td>24k gold plated rose</td>\n",
       "      <td>missing</td>\n",
       "      <td>women/jewelry/necklaces</td>\n",
       "      <td>women</td>\n",
       "      <td>jewelry</td>\n",
       "      <td>necklaces</td>\n",
       "      <td>complete certificate authenticity</td>\n",
       "    </tr>\n",
       "    <tr>\n",
       "      <th>...</th>\n",
       "      <td>...</td>\n",
       "      <td>...</td>\n",
       "      <td>...</td>\n",
       "      <td>...</td>\n",
       "      <td>...</td>\n",
       "      <td>...</td>\n",
       "      <td>...</td>\n",
       "      <td>...</td>\n",
       "      <td>...</td>\n",
       "      <td>...</td>\n",
       "      <td>...</td>\n",
       "      <td>...</td>\n",
       "      <td>...</td>\n",
       "      <td>...</td>\n",
       "      <td>...</td>\n",
       "    </tr>\n",
       "    <tr>\n",
       "      <th>1482530</th>\n",
       "      <td>Free People Inspired Dress</td>\n",
       "      <td>2</td>\n",
       "      <td>Women/Dresses/Mid-Calf</td>\n",
       "      <td>Free People</td>\n",
       "      <td>20.0</td>\n",
       "      <td>1</td>\n",
       "      <td>Lace, says size small but fits medium perfectl...</td>\n",
       "      <td>3.044522</td>\n",
       "      <td>free people inspired dress</td>\n",
       "      <td>free people</td>\n",
       "      <td>women/dresse/midcalf</td>\n",
       "      <td>women</td>\n",
       "      <td>dresse</td>\n",
       "      <td>midcalf</td>\n",
       "      <td>lace says size small fits medium perfectly nev...</td>\n",
       "    </tr>\n",
       "    <tr>\n",
       "      <th>1482531</th>\n",
       "      <td>Little mermaid handmade dress</td>\n",
       "      <td>2</td>\n",
       "      <td>Kids/Girls 2T-5T/Dresses</td>\n",
       "      <td>Disney</td>\n",
       "      <td>14.0</td>\n",
       "      <td>0</td>\n",
       "      <td>Little mermaid handmade dress never worn size 2t</td>\n",
       "      <td>2.708050</td>\n",
       "      <td>little mermaid handmade dress</td>\n",
       "      <td>disney</td>\n",
       "      <td>kid/girl 2t5t/dresses</td>\n",
       "      <td>kid</td>\n",
       "      <td>girl 2t5t</td>\n",
       "      <td>dresses</td>\n",
       "      <td>little mermaid handmade dress never worn size 2t</td>\n",
       "    </tr>\n",
       "    <tr>\n",
       "      <th>1482532</th>\n",
       "      <td>21 day fix containers and eating plan</td>\n",
       "      <td>2</td>\n",
       "      <td>Sports &amp; Outdoors/Exercise/Fitness accessories</td>\n",
       "      <td>NaN</td>\n",
       "      <td>12.0</td>\n",
       "      <td>0</td>\n",
       "      <td>Used once or twice, still in great shape.</td>\n",
       "      <td>2.564949</td>\n",
       "      <td>21 day fix containers eating plan</td>\n",
       "      <td>missing</td>\n",
       "      <td>sport outdoor/exercise/fitnes accessories</td>\n",
       "      <td>sport outdoor</td>\n",
       "      <td>exercise</td>\n",
       "      <td>fitnes accessories</td>\n",
       "      <td>used twice still great shape</td>\n",
       "    </tr>\n",
       "    <tr>\n",
       "      <th>1482533</th>\n",
       "      <td>World markets lanterns</td>\n",
       "      <td>3</td>\n",
       "      <td>Home/Home Décor/Home Décor Accents</td>\n",
       "      <td>NaN</td>\n",
       "      <td>45.0</td>\n",
       "      <td>1</td>\n",
       "      <td>There is 2 of each one that you see! So 2 red ...</td>\n",
       "      <td>3.828641</td>\n",
       "      <td>world markets lanterns</td>\n",
       "      <td>missing</td>\n",
       "      <td>home/home dcor/home dcor accents</td>\n",
       "      <td>home</td>\n",
       "      <td>home dcor</td>\n",
       "      <td>home dcor accents</td>\n",
       "      <td>2 one see 2 red 2 orange 2 big red orange ones...</td>\n",
       "    </tr>\n",
       "    <tr>\n",
       "      <th>1482534</th>\n",
       "      <td>Brand new lux de ville wallet</td>\n",
       "      <td>1</td>\n",
       "      <td>Women/Women's Accessories/Wallets</td>\n",
       "      <td>NaN</td>\n",
       "      <td>22.0</td>\n",
       "      <td>0</td>\n",
       "      <td>New with tag, red with sparkle. Firm price, no...</td>\n",
       "      <td>3.135494</td>\n",
       "      <td>brand new lux de ville wallet</td>\n",
       "      <td>lux</td>\n",
       "      <td>women/women accessorie/wallets</td>\n",
       "      <td>women</td>\n",
       "      <td>women accessorie</td>\n",
       "      <td>wallets</td>\n",
       "      <td>new tag red sparkle firm price free shipping</td>\n",
       "    </tr>\n",
       "  </tbody>\n",
       "</table>\n",
       "<p>1482535 rows × 15 columns</p>\n",
       "</div>"
      ],
      "text/plain": [
       "                                           name  item_condition_id  \\\n",
       "train_id                                                             \n",
       "0           MLB Cincinnati Reds T Shirt Size XL                  3   \n",
       "1              Razer BlackWidow Chroma Keyboard                  3   \n",
       "2                                AVA-VIV Blouse                  1   \n",
       "3                         Leather Horse Statues                  1   \n",
       "4                          24K GOLD plated rose                  1   \n",
       "...                                         ...                ...   \n",
       "1482530              Free People Inspired Dress                  2   \n",
       "1482531           Little mermaid handmade dress                  2   \n",
       "1482532   21 day fix containers and eating plan                  2   \n",
       "1482533                  World markets lanterns                  3   \n",
       "1482534           Brand new lux de ville wallet                  1   \n",
       "\n",
       "                                              category_name   brand_name  \\\n",
       "train_id                                                                   \n",
       "0                                         Men/Tops/T-shirts          NaN   \n",
       "1         Electronics/Computers & Tablets/Components & P...        Razer   \n",
       "2                               Women/Tops & Blouses/Blouse       Target   \n",
       "3                        Home/Home Décor/Home Décor Accents          NaN   \n",
       "4                                   Women/Jewelry/Necklaces          NaN   \n",
       "...                                                     ...          ...   \n",
       "1482530                              Women/Dresses/Mid-Calf  Free People   \n",
       "1482531                            Kids/Girls 2T-5T/Dresses       Disney   \n",
       "1482532      Sports & Outdoors/Exercise/Fitness accessories          NaN   \n",
       "1482533                  Home/Home Décor/Home Décor Accents          NaN   \n",
       "1482534                   Women/Women's Accessories/Wallets          NaN   \n",
       "\n",
       "          price  shipping                                   item_description  \\\n",
       "train_id                                                                       \n",
       "0          10.0         1                                 No description yet   \n",
       "1          52.0         0  This keyboard is in great condition and works ...   \n",
       "2          10.0         1  Adorable top with a hint of lace and a key hol...   \n",
       "3          35.0         1  New with tags. Leather horses. Retail for [rm]...   \n",
       "4          44.0         0          Complete with certificate of authenticity   \n",
       "...         ...       ...                                                ...   \n",
       "1482530    20.0         1  Lace, says size small but fits medium perfectl...   \n",
       "1482531    14.0         0   Little mermaid handmade dress never worn size 2t   \n",
       "1482532    12.0         0          Used once or twice, still in great shape.   \n",
       "1482533    45.0         1  There is 2 of each one that you see! So 2 red ...   \n",
       "1482534    22.0         0  New with tag, red with sparkle. Firm price, no...   \n",
       "\n",
       "          log_price                     name_processed brand_name_processed  \\\n",
       "train_id                                                                      \n",
       "0          2.397895  mlb cincinnati reds shirt size xl                  mlb   \n",
       "1          3.970292   razer blackwidow chroma keyboard                razer   \n",
       "2          2.397895                      avaviv blouse               target   \n",
       "3          3.583519              leather horse statues              missing   \n",
       "4          3.806662               24k gold plated rose              missing   \n",
       "...             ...                                ...                  ...   \n",
       "1482530    3.044522         free people inspired dress          free people   \n",
       "1482531    2.708050      little mermaid handmade dress               disney   \n",
       "1482532    2.564949  21 day fix containers eating plan              missing   \n",
       "1482533    3.828641             world markets lanterns              missing   \n",
       "1482534    3.135494      brand new lux de ville wallet                  lux   \n",
       "\n",
       "                          category_name_preprocessed         Tier_1  \\\n",
       "train_id                                                              \n",
       "0                                    men/top/tshirts            men   \n",
       "1         electronic/computer tablet/component parts     electronic   \n",
       "2                            women/top blouse/blouse          women   \n",
       "3                   home/home dcor/home dcor accents           home   \n",
       "4                            women/jewelry/necklaces          women   \n",
       "...                                              ...            ...   \n",
       "1482530                         women/dresse/midcalf          women   \n",
       "1482531                        kid/girl 2t5t/dresses            kid   \n",
       "1482532    sport outdoor/exercise/fitnes accessories  sport outdoor   \n",
       "1482533             home/home dcor/home dcor accents           home   \n",
       "1482534               women/women accessorie/wallets          women   \n",
       "\n",
       "                    Tier_2              Tier_3  \\\n",
       "train_id                                         \n",
       "0                      top             tshirts   \n",
       "1          computer tablet     component parts   \n",
       "2               top blouse              blouse   \n",
       "3                home dcor   home dcor accents   \n",
       "4                  jewelry           necklaces   \n",
       "...                    ...                 ...   \n",
       "1482530             dresse             midcalf   \n",
       "1482531          girl 2t5t             dresses   \n",
       "1482532           exercise  fitnes accessories   \n",
       "1482533          home dcor   home dcor accents   \n",
       "1482534   women accessorie             wallets   \n",
       "\n",
       "                                 processed_item_description  \n",
       "train_id                                                     \n",
       "0                                           description yet  \n",
       "1         keyboard great condition works like came box p...  \n",
       "2         adorable top hint lace key hole back pale pink...  \n",
       "3         new tags leather horses retail stand foot high...  \n",
       "4                         complete certificate authenticity  \n",
       "...                                                     ...  \n",
       "1482530   lace says size small fits medium perfectly nev...  \n",
       "1482531    little mermaid handmade dress never worn size 2t  \n",
       "1482532                        used twice still great shape  \n",
       "1482533   2 one see 2 red 2 orange 2 big red orange ones...  \n",
       "1482534        new tag red sparkle firm price free shipping  \n",
       "\n",
       "[1482535 rows x 15 columns]"
      ]
     },
     "execution_count": 2,
     "metadata": {},
     "output_type": "execute_result"
    }
   ],
   "source": [
    "# LOADING THE TRAIN DATASET\n",
    "df= pd.read_csv(\"train_processed.csv\",index_col = [\"train_id\"])\n",
    "df"
   ]
  },
  {
   "cell_type": "code",
   "execution_count": 3,
   "id": "d841367a",
   "metadata": {},
   "outputs": [
    {
     "data": {
      "text/html": [
       "<div>\n",
       "<style scoped>\n",
       "    .dataframe tbody tr th:only-of-type {\n",
       "        vertical-align: middle;\n",
       "    }\n",
       "\n",
       "    .dataframe tbody tr th {\n",
       "        vertical-align: top;\n",
       "    }\n",
       "\n",
       "    .dataframe thead th {\n",
       "        text-align: right;\n",
       "    }\n",
       "</style>\n",
       "<table border=\"1\" class=\"dataframe\">\n",
       "  <thead>\n",
       "    <tr style=\"text-align: right;\">\n",
       "      <th></th>\n",
       "      <th>name</th>\n",
       "      <th>item_condition_id</th>\n",
       "      <th>category_name</th>\n",
       "      <th>brand_name</th>\n",
       "      <th>shipping</th>\n",
       "      <th>item_description</th>\n",
       "      <th>name_processed</th>\n",
       "      <th>brand_name_processed</th>\n",
       "      <th>category_name_preprocessed</th>\n",
       "      <th>Tier_1</th>\n",
       "      <th>Tier_2</th>\n",
       "      <th>Tier_3</th>\n",
       "      <th>processed_item_description</th>\n",
       "    </tr>\n",
       "    <tr>\n",
       "      <th>test_id</th>\n",
       "      <th></th>\n",
       "      <th></th>\n",
       "      <th></th>\n",
       "      <th></th>\n",
       "      <th></th>\n",
       "      <th></th>\n",
       "      <th></th>\n",
       "      <th></th>\n",
       "      <th></th>\n",
       "      <th></th>\n",
       "      <th></th>\n",
       "      <th></th>\n",
       "      <th></th>\n",
       "    </tr>\n",
       "  </thead>\n",
       "  <tbody>\n",
       "    <tr>\n",
       "      <th>0</th>\n",
       "      <td>Breast cancer \"I fight like a girl\" ring</td>\n",
       "      <td>1</td>\n",
       "      <td>Women/Jewelry/Rings</td>\n",
       "      <td>NaN</td>\n",
       "      <td>1</td>\n",
       "      <td>Size 7</td>\n",
       "      <td>breast cancer fight like girl ring</td>\n",
       "      <td>ring</td>\n",
       "      <td>women/jewelry/rings</td>\n",
       "      <td>women</td>\n",
       "      <td>jewelry</td>\n",
       "      <td>rings</td>\n",
       "      <td>size 7</td>\n",
       "    </tr>\n",
       "    <tr>\n",
       "      <th>1</th>\n",
       "      <td>25 pcs NEW 7.5\"x12\" Kraft Bubble Mailers</td>\n",
       "      <td>1</td>\n",
       "      <td>Other/Office supplies/Shipping Supplies</td>\n",
       "      <td>NaN</td>\n",
       "      <td>1</td>\n",
       "      <td>25 pcs NEW 7.5\"x12\" Kraft Bubble Mailers Lined...</td>\n",
       "      <td>25 pcs new 75x12 kraft bubble mailers</td>\n",
       "      <td>missing</td>\n",
       "      <td>other/office supplie/shipping supplies</td>\n",
       "      <td>other</td>\n",
       "      <td>office supplie</td>\n",
       "      <td>shipping supplies</td>\n",
       "      <td>25 pcs new 75x12 kraft bubble mailers lined bu...</td>\n",
       "    </tr>\n",
       "    <tr>\n",
       "      <th>2</th>\n",
       "      <td>Coach bag</td>\n",
       "      <td>1</td>\n",
       "      <td>Vintage &amp; Collectibles/Bags and Purses/Handbag</td>\n",
       "      <td>Coach</td>\n",
       "      <td>1</td>\n",
       "      <td>Brand new coach bag. Bought for [rm] at a Coac...</td>\n",
       "      <td>coach bag</td>\n",
       "      <td>coach</td>\n",
       "      <td>vintage collectible/bag and purse/handbag</td>\n",
       "      <td>vintage collectible</td>\n",
       "      <td>bag and purse</td>\n",
       "      <td>handbag</td>\n",
       "      <td>brand new coach bag bought coach outlet</td>\n",
       "    </tr>\n",
       "    <tr>\n",
       "      <th>3</th>\n",
       "      <td>Floral Kimono</td>\n",
       "      <td>2</td>\n",
       "      <td>Women/Sweaters/Cardigan</td>\n",
       "      <td>NaN</td>\n",
       "      <td>0</td>\n",
       "      <td>-floral kimono -never worn -lightweight and pe...</td>\n",
       "      <td>floral kimono</td>\n",
       "      <td>missing</td>\n",
       "      <td>women/sweater/cardigan</td>\n",
       "      <td>women</td>\n",
       "      <td>sweater</td>\n",
       "      <td>cardigan</td>\n",
       "      <td>floral kimono never worn lightweight perfect h...</td>\n",
       "    </tr>\n",
       "    <tr>\n",
       "      <th>4</th>\n",
       "      <td>Life after Death</td>\n",
       "      <td>3</td>\n",
       "      <td>Other/Books/Religion &amp; Spirituality</td>\n",
       "      <td>NaN</td>\n",
       "      <td>1</td>\n",
       "      <td>Rediscovering life after the loss of a loved o...</td>\n",
       "      <td>life death</td>\n",
       "      <td>missing</td>\n",
       "      <td>other/book/religion spirituality</td>\n",
       "      <td>other</td>\n",
       "      <td>book</td>\n",
       "      <td>religion spirituality</td>\n",
       "      <td>rediscovering life loss loved one tony cooke p...</td>\n",
       "    </tr>\n",
       "    <tr>\n",
       "      <th>...</th>\n",
       "      <td>...</td>\n",
       "      <td>...</td>\n",
       "      <td>...</td>\n",
       "      <td>...</td>\n",
       "      <td>...</td>\n",
       "      <td>...</td>\n",
       "      <td>...</td>\n",
       "      <td>...</td>\n",
       "      <td>...</td>\n",
       "      <td>...</td>\n",
       "      <td>...</td>\n",
       "      <td>...</td>\n",
       "      <td>...</td>\n",
       "    </tr>\n",
       "    <tr>\n",
       "      <th>3460720</th>\n",
       "      <td>DARK SAMPLE BYE FOUNDATION MOISTURIZER</td>\n",
       "      <td>1</td>\n",
       "      <td>Beauty/Fragrance/Women</td>\n",
       "      <td>NaN</td>\n",
       "      <td>1</td>\n",
       "      <td>It cosmetics Bye Bye Foundation Full Coverage ...</td>\n",
       "      <td>dark sample bye foundation moisturizer</td>\n",
       "      <td>missing</td>\n",
       "      <td>beauty/fragrance/women</td>\n",
       "      <td>beauty</td>\n",
       "      <td>fragrance</td>\n",
       "      <td>women</td>\n",
       "      <td>cosmetics bye bye foundation full coverage moi...</td>\n",
       "    </tr>\n",
       "    <tr>\n",
       "      <th>3460721</th>\n",
       "      <td>bundle for @brandystash</td>\n",
       "      <td>2</td>\n",
       "      <td>Women/Pants/Other</td>\n",
       "      <td>NaN</td>\n",
       "      <td>1</td>\n",
       "      <td>♡2 pairs of omighty trackiez. one m and one s....</td>\n",
       "      <td>bundle brandystash</td>\n",
       "      <td>missing</td>\n",
       "      <td>women/pant/other</td>\n",
       "      <td>women</td>\n",
       "      <td>pant</td>\n",
       "      <td>other</td>\n",
       "      <td>2 pairs omighty trackiez one one prettiest pinks</td>\n",
       "    </tr>\n",
       "    <tr>\n",
       "      <th>3460722</th>\n",
       "      <td>Toddler High-top Converse</td>\n",
       "      <td>3</td>\n",
       "      <td>Kids/Girls 0-24 Mos/Shoes</td>\n",
       "      <td>Nike</td>\n",
       "      <td>0</td>\n",
       "      <td>Size 5 (toddler). Pink high top converse shoes...</td>\n",
       "      <td>toddler hightop converse</td>\n",
       "      <td>nike</td>\n",
       "      <td>kid/girl 024 mo/shoes</td>\n",
       "      <td>kid</td>\n",
       "      <td>girl 024 mo</td>\n",
       "      <td>shoes</td>\n",
       "      <td>size 5 toddler pink high top converse shoes st...</td>\n",
       "    </tr>\n",
       "    <tr>\n",
       "      <th>3460723</th>\n",
       "      <td>Yoga Sling Sandals</td>\n",
       "      <td>1</td>\n",
       "      <td>Women/Shoes/Sandals</td>\n",
       "      <td>Sanuk</td>\n",
       "      <td>1</td>\n",
       "      <td>super super comfy. i have a pair but ordered t...</td>\n",
       "      <td>yoga sling sandals</td>\n",
       "      <td>sanuk</td>\n",
       "      <td>women/shoe/sandals</td>\n",
       "      <td>women</td>\n",
       "      <td>shoe</td>\n",
       "      <td>sandals</td>\n",
       "      <td>super super comfy pair ordered small brand new</td>\n",
       "    </tr>\n",
       "    <tr>\n",
       "      <th>3460724</th>\n",
       "      <td>Stylish ladies M/M insulated brown coat</td>\n",
       "      <td>3</td>\n",
       "      <td>Women/Coats &amp; Jackets/Other</td>\n",
       "      <td>NaN</td>\n",
       "      <td>1</td>\n",
       "      <td>100% Genuine leather and faux fur insulated co...</td>\n",
       "      <td>stylish ladies mm insulated brown coat</td>\n",
       "      <td>mm</td>\n",
       "      <td>women/coat jacket/other</td>\n",
       "      <td>women</td>\n",
       "      <td>coat jacket</td>\n",
       "      <td>other</td>\n",
       "      <td>100 genuine leather faux fur insulated coat ge...</td>\n",
       "    </tr>\n",
       "  </tbody>\n",
       "</table>\n",
       "<p>3460725 rows × 13 columns</p>\n",
       "</div>"
      ],
      "text/plain": [
       "                                             name  item_condition_id  \\\n",
       "test_id                                                                \n",
       "0        Breast cancer \"I fight like a girl\" ring                  1   \n",
       "1        25 pcs NEW 7.5\"x12\" Kraft Bubble Mailers                  1   \n",
       "2                                       Coach bag                  1   \n",
       "3                                   Floral Kimono                  2   \n",
       "4                                Life after Death                  3   \n",
       "...                                           ...                ...   \n",
       "3460720    DARK SAMPLE BYE FOUNDATION MOISTURIZER                  1   \n",
       "3460721                   bundle for @brandystash                  2   \n",
       "3460722                 Toddler High-top Converse                  3   \n",
       "3460723                        Yoga Sling Sandals                  1   \n",
       "3460724   Stylish ladies M/M insulated brown coat                  3   \n",
       "\n",
       "                                          category_name brand_name  shipping  \\\n",
       "test_id                                                                        \n",
       "0                                   Women/Jewelry/Rings        NaN         1   \n",
       "1               Other/Office supplies/Shipping Supplies        NaN         1   \n",
       "2        Vintage & Collectibles/Bags and Purses/Handbag      Coach         1   \n",
       "3                               Women/Sweaters/Cardigan        NaN         0   \n",
       "4                   Other/Books/Religion & Spirituality        NaN         1   \n",
       "...                                                 ...        ...       ...   \n",
       "3460720                          Beauty/Fragrance/Women        NaN         1   \n",
       "3460721                               Women/Pants/Other        NaN         1   \n",
       "3460722                       Kids/Girls 0-24 Mos/Shoes       Nike         0   \n",
       "3460723                             Women/Shoes/Sandals      Sanuk         1   \n",
       "3460724                     Women/Coats & Jackets/Other        NaN         1   \n",
       "\n",
       "                                          item_description  \\\n",
       "test_id                                                      \n",
       "0                                                   Size 7   \n",
       "1        25 pcs NEW 7.5\"x12\" Kraft Bubble Mailers Lined...   \n",
       "2        Brand new coach bag. Bought for [rm] at a Coac...   \n",
       "3        -floral kimono -never worn -lightweight and pe...   \n",
       "4        Rediscovering life after the loss of a loved o...   \n",
       "...                                                    ...   \n",
       "3460720  It cosmetics Bye Bye Foundation Full Coverage ...   \n",
       "3460721  ♡2 pairs of omighty trackiez. one m and one s....   \n",
       "3460722  Size 5 (toddler). Pink high top converse shoes...   \n",
       "3460723  super super comfy. i have a pair but ordered t...   \n",
       "3460724  100% Genuine leather and faux fur insulated co...   \n",
       "\n",
       "                                 name_processed brand_name_processed  \\\n",
       "test_id                                                                \n",
       "0            breast cancer fight like girl ring                 ring   \n",
       "1         25 pcs new 75x12 kraft bubble mailers              missing   \n",
       "2                                     coach bag                coach   \n",
       "3                                 floral kimono              missing   \n",
       "4                                    life death              missing   \n",
       "...                                         ...                  ...   \n",
       "3460720  dark sample bye foundation moisturizer              missing   \n",
       "3460721                      bundle brandystash              missing   \n",
       "3460722                toddler hightop converse                 nike   \n",
       "3460723                      yoga sling sandals                sanuk   \n",
       "3460724  stylish ladies mm insulated brown coat                   mm   \n",
       "\n",
       "                        category_name_preprocessed               Tier_1  \\\n",
       "test_id                                                                   \n",
       "0                              women/jewelry/rings                women   \n",
       "1           other/office supplie/shipping supplies                other   \n",
       "2        vintage collectible/bag and purse/handbag  vintage collectible   \n",
       "3                           women/sweater/cardigan                women   \n",
       "4                 other/book/religion spirituality                other   \n",
       "...                                            ...                  ...   \n",
       "3460720                     beauty/fragrance/women               beauty   \n",
       "3460721                           women/pant/other                women   \n",
       "3460722                      kid/girl 024 mo/shoes                  kid   \n",
       "3460723                         women/shoe/sandals                women   \n",
       "3460724                    women/coat jacket/other                women   \n",
       "\n",
       "                 Tier_2                 Tier_3  \\\n",
       "test_id                                          \n",
       "0               jewelry                  rings   \n",
       "1        office supplie      shipping supplies   \n",
       "2         bag and purse                handbag   \n",
       "3               sweater               cardigan   \n",
       "4                  book  religion spirituality   \n",
       "...                 ...                    ...   \n",
       "3460720       fragrance                  women   \n",
       "3460721            pant                  other   \n",
       "3460722     girl 024 mo                  shoes   \n",
       "3460723            shoe                sandals   \n",
       "3460724     coat jacket                  other   \n",
       "\n",
       "                                processed_item_description  \n",
       "test_id                                                     \n",
       "0                                                   size 7  \n",
       "1        25 pcs new 75x12 kraft bubble mailers lined bu...  \n",
       "2                  brand new coach bag bought coach outlet  \n",
       "3        floral kimono never worn lightweight perfect h...  \n",
       "4        rediscovering life loss loved one tony cooke p...  \n",
       "...                                                    ...  \n",
       "3460720  cosmetics bye bye foundation full coverage moi...  \n",
       "3460721   2 pairs omighty trackiez one one prettiest pinks  \n",
       "3460722  size 5 toddler pink high top converse shoes st...  \n",
       "3460723     super super comfy pair ordered small brand new  \n",
       "3460724  100 genuine leather faux fur insulated coat ge...  \n",
       "\n",
       "[3460725 rows x 13 columns]"
      ]
     },
     "execution_count": 3,
     "metadata": {},
     "output_type": "execute_result"
    }
   ],
   "source": [
    "# LOADING THE TEST DATASET\n",
    "df_test= pd.read_csv(\"test_processed.csv\",index_col = [\"test_id\"])\n",
    "df_test"
   ]
  },
  {
   "cell_type": "markdown",
   "id": "269d6e9c",
   "metadata": {},
   "source": [
    "## Test train split"
   ]
  },
  {
   "cell_type": "code",
   "execution_count": 4,
   "id": "ed96b20d",
   "metadata": {},
   "outputs": [],
   "source": [
    "'''SPLITTING THE DATASET'''\n",
    "\n",
    "df_train,df_val = train_test_split(df,test_size=0.1,random_state = 3) "
   ]
  },
  {
   "cell_type": "code",
   "execution_count": 5,
   "id": "f4352a6b",
   "metadata": {},
   "outputs": [
    {
     "name": "stdout",
     "output_type": "stream",
     "text": [
      "Train Shape =  (1334281, 15)\n",
      "Validation Shape =  (148254, 15)\n"
     ]
    }
   ],
   "source": [
    "print(\"Train Shape = \",df_train.shape)\n",
    "print(\"Validation Shape = \",df_val.shape)"
   ]
  },
  {
   "cell_type": "markdown",
   "id": "63c987a1",
   "metadata": {},
   "source": [
    "### Values of Y"
   ]
  },
  {
   "cell_type": "code",
   "execution_count": 6,
   "id": "61c754ca",
   "metadata": {},
   "outputs": [],
   "source": [
    "y_train = df_train.log_price\n",
    "y_val = df_val.log_price"
   ]
  },
  {
   "cell_type": "markdown",
   "id": "ab152dbd",
   "metadata": {},
   "source": [
    "## 1. item_condition_id"
   ]
  },
  {
   "cell_type": "code",
   "execution_count": 7,
   "id": "34e27b1f",
   "metadata": {},
   "outputs": [],
   "source": [
    "'''KEEPING THE ITEM CONDITON IS SAME '''\n",
    "\n",
    "train_item_cond = df_train.item_condition_id\n",
    "val_item_cond = df_val.item_condition_id\n",
    "test_item_cond = df_test.item_condition_id"
   ]
  },
  {
   "cell_type": "markdown",
   "id": "97c97761",
   "metadata": {},
   "source": [
    "## 2. shipping"
   ]
  },
  {
   "cell_type": "code",
   "execution_count": 8,
   "id": "bd759b6a",
   "metadata": {},
   "outputs": [],
   "source": [
    "'''KEPPING THE SHIPPING SAME'''\n",
    "train_shipping = df_train.shipping\n",
    "val_shipping = df_val.shipping\n",
    "test_shipping = df_test.shipping"
   ]
  },
  {
   "cell_type": "markdown",
   "id": "f3e74d8e",
   "metadata": {},
   "source": [
    "### FUNCTION FOR TOKENIZING AND PADDING FEATURE"
   ]
  },
  {
   "cell_type": "code",
   "execution_count": 9,
   "id": "05a57c4e",
   "metadata": {},
   "outputs": [],
   "source": [
    "'''THIS FUNCTION TOKENIZES AND PADS THE FEATURE'''\n",
    "\n",
    "def text_vectorizer(feature):\n",
    "    # TOKENIZER\n",
    "    tk = Tokenizer()\n",
    "    # FIT ON TRAIN \n",
    "    tk.fit_on_texts(df_train[feature].apply(str))\n",
    "    # TOKENIZES THE TRAIN DATASET\n",
    "    tk_train = tk.texts_to_sequences(df_train[feature].apply(str))\n",
    "    # TOKENIZES THE VALIDATION DATASET\n",
    "    tk_val = tk.texts_to_sequences(df_val[feature].apply(str))\n",
    "    \n",
    "    # COMPUTES THE MAX LENGTH\n",
    "    max_length = df_train[feature].apply(lambda x :len(str(x).split())).max()\n",
    "    \n",
    "    # COMPUTE THE VOCAB SIZE\n",
    "    vocab_size = len(tk.word_index) + 1\n",
    "    \n",
    "    # PADDING THE TRAIN SEQUENCES\n",
    "    train_pad= pad_sequences(tk_train,padding=\"post\",maxlen = max_length)\n",
    "    # PADDING THE VALIDATION SEQUENCES\n",
    "    val_pad = pad_sequences(tk_val,padding = \"post\", maxlen = max_length)\n",
    "    \n",
    "    # RETURN THE TOKENIZER, MAX LENGTH , PADDED TRAIN SEQUENCES , PADDED VALIDATION SEQUENCES \n",
    "    return tk , max_length,vocab_size, train_pad , val_pad "
   ]
  },
  {
   "cell_type": "markdown",
   "id": "8b1bcfd9",
   "metadata": {},
   "source": [
    "## 3. brand_name"
   ]
  },
  {
   "cell_type": "code",
   "execution_count": 10,
   "id": "15442e4d",
   "metadata": {},
   "outputs": [],
   "source": [
    "'''TOKENIZING BRAND NAME AND PADDING '''\n",
    "\n",
    "tk_brand_name,max_length_brand_name,vocab_size_brand_name,train_brand_name_pad , val_brand_name_pad = text_vectorizer(\"brand_name_processed\")"
   ]
  },
  {
   "cell_type": "code",
   "execution_count": 11,
   "id": "2d7137bc",
   "metadata": {},
   "outputs": [
    {
     "name": "stdout",
     "output_type": "stream",
     "text": [
      "Train Shape =  (1334281, 8)\n",
      "Validation Shape =  (148254, 8)\n"
     ]
    }
   ],
   "source": [
    "\n",
    "print(\"Train Shape = \",train_brand_name_pad.shape)\n",
    "print(\"Validation Shape = \",val_brand_name_pad.shape )"
   ]
  },
  {
   "cell_type": "code",
   "execution_count": 12,
   "id": "25ad54e0",
   "metadata": {},
   "outputs": [
    {
     "name": "stdout",
     "output_type": "stream",
     "text": [
      "Max Length =  8\n",
      "Vocal Size=  5037\n"
     ]
    }
   ],
   "source": [
    "print(\"Max Length = \", max_length_brand_name)\n",
    "print(\"Vocal Size= \",vocab_size_brand_name)"
   ]
  },
  {
   "cell_type": "code",
   "execution_count": 13,
   "id": "ff931565",
   "metadata": {},
   "outputs": [
    {
     "data": {
      "text/plain": [
       "(3460725, 8)"
      ]
     },
     "execution_count": 13,
     "metadata": {},
     "output_type": "execute_result"
    }
   ],
   "source": [
    "\n",
    "'''TOKENIZING BRAND NAME FOR TEST DATA'''\n",
    "\n",
    "test_brand_name_pad = pad_sequences(tk_brand_name.texts_to_sequences(df_test.brand_name_processed),maxlen=max_length_brand_name,padding=\"post\")\n",
    "test_brand_name_pad.shape"
   ]
  },
  {
   "cell_type": "markdown",
   "id": "5a421752",
   "metadata": {},
   "source": [
    "## 4. Tier_1"
   ]
  },
  {
   "cell_type": "code",
   "execution_count": 14,
   "id": "bb31127b",
   "metadata": {},
   "outputs": [],
   "source": [
    "'''TOKENIZING TIER 1 AND PADDING '''\n",
    "\n",
    "tk_tier1 , max_length_tier1 ,vocab_size_tier1,train_tier1_pad , val_tier1_pad = text_vectorizer(\"Tier_1\")"
   ]
  },
  {
   "cell_type": "code",
   "execution_count": 15,
   "id": "85648e1f",
   "metadata": {},
   "outputs": [
    {
     "name": "stdout",
     "output_type": "stream",
     "text": [
      "Trian Shape =  (1334281, 2)\n",
      "Validation Shape = (148254, 2)\n"
     ]
    }
   ],
   "source": [
    "print(\"Trian Shape = \",train_tier1_pad.shape)\n",
    "\n",
    "print(\"Validation Shape =\",val_tier1_pad.shape)"
   ]
  },
  {
   "cell_type": "code",
   "execution_count": 16,
   "id": "332f6871",
   "metadata": {},
   "outputs": [
    {
     "name": "stdout",
     "output_type": "stream",
     "text": [
      "Max Length =  2\n",
      "Vocal Size=  14\n"
     ]
    }
   ],
   "source": [
    "print(\"Max Length = \", max_length_tier1)\n",
    "print(\"Vocal Size= \",vocab_size_tier1)"
   ]
  },
  {
   "cell_type": "code",
   "execution_count": 17,
   "id": "345acb71",
   "metadata": {},
   "outputs": [
    {
     "data": {
      "text/plain": [
       "(3460725, 2)"
      ]
     },
     "execution_count": 17,
     "metadata": {},
     "output_type": "execute_result"
    }
   ],
   "source": [
    "'''TOKEIZING AND PADDING TIER1 FOR TEST DATASET'''\n",
    "\n",
    "test_tier1_pad = pad_sequences(tk_tier1.texts_to_sequences(df_test.Tier_1),maxlen=max_length_tier1,padding=\"post\")\n",
    "test_tier1_pad.shape"
   ]
  },
  {
   "cell_type": "markdown",
   "id": "8948165d",
   "metadata": {},
   "source": [
    "## 5. Tier_2"
   ]
  },
  {
   "cell_type": "code",
   "execution_count": 18,
   "id": "f0e56661",
   "metadata": {},
   "outputs": [
    {
     "name": "stdout",
     "output_type": "stream",
     "text": [
      "Trian Shape = = (1334281, 4)\n",
      "Validation Shape =  (148254, 4)\n",
      "Max Length =  4\n",
      "Vocal Size=  138\n"
     ]
    }
   ],
   "source": [
    "'''TOKEIZING AND PADDING TIER2 FOR TRAIN AND VALIDATION DATASET'''\n",
    "\n",
    "tk_tier2 , max_length_tier2 ,vocab_size_tier2,train_tier2_pad , val_tier2_pad = text_vectorizer(\"Tier_2\")\n",
    "\n",
    "print(\"Trian Shape = =\",train_tier2_pad.shape)\n",
    "\n",
    "print(\"Validation Shape = \",val_tier2_pad.shape)\n",
    "\n",
    "print(\"Max Length = \", max_length_tier2)\n",
    "print(\"Vocal Size= \",vocab_size_tier2)\n"
   ]
  },
  {
   "cell_type": "code",
   "execution_count": 19,
   "id": "5c2242b7",
   "metadata": {},
   "outputs": [
    {
     "data": {
      "text/plain": [
       "(3460725, 4)"
      ]
     },
     "execution_count": 19,
     "metadata": {},
     "output_type": "execute_result"
    }
   ],
   "source": [
    "'''TOKEIZING AND PADDING TIER2 FOR TEST DATASET'''\n",
    "\n",
    "test_tier2_pad = pad_sequences(tk_tier2.texts_to_sequences(df_test.Tier_2),maxlen=max_length_tier2,padding=\"post\")\n",
    "test_tier2_pad.shape\n"
   ]
  },
  {
   "cell_type": "markdown",
   "id": "4cae99d7",
   "metadata": {},
   "source": [
    "## 6. Tier_3 "
   ]
  },
  {
   "cell_type": "code",
   "execution_count": 20,
   "id": "09080f33",
   "metadata": {},
   "outputs": [],
   "source": [
    "'''TOKEIZING AND PADDING TIER3 FOR TRAIN AND VALIDATION DATASET'''\n",
    "\n",
    "tk_tier3 , max_length_tier3 ,vocab_size_tier3,train_tier3_pad , val_tier3_pad = text_vectorizer(\"Tier_3\")\n"
   ]
  },
  {
   "cell_type": "code",
   "execution_count": 21,
   "id": "7313914e",
   "metadata": {},
   "outputs": [
    {
     "name": "stdout",
     "output_type": "stream",
     "text": [
      "Trian Shape =  (1334281, 6)\n",
      "Validation Shape =  (148254, 6)\n"
     ]
    }
   ],
   "source": [
    "print(\"Trian Shape = \",train_tier3_pad.shape)\n",
    "\n",
    "print(\"Validation Shape = \",val_tier3_pad.shape)"
   ]
  },
  {
   "cell_type": "code",
   "execution_count": 22,
   "id": "710d1be5",
   "metadata": {},
   "outputs": [
    {
     "name": "stdout",
     "output_type": "stream",
     "text": [
      "Max Length =  6\n",
      "Vocal Size=  966\n"
     ]
    }
   ],
   "source": [
    "print(\"Max Length = \", max_length_tier3)\n",
    "print(\"Vocal Size= \",vocab_size_tier3)\n"
   ]
  },
  {
   "cell_type": "code",
   "execution_count": 23,
   "id": "3de0b0d1",
   "metadata": {},
   "outputs": [
    {
     "data": {
      "text/plain": [
       "(3460725, 6)"
      ]
     },
     "execution_count": 23,
     "metadata": {},
     "output_type": "execute_result"
    }
   ],
   "source": [
    "'''TOKEIZING AND PADDING TIER3 FOR TEST DATASET'''\n",
    "\n",
    "test_tier3_pad = pad_sequences(tk_tier3.texts_to_sequences(df_test.Tier_3),maxlen=max_length_tier3,padding=\"post\")\n",
    "test_tier3_pad.shape\n"
   ]
  },
  {
   "cell_type": "markdown",
   "id": "c0e27337",
   "metadata": {},
   "source": [
    "## 7. name_processed"
   ]
  },
  {
   "cell_type": "code",
   "execution_count": 24,
   "id": "f365dba7",
   "metadata": {},
   "outputs": [],
   "source": [
    "'''TOKEIZING AND PADDING NAME PROCESSED FOR TRAIN AND VALIDATION DATASET'''\n",
    "\n",
    "tk_name_processed , max_length_name_processed ,vocab_size_name_processed , train_name_processed_pad , val_name_processed_pad = text_vectorizer(\"name_processed\")"
   ]
  },
  {
   "cell_type": "code",
   "execution_count": 25,
   "id": "46fbf424",
   "metadata": {},
   "outputs": [
    {
     "name": "stdout",
     "output_type": "stream",
     "text": [
      "Trian Shape =  (1334281, 13)\n",
      "Validation Shape =  (148254, 13)\n"
     ]
    }
   ],
   "source": [
    "print(\"Trian Shape = \",train_name_processed_pad.shape)\n",
    "\n",
    "print(\"Validation Shape = \",val_name_processed_pad.shape)"
   ]
  },
  {
   "cell_type": "code",
   "execution_count": 26,
   "id": "e67af021",
   "metadata": {},
   "outputs": [
    {
     "name": "stdout",
     "output_type": "stream",
     "text": [
      "Max Length =  13\n",
      "Vocal Size=  129083\n"
     ]
    }
   ],
   "source": [
    "print(\"Max Length = \", max_length_name_processed)\n",
    "print(\"Vocal Size= \",vocab_size_name_processed)"
   ]
  },
  {
   "cell_type": "code",
   "execution_count": 27,
   "id": "7c32ac6c",
   "metadata": {},
   "outputs": [
    {
     "data": {
      "text/plain": [
       "(3460725, 13)"
      ]
     },
     "execution_count": 27,
     "metadata": {},
     "output_type": "execute_result"
    }
   ],
   "source": [
    "'''TOKEIZING AND PADDING NAME PROCESSED FOR TEST DATASET'''\n",
    "\n",
    "test_name_processed_pad = pad_sequences(tk_name_processed.texts_to_sequences(df_test.name_processed),maxlen=max_length_name_processed,padding=\"post\")\n",
    "test_name_processed_pad.shape"
   ]
  },
  {
   "cell_type": "markdown",
   "id": "1b508791",
   "metadata": {},
   "source": [
    "## 8.item_description"
   ]
  },
  {
   "cell_type": "code",
   "execution_count": 28,
   "id": "3da3981b",
   "metadata": {},
   "outputs": [],
   "source": [
    "'''TOKEIZING AND PADDING ITEM DESCRIPTION FOR TRAIN AND VALIDATION DATASET'''\n",
    "\n",
    "tk_desc , max_len_desc ,vocab_size_desc,train_desc_pad , val_desc_pad = text_vectorizer(\"processed_item_description\")"
   ]
  },
  {
   "cell_type": "code",
   "execution_count": 29,
   "id": "e5d27e7f",
   "metadata": {},
   "outputs": [
    {
     "name": "stdout",
     "output_type": "stream",
     "text": [
      "Trian Shape =  (1334281, 193)\n",
      "Validation Shape =  (148254, 193)\n"
     ]
    }
   ],
   "source": [
    "print(\"Trian Shape = \",train_desc_pad.shape)\n",
    "\n",
    "print(\"Validation Shape = \",val_desc_pad.shape)"
   ]
  },
  {
   "cell_type": "code",
   "execution_count": 30,
   "id": "27d97dd8",
   "metadata": {},
   "outputs": [
    {
     "name": "stdout",
     "output_type": "stream",
     "text": [
      "Max Length =  193\n",
      "Vocal Size=  264441\n"
     ]
    }
   ],
   "source": [
    "print(\"Max Length = \", max_len_desc)\n",
    "print(\"Vocal Size= \",vocab_size_desc)"
   ]
  },
  {
   "cell_type": "code",
   "execution_count": 31,
   "id": "19482be0",
   "metadata": {},
   "outputs": [
    {
     "data": {
      "text/plain": [
       "(3460725, 193)"
      ]
     },
     "execution_count": 31,
     "metadata": {},
     "output_type": "execute_result"
    }
   ],
   "source": [
    "'''TOKEIZING AND PADDING ITEM DESCRIPTION FOR TEST DATASET'''\n",
    "\n",
    "test_item_desc_pad = pad_sequences(tk_desc.texts_to_sequences(df_test.processed_item_description.astype(str)),maxlen=max_len_desc,padding=\"post\")\n",
    "test_item_desc_pad.shape"
   ]
  },
  {
   "cell_type": "markdown",
   "id": "c43d0094",
   "metadata": {},
   "source": [
    "## Values for Target"
   ]
  },
  {
   "cell_type": "code",
   "execution_count": 32,
   "id": "04dc6a59",
   "metadata": {},
   "outputs": [],
   "source": [
    "'''STORING THE LOG PRICES AS TARGET VALUES'''\n",
    "\n",
    "y_train = df_train.log_price\n",
    "y_val = df_val.log_price"
   ]
  },
  {
   "cell_type": "code",
   "execution_count": 33,
   "id": "aaf6a3f7",
   "metadata": {},
   "outputs": [],
   "source": [
    "'''STORING THE FEATURES IN LIST FORM'''\n",
    "\n",
    "# TRAIN FEATURES\n",
    "x_train = [train_item_cond,train_shipping,train_brand_name_pad,train_tier1_pad,train_tier2_pad,train_tier3_pad,train_name_processed_pad,train_desc_pad]\n",
    "# VALIDATION FEATURES\n",
    "x_val= [val_item_cond,val_shipping,val_brand_name_pad,val_tier1_pad,val_tier2_pad,val_tier3_pad,val_name_processed_pad,val_desc_pad]\n",
    "# TEST VALIDATION\n",
    "x_test= [test_item_cond,test_shipping,test_brand_name_pad,test_tier1_pad,test_tier2_pad,test_tier3_pad,test_name_processed_pad,test_item_desc_pad]"
   ]
  },
  {
   "cell_type": "markdown",
   "id": "329ba5c5",
   "metadata": {},
   "source": [
    "## Architecture "
   ]
  },
  {
   "cell_type": "code",
   "execution_count": 34,
   "id": "0dd7413f",
   "metadata": {},
   "outputs": [],
   "source": [
    "from tensorflow.keras.layers import LSTM\n",
    "from tensorflow.keras.layers import Dense"
   ]
  },
  {
   "cell_type": "code",
   "execution_count": 35,
   "id": "d759bd5d",
   "metadata": {},
   "outputs": [],
   "source": [
    "tf.keras.backend.clear_session()\n",
    "\n",
    "# ITEM CONDITION ID\n",
    "inp1 = layers.Input(shape=(1)) # INPUT 1 \n",
    "emb1  = layers.Embedding(6,10,input_length=1)(inp1) # EMBEDDING 1\n",
    "flat1 = layers.Flatten()(emb1) # FLATTEN\n",
    "\n",
    "\n",
    "# SHIPPING \n",
    "inp2 = layers.Input(shape=(1)) # INPUT 2 \n",
    "d2 = layers.Dense(10,activation=\"relu\")(inp2) # DENSE LAYER 2\n",
    "\n",
    "\n",
    "# BRAND NAME\n",
    "inp3 = layers.Input(shape= (8)) # INPUT 3\n",
    "emb3 = layers.Embedding(vocab_size_brand_name ,16 ,input_length= 8 )(inp3) # EMBEDDING 3\n",
    "flat3 = layers.Flatten()(emb3) # FLATTEN\n",
    "\n",
    "# Tier_1\n",
    "inp4 = layers.Input(shape = (2)) # INPUT 4\n",
    "emb4 = layers.Embedding(vocab_size_tier1, 16 , input_length=2 )(inp4) # EMBEDDING 4\n",
    "flat4 = layers.Flatten()(emb4) # FLATTEN \n",
    "\n",
    "# Tier_2\n",
    "inp5= layers.Input(shape = (4)) # INPUT 5\n",
    "emb5 = layers.Embedding(vocab_size_tier2 , 16 ,input_length= 4 )(inp5) # EMBEDDING 5\n",
    "flat5 = layers.Flatten()(emb5) # FLATTEN\n",
    "\n",
    "# Tier_3\n",
    "inp6= layers.Input(shape = (6)) # INPUT 6 \n",
    "emb6 = layers.Embedding(vocab_size_tier3, 16 ,input_length= 6 )(inp6) # EMBEDDING 6\n",
    "flat6 = layers.Flatten()(emb6) # FLATTEN\n",
    "\n",
    "# NAME PROCESSED\n",
    "inp7= layers.Input(shape = (13)) # INPUT 7\n",
    "emb7 = layers.Embedding(vocab_size_name_processed,20 ,input_length= 13 )(inp7) # EMBEDDING 7\n",
    "lstm7 = layers.GRU(64,return_sequences=True)(emb7) # GRU\n",
    "flat7 = layers.Flatten()(lstm7) # FLATTEN\n",
    "\n",
    "# ITEM DESCRIPTION\n",
    "inp8= layers.Input(shape = (193)) # INPUT 8 \n",
    "emb8 = layers.Embedding(vocab_size_desc , 40 , input_length= 193 )(inp8) # EMBEDDING 8\n",
    "lstm8 = layers.GRU(64,return_sequences=True)(emb8) # GRU\n",
    "flat8 = layers.Flatten()(lstm8) # FLATTEN\n",
    "\n",
    "# COCATINATE\n",
    "concat = layers.Concatenate()([flat1,d2,flat3,flat4,flat5,flat6,flat7,flat8])\n",
    "\n",
    "# DENSE LAYERS\n",
    "dense1 = layers.Dense(512,activation=\"relu\")(concat)\n",
    "# DROPOUT LAYER\n",
    "drop2 = layers.Dropout(0.2)(dense1)\n",
    "# DENSE LAYER\n",
    "dense2 = layers.Dense(256,activation=\"relu\")(drop2)\n",
    "# DROPOUT LAYER\n",
    "drop2 = layers.Dropout(0.3)(dense2)\n",
    "# DENSE LAYER\n",
    "dense3 = layers.Dense(128,activation=\"relu\")(drop2)\n",
    "# DROPOUT LAYER\n",
    "drop2 = layers.Dropout(0.4)(dense3)\n",
    "# BATCHNORM LAYER\n",
    "bn2  = layers.BatchNormalization()(drop2)\n",
    "# DENSE LAYER\n",
    "dense4 = layers.Dense(1,activation=\"linear\")(bn2)\n",
    "# MODEL\n",
    "model =  Model(inputs= [inp1,inp2,inp3,inp4,inp5,inp6,inp7,inp8],outputs=dense4)\n",
    "\n",
    "# SCHEDULE\n",
    "def shedule(epoch,lr):\n",
    "    if epoch<=2:\n",
    "        return lr\n",
    "    else:\n",
    "        return lr*0.1\n",
    "# CALLBACKS\n",
    "lr = tf.keras.callbacks.LearningRateScheduler(shedule,verbose=1)\n",
    "save = tf.keras.callbacks.ModelCheckpoint(\"best.h5\",monitor=\"val_root_mean_squared_error\",mode=\"min\",save_best_only=True, save_weights_only=True,verbose=1)\n",
    "earlystop = tf.keras.callbacks.EarlyStopping(monitor=\"val_root_mean_squared_error\",min_delta= 0.01, patience=2,mode=\"min\" )\n",
    "\n",
    "\n",
    "# COMPILING MODEL\n",
    "model.compile(optimizer=\"adam\",loss=\"mse\",metrics=  tf.keras.metrics.RootMeanSquaredError())"
   ]
  },
  {
   "cell_type": "code",
   "execution_count": 36,
   "id": "dca69295",
   "metadata": {},
   "outputs": [
    {
     "data": {
      "image/png": "[encoded data removed]",
      "text/plain": [
       "<IPython.core.display.Image object>"
      ]
     },
     "execution_count": 36,
     "metadata": {},
     "output_type": "execute_result"
    }
   ],
   "source": [
    "# PLOTTING THE MODEL ARCHITECTURE\n",
    "tf.keras.utils.plot_model(model,show_shapes=True)"
   ]
  },
  {
   "cell_type": "code",
   "execution_count": 37,
   "id": "6ab29dfa",
   "metadata": {},
   "outputs": [
    {
     "name": "stdout",
     "output_type": "stream",
     "text": [
      "\n",
      "Epoch 1: LearningRateScheduler setting learning rate to 0.0010000000474974513.\n",
      "Epoch 1/10\n",
      "13343/13343 [==============================] - ETA: 0s - loss: 0.2980 - root_mean_squared_error: 0.5459\n",
      "Epoch 1: val_root_mean_squared_error improved from inf to 0.45105, saving model to best.h5\n",
      "13343/13343 [==============================] - 7397s 554ms/step - loss: 0.2980 - root_mean_squared_error: 0.5459 - val_loss: 0.2034 - val_root_mean_squared_error: 0.4510 - lr: 0.0010\n",
      "\n",
      "Epoch 2: LearningRateScheduler setting learning rate to 0.0010000000474974513.\n",
      "Epoch 2/10\n",
      "13343/13343 [==============================] - ETA: 0s - loss: 0.2112 - root_mean_squared_error: 0.4596\n",
      "Epoch 2: val_root_mean_squared_error improved from 0.45105 to 0.43744, saving model to best.h5\n",
      "13343/13343 [==============================] - 4876s 365ms/step - loss: 0.2112 - root_mean_squared_error: 0.4596 - val_loss: 0.1914 - val_root_mean_squared_error: 0.4374 - lr: 0.0010\n",
      "\n",
      "Epoch 3: LearningRateScheduler setting learning rate to 0.0010000000474974513.\n",
      "Epoch 3/10\n",
      "13343/13343 [==============================] - ETA: 0s - loss: 0.1876 - root_mean_squared_error: 0.4331\n",
      "Epoch 3: val_root_mean_squared_error improved from 0.43744 to 0.43453, saving model to best.h5\n",
      "13343/13343 [==============================] - 4870s 365ms/step - loss: 0.1876 - root_mean_squared_error: 0.4331 - val_loss: 0.1888 - val_root_mean_squared_error: 0.4345 - lr: 0.0010\n",
      "\n",
      "Epoch 4: LearningRateScheduler setting learning rate to 0.00010000000474974513.\n",
      "Epoch 4/10\n",
      "13343/13343 [==============================] - ETA: 0s - loss: 0.1590 - root_mean_squared_error: 0.3987\n",
      "Epoch 4: val_root_mean_squared_error improved from 0.43453 to 0.43042, saving model to best.h5\n",
      "13343/13343 [==============================] - 5001s 375ms/step - loss: 0.1590 - root_mean_squared_error: 0.3987 - val_loss: 0.1853 - val_root_mean_squared_error: 0.4304 - lr: 1.0000e-04\n"
     ]
    },
    {
     "data": {
      "text/plain": [
       "<keras.callbacks.History at 0x259f0f15070>"
      ]
     },
     "execution_count": 37,
     "metadata": {},
     "output_type": "execute_result"
    }
   ],
   "source": [
    "# FITTING THE MODEL\n",
    "\n",
    "model.fit(x=x_train,y=y_train,validation_data=(x_val,y_val) ,epochs=10,batch_size = 100,callbacks=[save,lr,earlystop])"
   ]
  },
  {
   "cell_type": "code",
   "execution_count": 38,
   "id": "308b35ea",
   "metadata": {},
   "outputs": [],
   "source": [
    "# LOADING THE MODEL\n",
    "model.load_weights(\"best.h5\")"
   ]
  },
  {
   "cell_type": "code",
   "execution_count": 39,
   "id": "bb713926",
   "metadata": {},
   "outputs": [
    {
     "name": "stdout",
     "output_type": "stream",
     "text": [
      "149/149 [==============================] - 100s 669ms/step - loss: 0.1853 - root_mean_squared_error: 0.4304\n"
     ]
    },
    {
     "data": {
      "text/plain": [
       "[0.18526293337345123, 0.4304217994213104]"
      ]
     },
     "execution_count": 39,
     "metadata": {},
     "output_type": "execute_result"
    }
   ],
   "source": [
    "# EVALUATING THE MODEL\n",
    "model.evaluate(x_val,y_val,batch_size=1000)"
   ]
  },
  {
   "cell_type": "code",
   "execution_count": 40,
   "id": "b3150814",
   "metadata": {},
   "outputs": [],
   "source": [
    "# CONVERING THE LOG PRICE TO ACTUAL PRICE\n",
    "\n",
    "def log_to_actual(log):\n",
    "    return np.exp(log)-1"
   ]
  },
  {
   "cell_type": "code",
   "execution_count": 41,
   "id": "61c8f877",
   "metadata": {},
   "outputs": [
    {
     "name": "stdout",
     "output_type": "stream",
     "text": [
      "34608/34608 [==============================] - 3721s 107ms/step\n"
     ]
    }
   ],
   "source": [
    "#PREDICTING THE RESULTS FOR TEST DATASET\n",
    "x_test_pred = model.predict(x_test,batch_size=100,verbose=1)"
   ]
  },
  {
   "cell_type": "code",
   "execution_count": 42,
   "id": "c815e064",
   "metadata": {},
   "outputs": [
    {
     "data": {
      "text/html": [
       "<div>\n",
       "<style scoped>\n",
       "    .dataframe tbody tr th:only-of-type {\n",
       "        vertical-align: middle;\n",
       "    }\n",
       "\n",
       "    .dataframe tbody tr th {\n",
       "        vertical-align: top;\n",
       "    }\n",
       "\n",
       "    .dataframe thead th {\n",
       "        text-align: right;\n",
       "    }\n",
       "</style>\n",
       "<table border=\"1\" class=\"dataframe\">\n",
       "  <thead>\n",
       "    <tr style=\"text-align: right;\">\n",
       "      <th></th>\n",
       "      <th>price</th>\n",
       "    </tr>\n",
       "    <tr>\n",
       "      <th>test_id</th>\n",
       "      <th></th>\n",
       "    </tr>\n",
       "  </thead>\n",
       "  <tbody>\n",
       "    <tr>\n",
       "      <th>0</th>\n",
       "      <td>6.390642</td>\n",
       "    </tr>\n",
       "    <tr>\n",
       "      <th>1</th>\n",
       "      <td>11.139041</td>\n",
       "    </tr>\n",
       "    <tr>\n",
       "      <th>2</th>\n",
       "      <td>62.286510</td>\n",
       "    </tr>\n",
       "    <tr>\n",
       "      <th>3</th>\n",
       "      <td>13.519403</td>\n",
       "    </tr>\n",
       "    <tr>\n",
       "      <th>4</th>\n",
       "      <td>8.180624</td>\n",
       "    </tr>\n",
       "    <tr>\n",
       "      <th>...</th>\n",
       "      <td>...</td>\n",
       "    </tr>\n",
       "    <tr>\n",
       "      <th>3460720</th>\n",
       "      <td>8.792973</td>\n",
       "    </tr>\n",
       "    <tr>\n",
       "      <th>3460721</th>\n",
       "      <td>52.275242</td>\n",
       "    </tr>\n",
       "    <tr>\n",
       "      <th>3460722</th>\n",
       "      <td>17.846046</td>\n",
       "    </tr>\n",
       "    <tr>\n",
       "      <th>3460723</th>\n",
       "      <td>18.835268</td>\n",
       "    </tr>\n",
       "    <tr>\n",
       "      <th>3460724</th>\n",
       "      <td>25.819859</td>\n",
       "    </tr>\n",
       "  </tbody>\n",
       "</table>\n",
       "<p>3460725 rows × 1 columns</p>\n",
       "</div>"
      ],
      "text/plain": [
       "             price\n",
       "test_id           \n",
       "0         6.390642\n",
       "1        11.139041\n",
       "2        62.286510\n",
       "3        13.519403\n",
       "4         8.180624\n",
       "...            ...\n",
       "3460720   8.792973\n",
       "3460721  52.275242\n",
       "3460722  17.846046\n",
       "3460723  18.835268\n",
       "3460724  25.819859\n",
       "\n",
       "[3460725 rows x 1 columns]"
      ]
     },
     "execution_count": 42,
     "metadata": {},
     "output_type": "execute_result"
    }
   ],
   "source": [
    "# CONVERTIN THE LOG PRICE TO ACTUL PRICE\n",
    "\n",
    "test_predict_lstm = pd.DataFrame(log_to_actual(x_test_pred),columns=[\"price\"])\n",
    "test_predict_lstm.index = df_test.index\n",
    "test_predict_lstm"
   ]
  },
  {
   "cell_type": "code",
   "execution_count": 43,
   "id": "c42e7399",
   "metadata": {},
   "outputs": [],
   "source": [
    "# STORING THE PREDICTED PRICES \n",
    "\n",
    "test_predict_lstm.to_csv(\"test_predict_lstm.csv\")"
   ]
  },
  {
   "cell_type": "markdown",
   "id": "57990a7a",
   "metadata": {},
   "source": [
    "## Model Comparision"
   ]
  },
  {
   "cell_type": "code",
   "execution_count": 44,
   "id": "21548450",
   "metadata": {},
   "outputs": [
    {
     "data": {
      "text/html": [
       "<div>\n",
       "<style scoped>\n",
       "    .dataframe tbody tr th:only-of-type {\n",
       "        vertical-align: middle;\n",
       "    }\n",
       "\n",
       "    .dataframe tbody tr th {\n",
       "        vertical-align: top;\n",
       "    }\n",
       "\n",
       "    .dataframe thead th {\n",
       "        text-align: right;\n",
       "    }\n",
       "</style>\n",
       "<table border=\"1\" class=\"dataframe\">\n",
       "  <thead>\n",
       "    <tr style=\"text-align: right;\">\n",
       "      <th></th>\n",
       "      <th>Model</th>\n",
       "      <th>Feature Type</th>\n",
       "      <th>Best Param</th>\n",
       "      <th>Train Error</th>\n",
       "      <th>Validation Error</th>\n",
       "      <th>Test Error</th>\n",
       "    </tr>\n",
       "  </thead>\n",
       "  <tbody>\n",
       "    <tr>\n",
       "      <th>0</th>\n",
       "      <td>Benchmark</td>\n",
       "      <td>-</td>\n",
       "      <td>-</td>\n",
       "      <td>0.7267</td>\n",
       "      <td>0.7254</td>\n",
       "      <td>0.72753</td>\n",
       "    </tr>\n",
       "    <tr>\n",
       "      <th>1</th>\n",
       "      <td>Lasso</td>\n",
       "      <td>Label Endoing+Word2Vec</td>\n",
       "      <td>0.00001</td>\n",
       "      <td>0.6044</td>\n",
       "      <td>0.6037</td>\n",
       "      <td>0.60518</td>\n",
       "    </tr>\n",
       "    <tr>\n",
       "      <th>2</th>\n",
       "      <td>Ridge</td>\n",
       "      <td>Label Endoing+Word2Vec</td>\n",
       "      <td>10</td>\n",
       "      <td>0.6044</td>\n",
       "      <td>0.6037</td>\n",
       "      <td>0.60518</td>\n",
       "    </tr>\n",
       "    <tr>\n",
       "      <th>3</th>\n",
       "      <td>Decision Tree</td>\n",
       "      <td>Label Endoing+Word2Vec</td>\n",
       "      <td>10</td>\n",
       "      <td>0.6231</td>\n",
       "      <td>0.6311</td>\n",
       "      <td>0.63700</td>\n",
       "    </tr>\n",
       "    <tr>\n",
       "      <th>4</th>\n",
       "      <td>Light GBM</td>\n",
       "      <td>Label Endoing+Word2Vec</td>\n",
       "      <td>1200</td>\n",
       "      <td>0.4778</td>\n",
       "      <td>0.4992</td>\n",
       "      <td>0.50050</td>\n",
       "    </tr>\n",
       "    <tr>\n",
       "      <th>5</th>\n",
       "      <td>linear Regression</td>\n",
       "      <td>One hot endoding + Tfidf</td>\n",
       "      <td>-</td>\n",
       "      <td>0.4240</td>\n",
       "      <td>0.4620</td>\n",
       "      <td>0.46210</td>\n",
       "    </tr>\n",
       "    <tr>\n",
       "      <th>6</th>\n",
       "      <td>Ridge</td>\n",
       "      <td>One hot endoding + Tfidf</td>\n",
       "      <td>10</td>\n",
       "      <td>0.4413</td>\n",
       "      <td>0.4581</td>\n",
       "      <td>0.45831</td>\n",
       "    </tr>\n",
       "    <tr>\n",
       "      <th>7</th>\n",
       "      <td>Deep Learning</td>\n",
       "      <td>Embedding</td>\n",
       "      <td>-</td>\n",
       "      <td>0.3966</td>\n",
       "      <td>0.4328</td>\n",
       "      <td>0.43311</td>\n",
       "    </tr>\n",
       "  </tbody>\n",
       "</table>\n",
       "</div>"
      ],
      "text/plain": [
       "               Model              Feature Type Best Param  Train Error  \\\n",
       "0          Benchmark                         -          -       0.7267   \n",
       "1              Lasso    Label Endoing+Word2Vec    0.00001       0.6044   \n",
       "2              Ridge    Label Endoing+Word2Vec         10       0.6044   \n",
       "3      Decision Tree    Label Endoing+Word2Vec         10       0.6231   \n",
       "4          Light GBM    Label Endoing+Word2Vec       1200       0.4778   \n",
       "5  linear Regression  One hot endoding + Tfidf          -       0.4240   \n",
       "6              Ridge  One hot endoding + Tfidf         10       0.4413   \n",
       "7      Deep Learning                 Embedding          -       0.3966   \n",
       "\n",
       "   Validation Error  Test Error  \n",
       "0            0.7254     0.72753  \n",
       "1            0.6037     0.60518  \n",
       "2            0.6037     0.60518  \n",
       "3            0.6311     0.63700  \n",
       "4            0.4992     0.50050  \n",
       "5            0.4620     0.46210  \n",
       "6            0.4581     0.45831  \n",
       "7            0.4328     0.43311  "
      ]
     },
     "execution_count": 44,
     "metadata": {},
     "output_type": "execute_result"
    }
   ],
   "source": [
    "'''COMPARISON OF ALL MODELS'''\n",
    "\n",
    "res = pd.DataFrame()\n",
    "res[\"Model\"] = [\"Benchmark\",\"Lasso\",\"Ridge\",\"Decision Tree\",\"Light GBM\",\"linear Regression\",\"Ridge\",\"Deep Learning\"]\n",
    "res[\"Feature Type\"] = [\"-\",\"Label Endoing+Word2Vec\",\"Label Endoing+Word2Vec\",\"Label Endoing+Word2Vec\",\"Label Endoing+Word2Vec\",\"One hot endoding + Tfidf\", \"One hot endoding + Tfidf\",\"Embedding\"]\n",
    "res[\"Best Param\"] = [\"-\",1e-5,10,10,1200,\"-\",10,\"-\"]\n",
    "res[\"Train Error\"] = [0.7267,0.6044,0.6044,0.6231,0.4778,0.4240,0.4413,0.3966]\n",
    "res[\"Validation Error\"] = [0.7254,0.6037,0.6037,0.6311,0.4992,0.4620,0.4581,0.4328]\n",
    "res[\"Test Error\"] = [0.72753,0.60518,0.60518,0.6370,0.50050,0.46210,0.45831,0.43311]\n",
    "res"
   ]
  },
  {
   "cell_type": "markdown",
   "id": "8489d12a",
   "metadata": {},
   "source": [
    "## Observation:"
   ]
  },
  {
   "cell_type": "markdown",
   "id": "6d51f2ac",
   "metadata": {},
   "source": [
    "- The best model is Deep Learning Model\n",
    "- Machine Learning models give decent values of performance metric "
   ]
  }
 ],
 "metadata": {
  "kernelspec": {
   "display_name": "Python 3",
   "language": "python",
   "name": "python3"
  },
  "language_info": {
   "codemirror_mode": {
    "name": "ipython",
    "version": 3
   },
   "file_extension": ".py",
   "mimetype": "text/x-python",
   "name": "python",
   "nbconvert_exporter": "python",
   "pygments_lexer": "ipython3",
   "version": "3.8.8"
  }
 },
 "nbformat": 4,
 "nbformat_minor": 5
}

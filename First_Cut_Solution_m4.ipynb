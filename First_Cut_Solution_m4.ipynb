{
 "cells": [
  {
   "cell_type": "code",
   "execution_count": 1,
   "id": "8a483866",
   "metadata": {},
   "outputs": [
    {
     "name": "stdout",
     "output_type": "stream",
     "text": [
      "Requirement already satisfied: xgboost in c:\\programdata\\anaconda3\\lib\\site-packages (1.7.1)\n",
      "Requirement already satisfied: numpy in c:\\programdata\\anaconda3\\lib\\site-packages (from xgboost) (1.20.1)\n",
      "Requirement already satisfied: scipy in c:\\programdata\\anaconda3\\lib\\site-packages (from xgboost) (1.6.2)\n"
     ]
    },
    {
     "name": "stderr",
     "output_type": "stream",
     "text": [
      "WARNING: Ignoring invalid distribution -portlib-metadata (c:\\programdata\\anaconda3\\lib\\site-packages)\n",
      "WARNING: Ignoring invalid distribution -mportlib-metadata (c:\\programdata\\anaconda3\\lib\\site-packages)\n",
      "WARNING: Ignoring invalid distribution - (c:\\programdata\\anaconda3\\lib\\site-packages)\n",
      "WARNING: Ignoring invalid distribution -portlib-metadata (c:\\programdata\\anaconda3\\lib\\site-packages)\n",
      "WARNING: Ignoring invalid distribution -mportlib-metadata (c:\\programdata\\anaconda3\\lib\\site-packages)\n",
      "WARNING: Ignoring invalid distribution - (c:\\programdata\\anaconda3\\lib\\site-packages)\n",
      "WARNING: Ignoring invalid distribution -portlib-metadata (c:\\programdata\\anaconda3\\lib\\site-packages)\n",
      "WARNING: Ignoring invalid distribution -mportlib-metadata (c:\\programdata\\anaconda3\\lib\\site-packages)\n",
      "WARNING: Ignoring invalid distribution - (c:\\programdata\\anaconda3\\lib\\site-packages)\n",
      "WARNING: Ignoring invalid distribution -portlib-metadata (c:\\programdata\\anaconda3\\lib\\site-packages)\n",
      "WARNING: Ignoring invalid distribution -mportlib-metadata (c:\\programdata\\anaconda3\\lib\\site-packages)\n",
      "WARNING: Ignoring invalid distribution - (c:\\programdata\\anaconda3\\lib\\site-packages)\n",
      "\n",
      "[notice] A new release of pip available: 22.3.1 -> 23.0.1\n",
      "[notice] To update, run: python.exe -m pip install --upgrade pip\n"
     ]
    }
   ],
   "source": [
    "!pip install xgboost"
   ]
  },
  {
   "cell_type": "code",
   "execution_count": 2,
   "id": "ee7c6dd5",
   "metadata": {},
   "outputs": [
    {
     "name": "stdout",
     "output_type": "stream",
     "text": [
      "Collecting graphviz==0.18\n",
      "  Using cached graphviz-0.18-py3-none-any.whl (38 kB)\n",
      "Installing collected packages: graphviz\n",
      "  Attempting uninstall: graphviz\n",
      "    Found existing installation: graphviz 0.18\n",
      "    Uninstalling graphviz-0.18:\n",
      "      Successfully uninstalled graphviz-0.18\n",
      "Successfully installed graphviz-0.18\n"
     ]
    },
    {
     "name": "stderr",
     "output_type": "stream",
     "text": [
      "WARNING: Ignoring invalid distribution -portlib-metadata (c:\\programdata\\anaconda3\\lib\\site-packages)\n",
      "WARNING: Ignoring invalid distribution -mportlib-metadata (c:\\programdata\\anaconda3\\lib\\site-packages)\n",
      "WARNING: Ignoring invalid distribution - (c:\\programdata\\anaconda3\\lib\\site-packages)\n",
      "WARNING: Ignoring invalid distribution -portlib-metadata (c:\\programdata\\anaconda3\\lib\\site-packages)\n",
      "WARNING: Ignoring invalid distribution -mportlib-metadata (c:\\programdata\\anaconda3\\lib\\site-packages)\n",
      "WARNING: Ignoring invalid distribution - (c:\\programdata\\anaconda3\\lib\\site-packages)\n",
      "WARNING: Ignoring invalid distribution -portlib-metadata (c:\\programdata\\anaconda3\\lib\\site-packages)\n",
      "WARNING: Ignoring invalid distribution -mportlib-metadata (c:\\programdata\\anaconda3\\lib\\site-packages)\n",
      "WARNING: Ignoring invalid distribution - (c:\\programdata\\anaconda3\\lib\\site-packages)\n",
      "    WARNING: Ignoring invalid distribution -portlib-metadata (c:\\programdata\\anaconda3\\lib\\site-packages)\n",
      "    WARNING: Ignoring invalid distribution -mportlib-metadata (c:\\programdata\\anaconda3\\lib\\site-packages)\n",
      "    WARNING: Ignoring invalid distribution - (c:\\programdata\\anaconda3\\lib\\site-packages)\n",
      "WARNING: Ignoring invalid distribution -portlib-metadata (c:\\programdata\\anaconda3\\lib\\site-packages)\n",
      "WARNING: Ignoring invalid distribution -mportlib-metadata (c:\\programdata\\anaconda3\\lib\\site-packages)\n",
      "WARNING: Ignoring invalid distribution - (c:\\programdata\\anaconda3\\lib\\site-packages)\n",
      "WARNING: Ignoring invalid distribution -portlib-metadata (c:\\programdata\\anaconda3\\lib\\site-packages)\n",
      "WARNING: Ignoring invalid distribution -mportlib-metadata (c:\\programdata\\anaconda3\\lib\\site-packages)\n",
      "WARNING: Ignoring invalid distribution - (c:\\programdata\\anaconda3\\lib\\site-packages)\n",
      "\n",
      "[notice] A new release of pip available: 22.3.1 -> 23.0.1\n",
      "[notice] To update, run: python.exe -m pip install --upgrade pip\n"
     ]
    }
   ],
   "source": [
    "!pip install --force-reinstall graphviz==0.18"
   ]
  },
  {
   "cell_type": "code",
   "execution_count": 3,
   "id": "89c7e04c",
   "metadata": {},
   "outputs": [],
   "source": [
    "#LOADING THE REQUIERED LIBRARIES\n",
    "import pandas as pd\n",
    "import numpy as np\n",
    "import time\n",
    "from prettytable import PrettyTable\n",
    "import warnings\n",
    "warnings.filterwarnings('ignore')\n",
    "import re\n",
    "import seaborn as sns\n",
    "import matplotlib.pyplot as plt\n",
    "#from wordcloud import WordCloud, STOPWORDS\n",
    "from tqdm import tqdm\n",
    "from sklearn.preprocessing import OneHotEncoder\n",
    "from sklearn.model_selection import train_test_split\n",
    "from sklearn.feature_extraction.text import CountVectorizer,TfidfVectorizer\n",
    "from scipy.sparse import hstack\n",
    "from sklearn.linear_model import LinearRegression\n",
    "from sklearn.linear_model import SGDRegressor\n",
    "from sklearn.linear_model import Ridge\n",
    "from sklearn.linear_model import Lasso\n",
    "from sklearn.metrics import mean_squared_error\n",
    "from sklearn.model_selection import RandomizedSearchCV,GridSearchCV\n",
    "from scipy.stats import uniform\n",
    "from sklearn.preprocessing import LabelEncoder\n",
    "from sklearn.preprocessing import OrdinalEncoder\n",
    "from sklearn.tree import DecisionTreeRegressor\n",
    "from sklearn.ensemble import RandomForestRegressor\n",
    "import xgboost as xg\n",
    "from gensim.models import Word2Vec\n",
    "from lightgbm import LGBMRegressor"
   ]
  },
  {
   "cell_type": "code",
   "execution_count": 4,
   "id": "88f723ec",
   "metadata": {},
   "outputs": [
    {
     "data": {
      "text/html": [
       "<div>\n",
       "<style scoped>\n",
       "    .dataframe tbody tr th:only-of-type {\n",
       "        vertical-align: middle;\n",
       "    }\n",
       "\n",
       "    .dataframe tbody tr th {\n",
       "        vertical-align: top;\n",
       "    }\n",
       "\n",
       "    .dataframe thead th {\n",
       "        text-align: right;\n",
       "    }\n",
       "</style>\n",
       "<table border=\"1\" class=\"dataframe\">\n",
       "  <thead>\n",
       "    <tr style=\"text-align: right;\">\n",
       "      <th></th>\n",
       "      <th>name</th>\n",
       "      <th>item_condition_id</th>\n",
       "      <th>category_name</th>\n",
       "      <th>brand_name</th>\n",
       "      <th>price</th>\n",
       "      <th>shipping</th>\n",
       "      <th>item_description</th>\n",
       "      <th>log_price</th>\n",
       "      <th>name_processed</th>\n",
       "      <th>brand_name_processed</th>\n",
       "      <th>category_name_preprocessed</th>\n",
       "      <th>Tier_1</th>\n",
       "      <th>Tier_2</th>\n",
       "      <th>Tier_3</th>\n",
       "      <th>processed_item_description</th>\n",
       "    </tr>\n",
       "    <tr>\n",
       "      <th>train_id</th>\n",
       "      <th></th>\n",
       "      <th></th>\n",
       "      <th></th>\n",
       "      <th></th>\n",
       "      <th></th>\n",
       "      <th></th>\n",
       "      <th></th>\n",
       "      <th></th>\n",
       "      <th></th>\n",
       "      <th></th>\n",
       "      <th></th>\n",
       "      <th></th>\n",
       "      <th></th>\n",
       "      <th></th>\n",
       "      <th></th>\n",
       "    </tr>\n",
       "  </thead>\n",
       "  <tbody>\n",
       "    <tr>\n",
       "      <th>0</th>\n",
       "      <td>MLB Cincinnati Reds T Shirt Size XL</td>\n",
       "      <td>3</td>\n",
       "      <td>Men/Tops/T-shirts</td>\n",
       "      <td>NaN</td>\n",
       "      <td>10.0</td>\n",
       "      <td>1</td>\n",
       "      <td>No description yet</td>\n",
       "      <td>2.397895</td>\n",
       "      <td>mlb cincinnati reds shirt size xl</td>\n",
       "      <td>mlb</td>\n",
       "      <td>men/top/tshirts</td>\n",
       "      <td>men</td>\n",
       "      <td>top</td>\n",
       "      <td>tshirts</td>\n",
       "      <td>description yet</td>\n",
       "    </tr>\n",
       "    <tr>\n",
       "      <th>1</th>\n",
       "      <td>Razer BlackWidow Chroma Keyboard</td>\n",
       "      <td>3</td>\n",
       "      <td>Electronics/Computers &amp; Tablets/Components &amp; P...</td>\n",
       "      <td>Razer</td>\n",
       "      <td>52.0</td>\n",
       "      <td>0</td>\n",
       "      <td>This keyboard is in great condition and works ...</td>\n",
       "      <td>3.970292</td>\n",
       "      <td>razer blackwidow chroma keyboard</td>\n",
       "      <td>razer</td>\n",
       "      <td>electronic/computer tablet/component parts</td>\n",
       "      <td>electronic</td>\n",
       "      <td>computer tablet</td>\n",
       "      <td>component parts</td>\n",
       "      <td>keyboard great condition works like came box p...</td>\n",
       "    </tr>\n",
       "    <tr>\n",
       "      <th>2</th>\n",
       "      <td>AVA-VIV Blouse</td>\n",
       "      <td>1</td>\n",
       "      <td>Women/Tops &amp; Blouses/Blouse</td>\n",
       "      <td>Target</td>\n",
       "      <td>10.0</td>\n",
       "      <td>1</td>\n",
       "      <td>Adorable top with a hint of lace and a key hol...</td>\n",
       "      <td>2.397895</td>\n",
       "      <td>avaviv blouse</td>\n",
       "      <td>target</td>\n",
       "      <td>women/top blouse/blouse</td>\n",
       "      <td>women</td>\n",
       "      <td>top blouse</td>\n",
       "      <td>blouse</td>\n",
       "      <td>adorable top hint lace key hole back pale pink...</td>\n",
       "    </tr>\n",
       "    <tr>\n",
       "      <th>3</th>\n",
       "      <td>Leather Horse Statues</td>\n",
       "      <td>1</td>\n",
       "      <td>Home/Home Décor/Home Décor Accents</td>\n",
       "      <td>NaN</td>\n",
       "      <td>35.0</td>\n",
       "      <td>1</td>\n",
       "      <td>New with tags. Leather horses. Retail for [rm]...</td>\n",
       "      <td>3.583519</td>\n",
       "      <td>leather horse statues</td>\n",
       "      <td>missing</td>\n",
       "      <td>home/home dcor/home dcor accents</td>\n",
       "      <td>home</td>\n",
       "      <td>home dcor</td>\n",
       "      <td>home dcor accents</td>\n",
       "      <td>new tags leather horses retail stand foot high...</td>\n",
       "    </tr>\n",
       "    <tr>\n",
       "      <th>4</th>\n",
       "      <td>24K GOLD plated rose</td>\n",
       "      <td>1</td>\n",
       "      <td>Women/Jewelry/Necklaces</td>\n",
       "      <td>NaN</td>\n",
       "      <td>44.0</td>\n",
       "      <td>0</td>\n",
       "      <td>Complete with certificate of authenticity</td>\n",
       "      <td>3.806662</td>\n",
       "      <td>24k gold plated rose</td>\n",
       "      <td>missing</td>\n",
       "      <td>women/jewelry/necklaces</td>\n",
       "      <td>women</td>\n",
       "      <td>jewelry</td>\n",
       "      <td>necklaces</td>\n",
       "      <td>complete certificate authenticity</td>\n",
       "    </tr>\n",
       "    <tr>\n",
       "      <th>...</th>\n",
       "      <td>...</td>\n",
       "      <td>...</td>\n",
       "      <td>...</td>\n",
       "      <td>...</td>\n",
       "      <td>...</td>\n",
       "      <td>...</td>\n",
       "      <td>...</td>\n",
       "      <td>...</td>\n",
       "      <td>...</td>\n",
       "      <td>...</td>\n",
       "      <td>...</td>\n",
       "      <td>...</td>\n",
       "      <td>...</td>\n",
       "      <td>...</td>\n",
       "      <td>...</td>\n",
       "    </tr>\n",
       "    <tr>\n",
       "      <th>1482530</th>\n",
       "      <td>Free People Inspired Dress</td>\n",
       "      <td>2</td>\n",
       "      <td>Women/Dresses/Mid-Calf</td>\n",
       "      <td>Free People</td>\n",
       "      <td>20.0</td>\n",
       "      <td>1</td>\n",
       "      <td>Lace, says size small but fits medium perfectl...</td>\n",
       "      <td>3.044522</td>\n",
       "      <td>free people inspired dress</td>\n",
       "      <td>free people</td>\n",
       "      <td>women/dresse/midcalf</td>\n",
       "      <td>women</td>\n",
       "      <td>dresse</td>\n",
       "      <td>midcalf</td>\n",
       "      <td>lace says size small fits medium perfectly nev...</td>\n",
       "    </tr>\n",
       "    <tr>\n",
       "      <th>1482531</th>\n",
       "      <td>Little mermaid handmade dress</td>\n",
       "      <td>2</td>\n",
       "      <td>Kids/Girls 2T-5T/Dresses</td>\n",
       "      <td>Disney</td>\n",
       "      <td>14.0</td>\n",
       "      <td>0</td>\n",
       "      <td>Little mermaid handmade dress never worn size 2t</td>\n",
       "      <td>2.708050</td>\n",
       "      <td>little mermaid handmade dress</td>\n",
       "      <td>disney</td>\n",
       "      <td>kid/girl 2t5t/dresses</td>\n",
       "      <td>kid</td>\n",
       "      <td>girl 2t5t</td>\n",
       "      <td>dresses</td>\n",
       "      <td>little mermaid handmade dress never worn size 2t</td>\n",
       "    </tr>\n",
       "    <tr>\n",
       "      <th>1482532</th>\n",
       "      <td>21 day fix containers and eating plan</td>\n",
       "      <td>2</td>\n",
       "      <td>Sports &amp; Outdoors/Exercise/Fitness accessories</td>\n",
       "      <td>NaN</td>\n",
       "      <td>12.0</td>\n",
       "      <td>0</td>\n",
       "      <td>Used once or twice, still in great shape.</td>\n",
       "      <td>2.564949</td>\n",
       "      <td>21 day fix containers eating plan</td>\n",
       "      <td>missing</td>\n",
       "      <td>sport outdoor/exercise/fitnes accessories</td>\n",
       "      <td>sport outdoor</td>\n",
       "      <td>exercise</td>\n",
       "      <td>fitnes accessories</td>\n",
       "      <td>used twice still great shape</td>\n",
       "    </tr>\n",
       "    <tr>\n",
       "      <th>1482533</th>\n",
       "      <td>World markets lanterns</td>\n",
       "      <td>3</td>\n",
       "      <td>Home/Home Décor/Home Décor Accents</td>\n",
       "      <td>NaN</td>\n",
       "      <td>45.0</td>\n",
       "      <td>1</td>\n",
       "      <td>There is 2 of each one that you see! So 2 red ...</td>\n",
       "      <td>3.828641</td>\n",
       "      <td>world markets lanterns</td>\n",
       "      <td>missing</td>\n",
       "      <td>home/home dcor/home dcor accents</td>\n",
       "      <td>home</td>\n",
       "      <td>home dcor</td>\n",
       "      <td>home dcor accents</td>\n",
       "      <td>2 one see 2 red 2 orange 2 big red orange ones...</td>\n",
       "    </tr>\n",
       "    <tr>\n",
       "      <th>1482534</th>\n",
       "      <td>Brand new lux de ville wallet</td>\n",
       "      <td>1</td>\n",
       "      <td>Women/Women's Accessories/Wallets</td>\n",
       "      <td>NaN</td>\n",
       "      <td>22.0</td>\n",
       "      <td>0</td>\n",
       "      <td>New with tag, red with sparkle. Firm price, no...</td>\n",
       "      <td>3.135494</td>\n",
       "      <td>brand new lux de ville wallet</td>\n",
       "      <td>lux</td>\n",
       "      <td>women/women accessorie/wallets</td>\n",
       "      <td>women</td>\n",
       "      <td>women accessorie</td>\n",
       "      <td>wallets</td>\n",
       "      <td>new tag red sparkle firm price free shipping</td>\n",
       "    </tr>\n",
       "  </tbody>\n",
       "</table>\n",
       "<p>1482535 rows × 15 columns</p>\n",
       "</div>"
      ],
      "text/plain": [
       "                                           name  item_condition_id  \\\n",
       "train_id                                                             \n",
       "0           MLB Cincinnati Reds T Shirt Size XL                  3   \n",
       "1              Razer BlackWidow Chroma Keyboard                  3   \n",
       "2                                AVA-VIV Blouse                  1   \n",
       "3                         Leather Horse Statues                  1   \n",
       "4                          24K GOLD plated rose                  1   \n",
       "...                                         ...                ...   \n",
       "1482530              Free People Inspired Dress                  2   \n",
       "1482531           Little mermaid handmade dress                  2   \n",
       "1482532   21 day fix containers and eating plan                  2   \n",
       "1482533                  World markets lanterns                  3   \n",
       "1482534           Brand new lux de ville wallet                  1   \n",
       "\n",
       "                                              category_name   brand_name  \\\n",
       "train_id                                                                   \n",
       "0                                         Men/Tops/T-shirts          NaN   \n",
       "1         Electronics/Computers & Tablets/Components & P...        Razer   \n",
       "2                               Women/Tops & Blouses/Blouse       Target   \n",
       "3                        Home/Home Décor/Home Décor Accents          NaN   \n",
       "4                                   Women/Jewelry/Necklaces          NaN   \n",
       "...                                                     ...          ...   \n",
       "1482530                              Women/Dresses/Mid-Calf  Free People   \n",
       "1482531                            Kids/Girls 2T-5T/Dresses       Disney   \n",
       "1482532      Sports & Outdoors/Exercise/Fitness accessories          NaN   \n",
       "1482533                  Home/Home Décor/Home Décor Accents          NaN   \n",
       "1482534                   Women/Women's Accessories/Wallets          NaN   \n",
       "\n",
       "          price  shipping                                   item_description  \\\n",
       "train_id                                                                       \n",
       "0          10.0         1                                 No description yet   \n",
       "1          52.0         0  This keyboard is in great condition and works ...   \n",
       "2          10.0         1  Adorable top with a hint of lace and a key hol...   \n",
       "3          35.0         1  New with tags. Leather horses. Retail for [rm]...   \n",
       "4          44.0         0          Complete with certificate of authenticity   \n",
       "...         ...       ...                                                ...   \n",
       "1482530    20.0         1  Lace, says size small but fits medium perfectl...   \n",
       "1482531    14.0         0   Little mermaid handmade dress never worn size 2t   \n",
       "1482532    12.0         0          Used once or twice, still in great shape.   \n",
       "1482533    45.0         1  There is 2 of each one that you see! So 2 red ...   \n",
       "1482534    22.0         0  New with tag, red with sparkle. Firm price, no...   \n",
       "\n",
       "          log_price                     name_processed brand_name_processed  \\\n",
       "train_id                                                                      \n",
       "0          2.397895  mlb cincinnati reds shirt size xl                  mlb   \n",
       "1          3.970292   razer blackwidow chroma keyboard                razer   \n",
       "2          2.397895                      avaviv blouse               target   \n",
       "3          3.583519              leather horse statues              missing   \n",
       "4          3.806662               24k gold plated rose              missing   \n",
       "...             ...                                ...                  ...   \n",
       "1482530    3.044522         free people inspired dress          free people   \n",
       "1482531    2.708050      little mermaid handmade dress               disney   \n",
       "1482532    2.564949  21 day fix containers eating plan              missing   \n",
       "1482533    3.828641             world markets lanterns              missing   \n",
       "1482534    3.135494      brand new lux de ville wallet                  lux   \n",
       "\n",
       "                          category_name_preprocessed         Tier_1  \\\n",
       "train_id                                                              \n",
       "0                                    men/top/tshirts            men   \n",
       "1         electronic/computer tablet/component parts     electronic   \n",
       "2                            women/top blouse/blouse          women   \n",
       "3                   home/home dcor/home dcor accents           home   \n",
       "4                            women/jewelry/necklaces          women   \n",
       "...                                              ...            ...   \n",
       "1482530                         women/dresse/midcalf          women   \n",
       "1482531                        kid/girl 2t5t/dresses            kid   \n",
       "1482532    sport outdoor/exercise/fitnes accessories  sport outdoor   \n",
       "1482533             home/home dcor/home dcor accents           home   \n",
       "1482534               women/women accessorie/wallets          women   \n",
       "\n",
       "                    Tier_2              Tier_3  \\\n",
       "train_id                                         \n",
       "0                      top             tshirts   \n",
       "1          computer tablet     component parts   \n",
       "2               top blouse              blouse   \n",
       "3                home dcor   home dcor accents   \n",
       "4                  jewelry           necklaces   \n",
       "...                    ...                 ...   \n",
       "1482530             dresse             midcalf   \n",
       "1482531          girl 2t5t             dresses   \n",
       "1482532           exercise  fitnes accessories   \n",
       "1482533          home dcor   home dcor accents   \n",
       "1482534   women accessorie             wallets   \n",
       "\n",
       "                                 processed_item_description  \n",
       "train_id                                                     \n",
       "0                                           description yet  \n",
       "1         keyboard great condition works like came box p...  \n",
       "2         adorable top hint lace key hole back pale pink...  \n",
       "3         new tags leather horses retail stand foot high...  \n",
       "4                         complete certificate authenticity  \n",
       "...                                                     ...  \n",
       "1482530   lace says size small fits medium perfectly nev...  \n",
       "1482531    little mermaid handmade dress never worn size 2t  \n",
       "1482532                        used twice still great shape  \n",
       "1482533   2 one see 2 red 2 orange 2 big red orange ones...  \n",
       "1482534        new tag red sparkle firm price free shipping  \n",
       "\n",
       "[1482535 rows x 15 columns]"
      ]
     },
     "execution_count": 4,
     "metadata": {},
     "output_type": "execute_result"
    }
   ],
   "source": [
    "# LOADING THE TRAIN DATA\n",
    "df =  pd.read_csv(\"train_processed.csv\",index_col=[\"train_id\"])\n",
    "df"
   ]
  },
  {
   "cell_type": "code",
   "execution_count": 5,
   "id": "b6499c61",
   "metadata": {},
   "outputs": [
    {
     "data": {
      "text/html": [
       "<div>\n",
       "<style scoped>\n",
       "    .dataframe tbody tr th:only-of-type {\n",
       "        vertical-align: middle;\n",
       "    }\n",
       "\n",
       "    .dataframe tbody tr th {\n",
       "        vertical-align: top;\n",
       "    }\n",
       "\n",
       "    .dataframe thead th {\n",
       "        text-align: right;\n",
       "    }\n",
       "</style>\n",
       "<table border=\"1\" class=\"dataframe\">\n",
       "  <thead>\n",
       "    <tr style=\"text-align: right;\">\n",
       "      <th></th>\n",
       "      <th>name</th>\n",
       "      <th>item_condition_id</th>\n",
       "      <th>category_name</th>\n",
       "      <th>brand_name</th>\n",
       "      <th>shipping</th>\n",
       "      <th>item_description</th>\n",
       "      <th>name_processed</th>\n",
       "      <th>brand_name_processed</th>\n",
       "      <th>category_name_preprocessed</th>\n",
       "      <th>Tier_1</th>\n",
       "      <th>Tier_2</th>\n",
       "      <th>Tier_3</th>\n",
       "      <th>processed_item_description</th>\n",
       "    </tr>\n",
       "    <tr>\n",
       "      <th>test_id</th>\n",
       "      <th></th>\n",
       "      <th></th>\n",
       "      <th></th>\n",
       "      <th></th>\n",
       "      <th></th>\n",
       "      <th></th>\n",
       "      <th></th>\n",
       "      <th></th>\n",
       "      <th></th>\n",
       "      <th></th>\n",
       "      <th></th>\n",
       "      <th></th>\n",
       "      <th></th>\n",
       "    </tr>\n",
       "  </thead>\n",
       "  <tbody>\n",
       "    <tr>\n",
       "      <th>0</th>\n",
       "      <td>Breast cancer \"I fight like a girl\" ring</td>\n",
       "      <td>1</td>\n",
       "      <td>Women/Jewelry/Rings</td>\n",
       "      <td>NaN</td>\n",
       "      <td>1</td>\n",
       "      <td>Size 7</td>\n",
       "      <td>breast cancer fight like girl ring</td>\n",
       "      <td>ring</td>\n",
       "      <td>women/jewelry/rings</td>\n",
       "      <td>women</td>\n",
       "      <td>jewelry</td>\n",
       "      <td>rings</td>\n",
       "      <td>size 7</td>\n",
       "    </tr>\n",
       "    <tr>\n",
       "      <th>1</th>\n",
       "      <td>25 pcs NEW 7.5\"x12\" Kraft Bubble Mailers</td>\n",
       "      <td>1</td>\n",
       "      <td>Other/Office supplies/Shipping Supplies</td>\n",
       "      <td>NaN</td>\n",
       "      <td>1</td>\n",
       "      <td>25 pcs NEW 7.5\"x12\" Kraft Bubble Mailers Lined...</td>\n",
       "      <td>25 pcs new 75x12 kraft bubble mailers</td>\n",
       "      <td>missing</td>\n",
       "      <td>other/office supplie/shipping supplies</td>\n",
       "      <td>other</td>\n",
       "      <td>office supplie</td>\n",
       "      <td>shipping supplies</td>\n",
       "      <td>25 pcs new 75x12 kraft bubble mailers lined bu...</td>\n",
       "    </tr>\n",
       "    <tr>\n",
       "      <th>2</th>\n",
       "      <td>Coach bag</td>\n",
       "      <td>1</td>\n",
       "      <td>Vintage &amp; Collectibles/Bags and Purses/Handbag</td>\n",
       "      <td>Coach</td>\n",
       "      <td>1</td>\n",
       "      <td>Brand new coach bag. Bought for [rm] at a Coac...</td>\n",
       "      <td>coach bag</td>\n",
       "      <td>coach</td>\n",
       "      <td>vintage collectible/bag and purse/handbag</td>\n",
       "      <td>vintage collectible</td>\n",
       "      <td>bag and purse</td>\n",
       "      <td>handbag</td>\n",
       "      <td>brand new coach bag bought coach outlet</td>\n",
       "    </tr>\n",
       "    <tr>\n",
       "      <th>3</th>\n",
       "      <td>Floral Kimono</td>\n",
       "      <td>2</td>\n",
       "      <td>Women/Sweaters/Cardigan</td>\n",
       "      <td>NaN</td>\n",
       "      <td>0</td>\n",
       "      <td>-floral kimono -never worn -lightweight and pe...</td>\n",
       "      <td>floral kimono</td>\n",
       "      <td>missing</td>\n",
       "      <td>women/sweater/cardigan</td>\n",
       "      <td>women</td>\n",
       "      <td>sweater</td>\n",
       "      <td>cardigan</td>\n",
       "      <td>floral kimono never worn lightweight perfect h...</td>\n",
       "    </tr>\n",
       "    <tr>\n",
       "      <th>4</th>\n",
       "      <td>Life after Death</td>\n",
       "      <td>3</td>\n",
       "      <td>Other/Books/Religion &amp; Spirituality</td>\n",
       "      <td>NaN</td>\n",
       "      <td>1</td>\n",
       "      <td>Rediscovering life after the loss of a loved o...</td>\n",
       "      <td>life death</td>\n",
       "      <td>missing</td>\n",
       "      <td>other/book/religion spirituality</td>\n",
       "      <td>other</td>\n",
       "      <td>book</td>\n",
       "      <td>religion spirituality</td>\n",
       "      <td>rediscovering life loss loved one tony cooke p...</td>\n",
       "    </tr>\n",
       "    <tr>\n",
       "      <th>...</th>\n",
       "      <td>...</td>\n",
       "      <td>...</td>\n",
       "      <td>...</td>\n",
       "      <td>...</td>\n",
       "      <td>...</td>\n",
       "      <td>...</td>\n",
       "      <td>...</td>\n",
       "      <td>...</td>\n",
       "      <td>...</td>\n",
       "      <td>...</td>\n",
       "      <td>...</td>\n",
       "      <td>...</td>\n",
       "      <td>...</td>\n",
       "    </tr>\n",
       "    <tr>\n",
       "      <th>3460720</th>\n",
       "      <td>DARK SAMPLE BYE FOUNDATION MOISTURIZER</td>\n",
       "      <td>1</td>\n",
       "      <td>Beauty/Fragrance/Women</td>\n",
       "      <td>NaN</td>\n",
       "      <td>1</td>\n",
       "      <td>It cosmetics Bye Bye Foundation Full Coverage ...</td>\n",
       "      <td>dark sample bye foundation moisturizer</td>\n",
       "      <td>missing</td>\n",
       "      <td>beauty/fragrance/women</td>\n",
       "      <td>beauty</td>\n",
       "      <td>fragrance</td>\n",
       "      <td>women</td>\n",
       "      <td>cosmetics bye bye foundation full coverage moi...</td>\n",
       "    </tr>\n",
       "    <tr>\n",
       "      <th>3460721</th>\n",
       "      <td>bundle for @brandystash</td>\n",
       "      <td>2</td>\n",
       "      <td>Women/Pants/Other</td>\n",
       "      <td>NaN</td>\n",
       "      <td>1</td>\n",
       "      <td>♡2 pairs of omighty trackiez. one m and one s....</td>\n",
       "      <td>bundle brandystash</td>\n",
       "      <td>missing</td>\n",
       "      <td>women/pant/other</td>\n",
       "      <td>women</td>\n",
       "      <td>pant</td>\n",
       "      <td>other</td>\n",
       "      <td>2 pairs omighty trackiez one one prettiest pinks</td>\n",
       "    </tr>\n",
       "    <tr>\n",
       "      <th>3460722</th>\n",
       "      <td>Toddler High-top Converse</td>\n",
       "      <td>3</td>\n",
       "      <td>Kids/Girls 0-24 Mos/Shoes</td>\n",
       "      <td>Nike</td>\n",
       "      <td>0</td>\n",
       "      <td>Size 5 (toddler). Pink high top converse shoes...</td>\n",
       "      <td>toddler hightop converse</td>\n",
       "      <td>nike</td>\n",
       "      <td>kid/girl 024 mo/shoes</td>\n",
       "      <td>kid</td>\n",
       "      <td>girl 024 mo</td>\n",
       "      <td>shoes</td>\n",
       "      <td>size 5 toddler pink high top converse shoes st...</td>\n",
       "    </tr>\n",
       "    <tr>\n",
       "      <th>3460723</th>\n",
       "      <td>Yoga Sling Sandals</td>\n",
       "      <td>1</td>\n",
       "      <td>Women/Shoes/Sandals</td>\n",
       "      <td>Sanuk</td>\n",
       "      <td>1</td>\n",
       "      <td>super super comfy. i have a pair but ordered t...</td>\n",
       "      <td>yoga sling sandals</td>\n",
       "      <td>sanuk</td>\n",
       "      <td>women/shoe/sandals</td>\n",
       "      <td>women</td>\n",
       "      <td>shoe</td>\n",
       "      <td>sandals</td>\n",
       "      <td>super super comfy pair ordered small brand new</td>\n",
       "    </tr>\n",
       "    <tr>\n",
       "      <th>3460724</th>\n",
       "      <td>Stylish ladies M/M insulated brown coat</td>\n",
       "      <td>3</td>\n",
       "      <td>Women/Coats &amp; Jackets/Other</td>\n",
       "      <td>NaN</td>\n",
       "      <td>1</td>\n",
       "      <td>100% Genuine leather and faux fur insulated co...</td>\n",
       "      <td>stylish ladies mm insulated brown coat</td>\n",
       "      <td>mm</td>\n",
       "      <td>women/coat jacket/other</td>\n",
       "      <td>women</td>\n",
       "      <td>coat jacket</td>\n",
       "      <td>other</td>\n",
       "      <td>100 genuine leather faux fur insulated coat ge...</td>\n",
       "    </tr>\n",
       "  </tbody>\n",
       "</table>\n",
       "<p>3460725 rows × 13 columns</p>\n",
       "</div>"
      ],
      "text/plain": [
       "                                             name  item_condition_id  \\\n",
       "test_id                                                                \n",
       "0        Breast cancer \"I fight like a girl\" ring                  1   \n",
       "1        25 pcs NEW 7.5\"x12\" Kraft Bubble Mailers                  1   \n",
       "2                                       Coach bag                  1   \n",
       "3                                   Floral Kimono                  2   \n",
       "4                                Life after Death                  3   \n",
       "...                                           ...                ...   \n",
       "3460720    DARK SAMPLE BYE FOUNDATION MOISTURIZER                  1   \n",
       "3460721                   bundle for @brandystash                  2   \n",
       "3460722                 Toddler High-top Converse                  3   \n",
       "3460723                        Yoga Sling Sandals                  1   \n",
       "3460724   Stylish ladies M/M insulated brown coat                  3   \n",
       "\n",
       "                                          category_name brand_name  shipping  \\\n",
       "test_id                                                                        \n",
       "0                                   Women/Jewelry/Rings        NaN         1   \n",
       "1               Other/Office supplies/Shipping Supplies        NaN         1   \n",
       "2        Vintage & Collectibles/Bags and Purses/Handbag      Coach         1   \n",
       "3                               Women/Sweaters/Cardigan        NaN         0   \n",
       "4                   Other/Books/Religion & Spirituality        NaN         1   \n",
       "...                                                 ...        ...       ...   \n",
       "3460720                          Beauty/Fragrance/Women        NaN         1   \n",
       "3460721                               Women/Pants/Other        NaN         1   \n",
       "3460722                       Kids/Girls 0-24 Mos/Shoes       Nike         0   \n",
       "3460723                             Women/Shoes/Sandals      Sanuk         1   \n",
       "3460724                     Women/Coats & Jackets/Other        NaN         1   \n",
       "\n",
       "                                          item_description  \\\n",
       "test_id                                                      \n",
       "0                                                   Size 7   \n",
       "1        25 pcs NEW 7.5\"x12\" Kraft Bubble Mailers Lined...   \n",
       "2        Brand new coach bag. Bought for [rm] at a Coac...   \n",
       "3        -floral kimono -never worn -lightweight and pe...   \n",
       "4        Rediscovering life after the loss of a loved o...   \n",
       "...                                                    ...   \n",
       "3460720  It cosmetics Bye Bye Foundation Full Coverage ...   \n",
       "3460721  ♡2 pairs of omighty trackiez. one m and one s....   \n",
       "3460722  Size 5 (toddler). Pink high top converse shoes...   \n",
       "3460723  super super comfy. i have a pair but ordered t...   \n",
       "3460724  100% Genuine leather and faux fur insulated co...   \n",
       "\n",
       "                                 name_processed brand_name_processed  \\\n",
       "test_id                                                                \n",
       "0            breast cancer fight like girl ring                 ring   \n",
       "1         25 pcs new 75x12 kraft bubble mailers              missing   \n",
       "2                                     coach bag                coach   \n",
       "3                                 floral kimono              missing   \n",
       "4                                    life death              missing   \n",
       "...                                         ...                  ...   \n",
       "3460720  dark sample bye foundation moisturizer              missing   \n",
       "3460721                      bundle brandystash              missing   \n",
       "3460722                toddler hightop converse                 nike   \n",
       "3460723                      yoga sling sandals                sanuk   \n",
       "3460724  stylish ladies mm insulated brown coat                   mm   \n",
       "\n",
       "                        category_name_preprocessed               Tier_1  \\\n",
       "test_id                                                                   \n",
       "0                              women/jewelry/rings                women   \n",
       "1           other/office supplie/shipping supplies                other   \n",
       "2        vintage collectible/bag and purse/handbag  vintage collectible   \n",
       "3                           women/sweater/cardigan                women   \n",
       "4                 other/book/religion spirituality                other   \n",
       "...                                            ...                  ...   \n",
       "3460720                     beauty/fragrance/women               beauty   \n",
       "3460721                           women/pant/other                women   \n",
       "3460722                      kid/girl 024 mo/shoes                  kid   \n",
       "3460723                         women/shoe/sandals                women   \n",
       "3460724                    women/coat jacket/other                women   \n",
       "\n",
       "                 Tier_2                 Tier_3  \\\n",
       "test_id                                          \n",
       "0               jewelry                  rings   \n",
       "1        office supplie      shipping supplies   \n",
       "2         bag and purse                handbag   \n",
       "3               sweater               cardigan   \n",
       "4                  book  religion spirituality   \n",
       "...                 ...                    ...   \n",
       "3460720       fragrance                  women   \n",
       "3460721            pant                  other   \n",
       "3460722     girl 024 mo                  shoes   \n",
       "3460723            shoe                sandals   \n",
       "3460724     coat jacket                  other   \n",
       "\n",
       "                                processed_item_description  \n",
       "test_id                                                     \n",
       "0                                                   size 7  \n",
       "1        25 pcs new 75x12 kraft bubble mailers lined bu...  \n",
       "2                  brand new coach bag bought coach outlet  \n",
       "3        floral kimono never worn lightweight perfect h...  \n",
       "4        rediscovering life loss loved one tony cooke p...  \n",
       "...                                                    ...  \n",
       "3460720  cosmetics bye bye foundation full coverage moi...  \n",
       "3460721   2 pairs omighty trackiez one one prettiest pinks  \n",
       "3460722  size 5 toddler pink high top converse shoes st...  \n",
       "3460723     super super comfy pair ordered small brand new  \n",
       "3460724  100 genuine leather faux fur insulated coat ge...  \n",
       "\n",
       "[3460725 rows x 13 columns]"
      ]
     },
     "execution_count": 5,
     "metadata": {},
     "output_type": "execute_result"
    }
   ],
   "source": [
    "# LOADING THE TEST DATASET\n",
    "df_test = pd.read_csv(\"test_processed.csv\",index_col=[\"test_id\"])\n",
    "df_test"
   ]
  },
  {
   "cell_type": "markdown",
   "id": "fcec41c4",
   "metadata": {},
   "source": [
    "### Splitting the data"
   ]
  },
  {
   "cell_type": "code",
   "execution_count": 6,
   "id": "c6696326",
   "metadata": {},
   "outputs": [],
   "source": [
    "df_train,df_val = train_test_split(df,test_size=0.1,random_state = 3)"
   ]
  },
  {
   "cell_type": "code",
   "execution_count": 7,
   "id": "e34f0449",
   "metadata": {},
   "outputs": [
    {
     "data": {
      "text/plain": [
       "(1334281, 15)"
      ]
     },
     "execution_count": 7,
     "metadata": {},
     "output_type": "execute_result"
    }
   ],
   "source": [
    "df_train.shape"
   ]
  },
  {
   "cell_type": "code",
   "execution_count": 8,
   "id": "99635497",
   "metadata": {},
   "outputs": [
    {
     "data": {
      "text/plain": [
       "(148254, 15)"
      ]
     },
     "execution_count": 8,
     "metadata": {},
     "output_type": "execute_result"
    }
   ],
   "source": [
    "df_val.shape"
   ]
  },
  {
   "cell_type": "code",
   "execution_count": 9,
   "id": "75b8616d",
   "metadata": {},
   "outputs": [
    {
     "data": {
      "text/plain": [
       "(3460725, 13)"
      ]
     },
     "execution_count": 9,
     "metadata": {},
     "output_type": "execute_result"
    }
   ],
   "source": [
    "df_test.shape"
   ]
  },
  {
   "cell_type": "markdown",
   "id": "379105a0",
   "metadata": {},
   "source": [
    "### Value of Target variables"
   ]
  },
  {
   "cell_type": "code",
   "execution_count": 10,
   "id": "286295dd",
   "metadata": {},
   "outputs": [],
   "source": [
    "y_train = df_train.log_price\n",
    "y_val = df_val.log_price"
   ]
  },
  {
   "cell_type": "markdown",
   "id": "1f6cdb76",
   "metadata": {},
   "source": [
    "## A. Benchmark Model"
   ]
  },
  {
   "cell_type": "code",
   "execution_count": 11,
   "id": "b86a13dd",
   "metadata": {},
   "outputs": [],
   "source": [
    "'''THIS IS THE FIRST MODEL WHICH ACT AS BENCHMARK'''\n",
    "# THIS MODEL IS BASED ON  ITEM CONDITION AND SHIPPING \n",
    "def benchmark(x_input):\n",
    "    shipping = [0,1] #STORING ALL VALUES OF SHIPPING\n",
    "    item_condition = [1,2,3,4,5] # STORING ALL VALUES OF ITEM CONDITION ID\n",
    "    \n",
    "    # HERE MODEL IS TAKING AVERAGE VALUES FOR ALL THE COMBINATIONS AND STORE IT IN THE FORM OF DICT \n",
    "    # THE KEY VALUE FOR THE DICTIONARY IS (shipping , item_condition_id)\n",
    "    model = dict() \n",
    "    for i in shipping:\n",
    "        for j in item_condition:\n",
    "            model[(i,j)] = df[(df.shipping==i) & (df.item_condition_id==j)][\"log_price\"].mean()\n",
    "    \n",
    "    # HERE THE PREDICTION IS MADE FOR ALL THE INPUT DATASET\n",
    "    output = [] # PLACEHOLDER FOR STORING OUTPUT\n",
    "    for index,i in x_input.iterrows():\n",
    "        output.append(model[(i.shipping,i.item_condition_id)])\n",
    "    return np.array(output) # RESULTIN THE OUTPUT\n"
   ]
  },
  {
   "cell_type": "code",
   "execution_count": 12,
   "id": "1a436aa1",
   "metadata": {},
   "outputs": [],
   "source": [
    "'''PREDICTION THE VALUES FOR TRAIN AND VALIDATION DATASET'''\n",
    "train_predict_benchmark = benchmark(df_train)\n",
    "val_predict_benchmark = benchmark(df_val)"
   ]
  },
  {
   "cell_type": "code",
   "execution_count": 13,
   "id": "3b5cdda2",
   "metadata": {},
   "outputs": [
    {
     "name": "stdout",
     "output_type": "stream",
     "text": [
      "Train Loss Benchmark Model = 0.7267335100295781\n"
     ]
    }
   ],
   "source": [
    "# PRINT RESULT OF TRAIN DATASET\n",
    "print(\"Train Loss Benchmark Model =\",np.sqrt(mean_squared_error(y_train,train_predict_benchmark)))"
   ]
  },
  {
   "cell_type": "code",
   "execution_count": 14,
   "id": "c3e40e66",
   "metadata": {},
   "outputs": [
    {
     "name": "stdout",
     "output_type": "stream",
     "text": [
      "Val Loss Benchmark Model = 0.7254971252489119\n"
     ]
    }
   ],
   "source": [
    "# PRINTIN RESULT OF TEST DATASET\n",
    "print(\"Val Loss Benchmark Model =\",np.sqrt(mean_squared_error(y_val,val_predict_benchmark)))"
   ]
  },
  {
   "cell_type": "code",
   "execution_count": 15,
   "id": "8e10035a",
   "metadata": {},
   "outputs": [],
   "source": [
    "'''THIS IS UTILITY FUNCTIO WHICH CONVART LOG OUTPUT TO ACTUAL VALUES'''\n",
    "def log_to_actual(log):\n",
    "    return np.exp(log)-1"
   ]
  },
  {
   "cell_type": "code",
   "execution_count": 16,
   "id": "a7cf563e",
   "metadata": {},
   "outputs": [
    {
     "data": {
      "text/html": [
       "<div>\n",
       "<style scoped>\n",
       "    .dataframe tbody tr th:only-of-type {\n",
       "        vertical-align: middle;\n",
       "    }\n",
       "\n",
       "    .dataframe tbody tr th {\n",
       "        vertical-align: top;\n",
       "    }\n",
       "\n",
       "    .dataframe thead th {\n",
       "        text-align: right;\n",
       "    }\n",
       "</style>\n",
       "<table border=\"1\" class=\"dataframe\">\n",
       "  <thead>\n",
       "    <tr style=\"text-align: right;\">\n",
       "      <th></th>\n",
       "      <th>price</th>\n",
       "    </tr>\n",
       "    <tr>\n",
       "      <th>test_id</th>\n",
       "      <th></th>\n",
       "    </tr>\n",
       "  </thead>\n",
       "  <tbody>\n",
       "    <tr>\n",
       "      <th>0</th>\n",
       "      <td>14.913061</td>\n",
       "    </tr>\n",
       "    <tr>\n",
       "      <th>1</th>\n",
       "      <td>14.913061</td>\n",
       "    </tr>\n",
       "    <tr>\n",
       "      <th>2</th>\n",
       "      <td>14.913061</td>\n",
       "    </tr>\n",
       "    <tr>\n",
       "      <th>3</th>\n",
       "      <td>21.432196</td>\n",
       "    </tr>\n",
       "    <tr>\n",
       "      <th>4</th>\n",
       "      <td>15.587577</td>\n",
       "    </tr>\n",
       "    <tr>\n",
       "      <th>...</th>\n",
       "      <td>...</td>\n",
       "    </tr>\n",
       "    <tr>\n",
       "      <th>3460720</th>\n",
       "      <td>14.913061</td>\n",
       "    </tr>\n",
       "    <tr>\n",
       "      <th>3460721</th>\n",
       "      <td>15.814442</td>\n",
       "    </tr>\n",
       "    <tr>\n",
       "      <th>3460722</th>\n",
       "      <td>20.377879</td>\n",
       "    </tr>\n",
       "    <tr>\n",
       "      <th>3460723</th>\n",
       "      <td>14.913061</td>\n",
       "    </tr>\n",
       "    <tr>\n",
       "      <th>3460724</th>\n",
       "      <td>15.587577</td>\n",
       "    </tr>\n",
       "  </tbody>\n",
       "</table>\n",
       "<p>3460725 rows × 1 columns</p>\n",
       "</div>"
      ],
      "text/plain": [
       "             price\n",
       "test_id           \n",
       "0        14.913061\n",
       "1        14.913061\n",
       "2        14.913061\n",
       "3        21.432196\n",
       "4        15.587577\n",
       "...            ...\n",
       "3460720  14.913061\n",
       "3460721  15.814442\n",
       "3460722  20.377879\n",
       "3460723  14.913061\n",
       "3460724  15.587577\n",
       "\n",
       "[3460725 rows x 1 columns]"
      ]
     },
     "execution_count": 16,
     "metadata": {},
     "output_type": "execute_result"
    }
   ],
   "source": [
    "'''PREDICTIONS FOR TEST DATASET AND STOTING CSV FILE'''\n",
    "test_predict_benchmark = benchmark(df_test)\n",
    "test_predict_benchmark = pd.DataFrame(log_to_actual(test_predict_benchmark),columns=[\"price\"])\n",
    "test_predict_benchmark.index = df_test.index\n",
    "test_predict_benchmark"
   ]
  },
  {
   "cell_type": "code",
   "execution_count": 17,
   "id": "6640dcf6",
   "metadata": {},
   "outputs": [],
   "source": [
    "# SROTING CSV FILE\n",
    "test_predict_benchmark.to_csv(\"test_predict_benchmark.csv\")"
   ]
  },
  {
   "cell_type": "markdown",
   "id": "73462e15",
   "metadata": {},
   "source": [
    "# 1. Feature Engineering"
   ]
  },
  {
   "cell_type": "markdown",
   "id": "576a0646",
   "metadata": {},
   "source": [
    "## Categorical Data : Label Encoding"
   ]
  },
  {
   "cell_type": "markdown",
   "id": "19c48922",
   "metadata": {},
   "source": [
    "## Text Data : Word 2 Vec"
   ]
  },
  {
   "cell_type": "markdown",
   "id": "31ee1c1a",
   "metadata": {},
   "source": [
    "## Categorical Data"
   ]
  },
  {
   "cell_type": "markdown",
   "id": "c70475d1",
   "metadata": {},
   "source": [
    "### 1. 'brand_name_processed'"
   ]
  },
  {
   "cell_type": "code",
   "execution_count": 18,
   "id": "82912581",
   "metadata": {},
   "outputs": [],
   "source": [
    "'''BRAND NAME LABEL ENCODING'''\n",
    "# brand_name_processed\n",
    "label_brand = OrdinalEncoder( handle_unknown='use_encoded_value',unknown_value=-1) #creating an instance\n",
    "label_brand.fit(df_train.brand_name_processed.values.reshape(-1,1))# fitting on train data \n",
    "\n",
    "train_vec_brand =label_brand.transform(df_train.brand_name_processed.values.reshape(-1,1)) #transformin the train data\n",
    "val_vec_brand = label_brand.transform(df_val.brand_name_processed.values.reshape(-1,1)) # transforming the validation data"
   ]
  },
  {
   "cell_type": "code",
   "execution_count": 19,
   "id": "945f0909",
   "metadata": {},
   "outputs": [
    {
     "data": {
      "text/plain": [
       "(1334281, 1)"
      ]
     },
     "execution_count": 19,
     "metadata": {},
     "output_type": "execute_result"
    }
   ],
   "source": [
    "train_vec_brand.shape"
   ]
  },
  {
   "cell_type": "code",
   "execution_count": 20,
   "id": "c8bf86af",
   "metadata": {},
   "outputs": [
    {
     "data": {
      "text/plain": [
       "(148254, 1)"
      ]
     },
     "execution_count": 20,
     "metadata": {},
     "output_type": "execute_result"
    }
   ],
   "source": [
    "val_vec_brand.shape"
   ]
  },
  {
   "cell_type": "code",
   "execution_count": 21,
   "id": "27b64638",
   "metadata": {},
   "outputs": [
    {
     "data": {
      "text/plain": [
       "(3460725, 1)"
      ]
     },
     "execution_count": 21,
     "metadata": {},
     "output_type": "execute_result"
    }
   ],
   "source": [
    "'''VECTORIZING PROCESSED BRAND NAME IN TEST DATA '''\n",
    "test_vec_brand = label_brand.transform(df_test.brand_name_processed.values.reshape(-1,1))\n",
    "test_vec_brand.shape"
   ]
  },
  {
   "cell_type": "markdown",
   "id": "9f6f6392",
   "metadata": {},
   "source": [
    "### 2. 'Tier_1'"
   ]
  },
  {
   "cell_type": "code",
   "execution_count": 22,
   "id": "020df64f",
   "metadata": {},
   "outputs": [],
   "source": [
    "'''TIER 1 LABEL ENCODING'''\n",
    "label_t1 = OrdinalEncoder(handle_unknown='use_encoded_value',unknown_value=-1)#creating an instance\n",
    "label_t1.fit(df_train.Tier_1.values.reshape(-1,1))# fitting on train data \n",
    "\n",
    "train_vec_t1 = label_t1.transform(df_train.Tier_1.values.reshape(-1,1))\n",
    "val_vec_t1 =   label_t1.transform(df_val.Tier_1.values.reshape(-1,1))"
   ]
  },
  {
   "cell_type": "code",
   "execution_count": 23,
   "id": "eeb77d3e",
   "metadata": {},
   "outputs": [
    {
     "data": {
      "text/plain": [
       "(1334281, 1)"
      ]
     },
     "execution_count": 23,
     "metadata": {},
     "output_type": "execute_result"
    }
   ],
   "source": [
    "train_vec_t1.shape"
   ]
  },
  {
   "cell_type": "code",
   "execution_count": 24,
   "id": "b0dbb71e",
   "metadata": {},
   "outputs": [
    {
     "data": {
      "text/plain": [
       "(148254, 1)"
      ]
     },
     "execution_count": 24,
     "metadata": {},
     "output_type": "execute_result"
    }
   ],
   "source": [
    "val_vec_t1.shape"
   ]
  },
  {
   "cell_type": "code",
   "execution_count": 25,
   "id": "b07008cd",
   "metadata": {},
   "outputs": [
    {
     "data": {
      "text/plain": [
       "(3460725, 1)"
      ]
     },
     "execution_count": 25,
     "metadata": {},
     "output_type": "execute_result"
    }
   ],
   "source": [
    "'''LABEL ENCODING TEST DATASET TIER 1'''\n",
    "test_vec_t1 =   label_t1.transform(df_test.Tier_1.values.reshape(-1,1))\n",
    "test_vec_t1.shape"
   ]
  },
  {
   "cell_type": "markdown",
   "id": "0f57208b",
   "metadata": {},
   "source": [
    "### 3. 'Tier_2'"
   ]
  },
  {
   "cell_type": "code",
   "execution_count": 26,
   "id": "b5d037ca",
   "metadata": {},
   "outputs": [],
   "source": [
    "'''TIER 2 LABEL ENCODING'''\n",
    "label_t2 = OrdinalEncoder(handle_unknown='use_encoded_value',unknown_value=-1)#creating an instance\n",
    "label_t2.fit(df_train.Tier_2.values.reshape(-1,1))# fitting on train data \n",
    "\n",
    "train_vec_t2 =label_t2.transform(df_train.Tier_2.values.reshape(-1,1))\n",
    "val_vec_t2 = label_t2.transform(df_val.Tier_2.values.reshape(-1,1))"
   ]
  },
  {
   "cell_type": "code",
   "execution_count": 27,
   "id": "342a4a4d",
   "metadata": {},
   "outputs": [
    {
     "data": {
      "text/plain": [
       "(1334281, 1)"
      ]
     },
     "execution_count": 27,
     "metadata": {},
     "output_type": "execute_result"
    }
   ],
   "source": [
    "train_vec_t2.shape"
   ]
  },
  {
   "cell_type": "code",
   "execution_count": 28,
   "id": "5cdb7717",
   "metadata": {},
   "outputs": [
    {
     "data": {
      "text/plain": [
       "(148254, 1)"
      ]
     },
     "execution_count": 28,
     "metadata": {},
     "output_type": "execute_result"
    }
   ],
   "source": [
    "val_vec_t2.shape"
   ]
  },
  {
   "cell_type": "code",
   "execution_count": 29,
   "id": "258cdcc5",
   "metadata": {},
   "outputs": [
    {
     "data": {
      "text/plain": [
       "(3460725, 1)"
      ]
     },
     "execution_count": 29,
     "metadata": {},
     "output_type": "execute_result"
    }
   ],
   "source": [
    "'''LABEL ENCODING TEST DATASET TIER 2'''\n",
    "test_vec_t2 = label_t2.transform(df_test.Tier_2.values.reshape(-1,1))\n",
    "test_vec_t2 .shape"
   ]
  },
  {
   "cell_type": "markdown",
   "id": "beeaf3c3",
   "metadata": {},
   "source": [
    "## 4. 'Tier_3'"
   ]
  },
  {
   "cell_type": "code",
   "execution_count": 30,
   "id": "f19955cc",
   "metadata": {},
   "outputs": [],
   "source": [
    "'''TIER 3 LABEL ENCODING'''\n",
    "label_t3 = OrdinalEncoder(handle_unknown='use_encoded_value',unknown_value=-1)#creating an instance\n",
    "label_t3.fit(df_train.Tier_3.values.reshape(-1,1))# fitting on train data \n",
    "\n",
    "train_vec_t3 =label_t3.transform(df_train.Tier_3.values.reshape(-1,1))\n",
    "val_vec_t3 = label_t3.transform(df_val.Tier_3.values.reshape(-1,1))"
   ]
  },
  {
   "cell_type": "code",
   "execution_count": 31,
   "id": "dc40c446",
   "metadata": {},
   "outputs": [
    {
     "data": {
      "text/plain": [
       "(1334281, 1)"
      ]
     },
     "execution_count": 31,
     "metadata": {},
     "output_type": "execute_result"
    }
   ],
   "source": [
    "train_vec_t3.shape"
   ]
  },
  {
   "cell_type": "code",
   "execution_count": 32,
   "id": "91338b17",
   "metadata": {},
   "outputs": [
    {
     "data": {
      "text/plain": [
       "(1334281, 1)"
      ]
     },
     "execution_count": 32,
     "metadata": {},
     "output_type": "execute_result"
    }
   ],
   "source": [
    "train_vec_t3.shape"
   ]
  },
  {
   "cell_type": "code",
   "execution_count": 33,
   "id": "778e7cb7",
   "metadata": {},
   "outputs": [
    {
     "data": {
      "text/plain": [
       "(3460725, 1)"
      ]
     },
     "execution_count": 33,
     "metadata": {},
     "output_type": "execute_result"
    }
   ],
   "source": [
    "'''LABEL ENCODING TEST DATASET TIER 3'''\n",
    "test_vec_t3 = label_t3.transform(df_test.Tier_3.values.reshape(-1,1))\n",
    "test_vec_t3 .shape"
   ]
  },
  {
   "cell_type": "markdown",
   "id": "161828a3",
   "metadata": {},
   "source": [
    "## TEXT DATA"
   ]
  },
  {
   "cell_type": "markdown",
   "id": "090fc606",
   "metadata": {},
   "source": [
    "## 5. 'name_processed' + 'item_description'"
   ]
  },
  {
   "cell_type": "code",
   "execution_count": 34,
   "id": "727e50cc",
   "metadata": {},
   "outputs": [],
   "source": [
    "'''CONCATINATIN NAME AND ITEM DESCRIPION TEXT FEATURES'''\n",
    "df_train[\"concat\"] = df_train.name_processed + \" \"+df_train.processed_item_description\n",
    "df_val[\"concat\"] = df_val.name_processed + \" \"+df_val.processed_item_description"
   ]
  },
  {
   "cell_type": "code",
   "execution_count": 35,
   "id": "83e42311",
   "metadata": {},
   "outputs": [],
   "source": [
    "'''CONCATINATIN NAME AND ITEM DESCRIPION TEXT FEATURES FOR TEST DATASET'''\n",
    "df_test[\"concat\"] = df_test.name_processed + \" \"+df_test.processed_item_description"
   ]
  },
  {
   "cell_type": "markdown",
   "id": "1b4c1d1e",
   "metadata": {},
   "source": [
    "### 'TEXT FEATURE' AVG 'Word2Vec"
   ]
  },
  {
   "cell_type": "code",
   "execution_count": 36,
   "id": "4e1301dd",
   "metadata": {},
   "outputs": [
    {
     "name": "stderr",
     "output_type": "stream",
     "text": [
      "100%|████████████████████████████████████████████████████████████████████| 1334281/1334281 [00:10<00:00, 126653.29it/s]\n"
     ]
    }
   ],
   "source": [
    "'''FORMIN CORPUR BY APPENDING WORDS IN A LIST'''\n",
    "corpus_name = []\n",
    "for i in tqdm(df_train.concat):\n",
    "    corpus_name.append(str(i).split())"
   ]
  },
  {
   "cell_type": "code",
   "execution_count": 37,
   "id": "d79401d9",
   "metadata": {},
   "outputs": [],
   "source": [
    "'''TRAINING WORD 2 VEC'''\n",
    "name_w2v = Word2Vec(corpus_name,vector_size=300,window= 20)"
   ]
  },
  {
   "cell_type": "code",
   "execution_count": 38,
   "id": "a1909a21",
   "metadata": {},
   "outputs": [],
   "source": [
    "'''FUCTION FOR AVERAGE WORD2VEC'''\n",
    "def sent_to_vec(text):\n",
    "    vec= np.zeros(shape=(300,),dtype=\"float32\")\n",
    "    l = len(str(text).split())\n",
    "    \n",
    "    for i in str(text).split():\n",
    "        try:\n",
    "            vec += name_w2v.wv[i]\n",
    "        except:\n",
    "            continue\n",
    "    if l !=0 :\n",
    "        avg_vec = vec/l\n",
    "    return avg_vec"
   ]
  },
  {
   "cell_type": "code",
   "execution_count": 39,
   "id": "c3b92e31",
   "metadata": {},
   "outputs": [],
   "source": [
    "'''APPLYING AVERAGE WORD2VEC TO ALL ROWS IN DATASET'''\n",
    "train_vec_text = np.stack(df_train.concat.apply(sent_to_vec).values)\n",
    "val_vec_text   = np.stack(df_val.concat.apply(sent_to_vec).values)"
   ]
  },
  {
   "cell_type": "code",
   "execution_count": 40,
   "id": "b4c4403f",
   "metadata": {},
   "outputs": [
    {
     "data": {
      "text/plain": [
       "(1334281, 300)"
      ]
     },
     "execution_count": 40,
     "metadata": {},
     "output_type": "execute_result"
    }
   ],
   "source": [
    "train_vec_text.shape"
   ]
  },
  {
   "cell_type": "code",
   "execution_count": 41,
   "id": "631396e3",
   "metadata": {},
   "outputs": [
    {
     "data": {
      "text/plain": [
       "(148254, 300)"
      ]
     },
     "execution_count": 41,
     "metadata": {},
     "output_type": "execute_result"
    }
   ],
   "source": [
    "val_vec_text.shape"
   ]
  },
  {
   "cell_type": "code",
   "execution_count": 42,
   "id": "eb3116be",
   "metadata": {},
   "outputs": [],
   "source": [
    "'''APPLYING AVG WORD2VEC TO ALL ROWS IN TEST DATASET'''\n",
    "test_vec_text   = np.stack(df_test.concat.apply(sent_to_vec).values)"
   ]
  },
  {
   "cell_type": "markdown",
   "id": "ecdd22e0",
   "metadata": {},
   "source": [
    "## 6. 'is_missing' FEATURE"
   ]
  },
  {
   "cell_type": "markdown",
   "id": "5be248e3",
   "metadata": {},
   "source": [
    "#### THIS FEATURES GIVES 1 IF A VALUE IS MISSING IN BRAND NAME OR NAME OR ITEM DESCRIPTION OTHERWISE 0"
   ]
  },
  {
   "cell_type": "code",
   "execution_count": 43,
   "id": "5cb7f5d3",
   "metadata": {},
   "outputs": [],
   "source": [
    "'''FEATURE FOR TRAIN DATASET'''\n",
    "df_train[\"is_missing\"]  =  (df_train.brand_name_processed==\"missing\") | (df_train.name_processed ==\"missing\")| (df_train.processed_item_description==\"missing\")\n",
    "df_train[\"is_missing\"]  = df_train[\"is_missing\"].astype(int)"
   ]
  },
  {
   "cell_type": "code",
   "execution_count": 44,
   "id": "d5dbe453",
   "metadata": {},
   "outputs": [],
   "source": [
    "'''FEATURE FOR VALIDARION DATASET'''\n",
    "df_val[\"is_missing\"]  =  (df_val.brand_name_processed==\"missing\") | (df_val.name_processed ==\"missing\")| (df_val.processed_item_description==\"missing\")\n",
    "df_val[\"is_missing\"]  = df_val[\"is_missing\"].astype(int)"
   ]
  },
  {
   "cell_type": "code",
   "execution_count": 45,
   "id": "c3273a7e",
   "metadata": {},
   "outputs": [],
   "source": [
    "'''FEATURE FOR TEST DATASET'''\n",
    "df_test[\"is_missing\"]  =  (df_test.brand_name_processed==\"missing\") | (df_test.name_processed ==\"missing\")| (df_test.processed_item_description==\"missing\")\n",
    "df_test[\"is_missing\"]  = df_test[\"is_missing\"].astype(int)"
   ]
  },
  {
   "cell_type": "markdown",
   "id": "1f9b8159",
   "metadata": {},
   "source": [
    "### Concatenating all Features"
   ]
  },
  {
   "cell_type": "code",
   "execution_count": 46,
   "id": "22a00cae",
   "metadata": {},
   "outputs": [],
   "source": [
    "'''STACKING ALL FEATURES OF TRAIN DATASET'''\n",
    "x_train = np.hstack((df_train.item_condition_id.values.reshape(-1,1) , df_train.shipping.values.reshape(-1,1) ,\\\n",
    "                     df_train.is_missing.values.reshape(-1,1) ,\n",
    "            train_vec_brand , train_vec_t1 , train_vec_t2,train_vec_t3 , train_vec_text))"
   ]
  },
  {
   "cell_type": "code",
   "execution_count": 47,
   "id": "c8b7f19e",
   "metadata": {},
   "outputs": [],
   "source": [
    "'''STACKING ALL FEATURES OF VALIDATION DATASET'''\n",
    "x_val = np.hstack((df_val.item_condition_id.values.reshape(-1,1) , df_val.shipping.values.reshape(-1,1),\\\n",
    "                   df_val.is_missing.values.reshape(-1,1),  \n",
    "                   val_vec_brand,val_vec_t1 , \\\n",
    "                  val_vec_t2,val_vec_t3,val_vec_text))"
   ]
  },
  {
   "cell_type": "code",
   "execution_count": 48,
   "id": "8458a1ae",
   "metadata": {},
   "outputs": [],
   "source": [
    "'''STACKING ALL FEATURES OF TEST DATASET'''\n",
    "x_test = np.hstack((df_test.item_condition_id.values.reshape(-1,1) , df_test.shipping.values.reshape(-1,1),\\\n",
    "                   df_test.is_missing.values.reshape(-1,1),  \n",
    "                   test_vec_brand,test_vec_t1 , \\\n",
    "                  test_vec_t2,test_vec_t3,\n",
    "                    test_vec_text))"
   ]
  },
  {
   "cell_type": "code",
   "execution_count": 49,
   "id": "c32a2d01",
   "metadata": {},
   "outputs": [
    {
     "data": {
      "text/plain": [
       "(1334281, 307)"
      ]
     },
     "execution_count": 49,
     "metadata": {},
     "output_type": "execute_result"
    }
   ],
   "source": [
    "x_train.shape"
   ]
  },
  {
   "cell_type": "code",
   "execution_count": 50,
   "id": "e116d1b3",
   "metadata": {},
   "outputs": [
    {
     "data": {
      "text/plain": [
       "(148254, 307)"
      ]
     },
     "execution_count": 50,
     "metadata": {},
     "output_type": "execute_result"
    }
   ],
   "source": [
    "x_val.shape"
   ]
  },
  {
   "cell_type": "markdown",
   "id": "4857bc99",
   "metadata": {},
   "source": [
    "## Sample Data for Hyperpatameter Tuning"
   ]
  },
  {
   "cell_type": "markdown",
   "id": "f2fde5e7",
   "metadata": {},
   "source": [
    "#### CONSIDERING THE DATASET SIZE AND LOW COMPUTATION RESOURCES THIS DATASET IS SAMPLED FROM THE ORIGINAL DATASET. THIS IS ONLY USED FOR HYPERPARAMER TUNING . END TRAINING IS DONE ON FULL DATASET"
   ]
  },
  {
   "cell_type": "code",
   "execution_count": 51,
   "id": "6cce58d9",
   "metadata": {},
   "outputs": [],
   "source": [
    "'''THIS FUNCTION SAMPLES THE 50% OF THE DATA RANDOMLY'''\n",
    "def sample(x_train,y_train):\n",
    "    np.random.seed(5)\n",
    "    index = np.random.random_integers(0,x_train.shape[0]-1,size=int(0.5*x_train.shape[0]))\n",
    "    \n",
    "    x_train_s = x_train[index]\n",
    "    y_train_s = y_train.values[index]\n",
    "    \n",
    "    return x_train_s,y_train_s"
   ]
  },
  {
   "cell_type": "code",
   "execution_count": 52,
   "id": "93bcc64e",
   "metadata": {},
   "outputs": [],
   "source": [
    "x_train_s,y_train_s = sample(x_train,y_train)"
   ]
  },
  {
   "cell_type": "code",
   "execution_count": 53,
   "id": "ed24b925",
   "metadata": {},
   "outputs": [
    {
     "name": "stdout",
     "output_type": "stream",
     "text": [
      "(667140, 307)\n",
      "(667140,)\n"
     ]
    }
   ],
   "source": [
    "print(x_train_s.shape)\n",
    "print(y_train_s.shape)"
   ]
  },
  {
   "cell_type": "markdown",
   "id": "4da93572",
   "metadata": {},
   "source": [
    "# B. Models"
   ]
  },
  {
   "cell_type": "markdown",
   "id": "e389cfb6",
   "metadata": {},
   "source": [
    "## 1. Lasso"
   ]
  },
  {
   "cell_type": "code",
   "execution_count": 54,
   "id": "04a920e4",
   "metadata": {},
   "outputs": [
    {
     "name": "stdout",
     "output_type": "stream",
     "text": [
      "Fitting 3 folds for each of 7 candidates, totalling 21 fits\n"
     ]
    },
    {
     "data": {
      "text/plain": [
       "GridSearchCV(cv=3, estimator=Lasso(), n_jobs=-1,\n",
       "             param_grid={'alpha': [1e-05, 0.0001, 0.001, 0.01, 0.1, 1, 10]},\n",
       "             return_train_score=True, scoring='neg_root_mean_squared_error',\n",
       "             verbose=1)"
      ]
     },
     "execution_count": 54,
     "metadata": {},
     "output_type": "execute_result"
    }
   ],
   "source": [
    "'''HYPERPARAMETER TUNING'''\n",
    "laso = Lasso()\n",
    "param =  {\"alpha\":[10**x for x in range(-5,2)]}\n",
    "reg_l1 = GridSearchCV(laso,param ,cv=3,verbose=1,return_train_score=True,scoring='neg_root_mean_squared_error',n_jobs=-1)\n",
    "reg_l1.fit(x_train_s,y_train_s)"
   ]
  },
  {
   "cell_type": "code",
   "execution_count": 55,
   "id": "3a4dff6c",
   "metadata": {
    "scrolled": true
   },
   "outputs": [
    {
     "data": {
      "image/png": "[encoded data removed]",
      "text/plain": [
       "<Figure size 432x288 with 1 Axes>"
      ]
     },
     "metadata": {},
     "output_type": "display_data"
    }
   ],
   "source": [
    "'''DISPLAYING THE RESULTS'''\n",
    "results = pd.DataFrame(reg_l1.cv_results_)\n",
    "results = results.sort_values(['param_alpha'])\n",
    "\n",
    "train_score=results[\"mean_train_score\"] #STORING TRAINING DATASET AUC SCORE\n",
    "cv_score=results[\"mean_test_score\"] #STORING CV DATESET AUC SCORE\n",
    "alpha=results[\"param_alpha\"].apply(lambda x:np.log10(x))\n",
    "\n",
    "sns.set_style(\"whitegrid\")\n",
    "sns.lineplot(x=alpha,y=train_score,label=\"Train\")\n",
    "sns.lineplot(x=alpha,y=cv_score,label=\"CV\")\n",
    "sns.scatterplot(x=alpha,y=train_score)\n",
    "sns.scatterplot(x=alpha,y=cv_score)\n",
    "plt.xlabel(\"log(alpha)\")\n",
    "plt.ylabel(\"-RMSE\")\n",
    "plt.legend()\n",
    "plt.show()"
   ]
  },
  {
   "cell_type": "code",
   "execution_count": 56,
   "id": "04553894",
   "metadata": {},
   "outputs": [
    {
     "data": {
      "text/plain": [
       "{'alpha': 1e-05}"
      ]
     },
     "execution_count": 56,
     "metadata": {},
     "output_type": "execute_result"
    }
   ],
   "source": [
    "# BEST PARAMETERS\n",
    "reg_l1.best_params_"
   ]
  },
  {
   "cell_type": "code",
   "execution_count": 57,
   "id": "7cc6a5c6",
   "metadata": {},
   "outputs": [
    {
     "data": {
      "text/plain": [
       "Lasso(alpha=1e-05)"
      ]
     },
     "execution_count": 57,
     "metadata": {},
     "output_type": "execute_result"
    }
   ],
   "source": [
    "'''TRAINING ON BEST PARAMETERS'''\n",
    "laso = Lasso(alpha = 10**-5)\n",
    "laso.fit(x_train,y_train)"
   ]
  },
  {
   "cell_type": "code",
   "execution_count": 58,
   "id": "31579873",
   "metadata": {},
   "outputs": [],
   "source": [
    "# TRAIN PREDICTION\n",
    "train_pred_l1 = laso.predict(x_train)\n",
    "# VALIDATION PREDICTION\n",
    "val_pred_l1 = laso.predict(x_val)"
   ]
  },
  {
   "cell_type": "code",
   "execution_count": 59,
   "id": "e6d2e76f",
   "metadata": {},
   "outputs": [
    {
     "data": {
      "text/plain": [
       "0.6040610765979186"
      ]
     },
     "execution_count": 59,
     "metadata": {},
     "output_type": "execute_result"
    }
   ],
   "source": [
    "# TRAIN ERROR\n",
    "np.sqrt(mean_squared_error(y_train,train_pred_l1))"
   ]
  },
  {
   "cell_type": "code",
   "execution_count": 60,
   "id": "178459fc",
   "metadata": {},
   "outputs": [
    {
     "data": {
      "text/plain": [
       "0.6033472651693828"
      ]
     },
     "execution_count": 60,
     "metadata": {},
     "output_type": "execute_result"
    }
   ],
   "source": [
    "# VALIDATION ERROR\n",
    "np.sqrt(mean_squared_error(y_val , val_pred_l1))"
   ]
  },
  {
   "cell_type": "code",
   "execution_count": 61,
   "id": "25dbf763",
   "metadata": {},
   "outputs": [
    {
     "data": {
      "text/html": [
       "<div>\n",
       "<style scoped>\n",
       "    .dataframe tbody tr th:only-of-type {\n",
       "        vertical-align: middle;\n",
       "    }\n",
       "\n",
       "    .dataframe tbody tr th {\n",
       "        vertical-align: top;\n",
       "    }\n",
       "\n",
       "    .dataframe thead th {\n",
       "        text-align: right;\n",
       "    }\n",
       "</style>\n",
       "<table border=\"1\" class=\"dataframe\">\n",
       "  <thead>\n",
       "    <tr style=\"text-align: right;\">\n",
       "      <th></th>\n",
       "      <th>test id</th>\n",
       "      <th>price</th>\n",
       "    </tr>\n",
       "  </thead>\n",
       "  <tbody>\n",
       "    <tr>\n",
       "      <th>0</th>\n",
       "      <td>0</td>\n",
       "      <td>10.231825</td>\n",
       "    </tr>\n",
       "    <tr>\n",
       "      <th>1</th>\n",
       "      <td>1</td>\n",
       "      <td>7.909562</td>\n",
       "    </tr>\n",
       "    <tr>\n",
       "      <th>2</th>\n",
       "      <td>2</td>\n",
       "      <td>52.392562</td>\n",
       "    </tr>\n",
       "    <tr>\n",
       "      <th>3</th>\n",
       "      <td>3</td>\n",
       "      <td>17.384515</td>\n",
       "    </tr>\n",
       "    <tr>\n",
       "      <th>4</th>\n",
       "      <td>4</td>\n",
       "      <td>11.166169</td>\n",
       "    </tr>\n",
       "    <tr>\n",
       "      <th>...</th>\n",
       "      <td>...</td>\n",
       "      <td>...</td>\n",
       "    </tr>\n",
       "    <tr>\n",
       "      <th>3460720</th>\n",
       "      <td>3460720</td>\n",
       "      <td>10.572569</td>\n",
       "    </tr>\n",
       "    <tr>\n",
       "      <th>3460721</th>\n",
       "      <td>3460721</td>\n",
       "      <td>19.229684</td>\n",
       "    </tr>\n",
       "    <tr>\n",
       "      <th>3460722</th>\n",
       "      <td>3460722</td>\n",
       "      <td>20.077280</td>\n",
       "    </tr>\n",
       "    <tr>\n",
       "      <th>3460723</th>\n",
       "      <td>3460723</td>\n",
       "      <td>19.817579</td>\n",
       "    </tr>\n",
       "    <tr>\n",
       "      <th>3460724</th>\n",
       "      <td>3460724</td>\n",
       "      <td>19.722412</td>\n",
       "    </tr>\n",
       "  </tbody>\n",
       "</table>\n",
       "<p>3460725 rows × 2 columns</p>\n",
       "</div>"
      ],
      "text/plain": [
       "         test id      price\n",
       "0              0  10.231825\n",
       "1              1   7.909562\n",
       "2              2  52.392562\n",
       "3              3  17.384515\n",
       "4              4  11.166169\n",
       "...          ...        ...\n",
       "3460720  3460720  10.572569\n",
       "3460721  3460721  19.229684\n",
       "3460722  3460722  20.077280\n",
       "3460723  3460723  19.817579\n",
       "3460724  3460724  19.722412\n",
       "\n",
       "[3460725 rows x 2 columns]"
      ]
     },
     "execution_count": 61,
     "metadata": {},
     "output_type": "execute_result"
    }
   ],
   "source": [
    "# TEST PREDICTIONS\n",
    "laso_predict = pd.DataFrame()\n",
    "laso_predict[\"test id\"] = df_test.index\n",
    "laso_predict[\"price\"] = log_to_actual(laso.predict(x_test))\n",
    "laso_predict.to_csv(\"laso_predict.csv\")\n",
    "laso_predict"
   ]
  },
  {
   "cell_type": "markdown",
   "id": "c7cb2b26",
   "metadata": {},
   "source": [
    "## 2. Ridge"
   ]
  },
  {
   "cell_type": "code",
   "execution_count": 62,
   "id": "0cb19163",
   "metadata": {},
   "outputs": [
    {
     "name": "stdout",
     "output_type": "stream",
     "text": [
      "Fitting 3 folds for each of 7 candidates, totalling 21 fits\n"
     ]
    },
    {
     "data": {
      "text/plain": [
       "GridSearchCV(cv=3, estimator=Ridge(), n_jobs=-1,\n",
       "             param_grid={'alpha': [1e-05, 0.0001, 0.001, 0.01, 0.1, 1, 10]},\n",
       "             return_train_score=True, scoring='neg_root_mean_squared_error',\n",
       "             verbose=1)"
      ]
     },
     "execution_count": 62,
     "metadata": {},
     "output_type": "execute_result"
    }
   ],
   "source": [
    "'''HYPERPARAMETER TUNING'''\n",
    "\n",
    "ridge = Ridge()\n",
    "param =  {\"alpha\":[10**x for x in range(-5,2)]}\n",
    "reg_l2 = GridSearchCV(ridge,param ,cv=3,verbose=1,return_train_score=True,scoring='neg_root_mean_squared_error',n_jobs=-1)\n",
    "reg_l2.fit(x_train_s,y_train_s)"
   ]
  },
  {
   "cell_type": "code",
   "execution_count": 63,
   "id": "2b2826a6",
   "metadata": {},
   "outputs": [
    {
     "data": {
      "image/png": "[encoded data removed]",
      "text/plain": [
       "<Figure size 432x288 with 1 Axes>"
      ]
     },
     "metadata": {},
     "output_type": "display_data"
    }
   ],
   "source": [
    "'''DISPLAYING THE BEST RESULTS'''\n",
    "\n",
    "results = pd.DataFrame(reg_l2.cv_results_)\n",
    "results = results.sort_values(['param_alpha'])\n",
    "\n",
    "train_score=results[\"mean_train_score\"] #STORING TRAINING DATASET AUC SCORE\n",
    "cv_score=results[\"mean_test_score\"] #STORING CV DATESET AUC SCORE\n",
    "alpha=results[\"param_alpha\"].apply(lambda x:np.log10(x))\n",
    "\n",
    "sns.set_style(\"whitegrid\")\n",
    "sns.lineplot(x=alpha,y=train_score,label=\"Train\")\n",
    "sns.lineplot(x=alpha,y=cv_score,label=\"CV\")\n",
    "sns.scatterplot(x=alpha,y=train_score)\n",
    "sns.scatterplot(x=alpha,y=cv_score)\n",
    "plt.xlabel(\"log(alpha)\")\n",
    "plt.ylabel(\"-RMSE\")\n",
    "plt.legend()\n",
    "plt.show()"
   ]
  },
  {
   "cell_type": "code",
   "execution_count": 64,
   "id": "8a5c036c",
   "metadata": {},
   "outputs": [
    {
     "data": {
      "text/plain": [
       "{'alpha': 10}"
      ]
     },
     "execution_count": 64,
     "metadata": {},
     "output_type": "execute_result"
    }
   ],
   "source": [
    "# BEST PARAMETERS \n",
    "reg_l2.best_params_"
   ]
  },
  {
   "cell_type": "code",
   "execution_count": 65,
   "id": "8fa089e1",
   "metadata": {},
   "outputs": [
    {
     "data": {
      "text/plain": [
       "Ridge(alpha=10)"
      ]
     },
     "execution_count": 65,
     "metadata": {},
     "output_type": "execute_result"
    }
   ],
   "source": [
    "'''TRAINING WITH BEST PARAMETERS'''\n",
    "ridge_best = Ridge(alpha=10)\n",
    "ridge_best.fit(x_train,y_train)"
   ]
  },
  {
   "cell_type": "code",
   "execution_count": 66,
   "id": "ce0643bf",
   "metadata": {},
   "outputs": [],
   "source": [
    "# TRAIN PREDICTIONS\n",
    "train_pred_l2 = ridge_best.predict(x_train)\n",
    "# VALIDATION PREDICTIONS\n",
    "val_pred_l2 = ridge_best.predict(x_val)"
   ]
  },
  {
   "cell_type": "markdown",
   "id": "5286afab",
   "metadata": {},
   "source": [
    "### Performance"
   ]
  },
  {
   "cell_type": "code",
   "execution_count": 67,
   "id": "33a97f65",
   "metadata": {},
   "outputs": [
    {
     "data": {
      "text/plain": [
       "0.604060307943867"
      ]
     },
     "execution_count": 67,
     "metadata": {},
     "output_type": "execute_result"
    }
   ],
   "source": [
    "# TRAIN ERROR\n",
    "np.sqrt(mean_squared_error(y_train , train_pred_l2))"
   ]
  },
  {
   "cell_type": "code",
   "execution_count": 68,
   "id": "f3668210",
   "metadata": {},
   "outputs": [
    {
     "data": {
      "text/plain": [
       "0.6033493205490676"
      ]
     },
     "execution_count": 68,
     "metadata": {},
     "output_type": "execute_result"
    }
   ],
   "source": [
    "#VALIDATION ERROR\n",
    "np.sqrt(mean_squared_error(y_val , val_pred_l2))"
   ]
  },
  {
   "cell_type": "code",
   "execution_count": 69,
   "id": "ab34d285",
   "metadata": {},
   "outputs": [],
   "source": [
    "import pickle"
   ]
  },
  {
   "cell_type": "code",
   "execution_count": 70,
   "id": "86556b26",
   "metadata": {},
   "outputs": [
    {
     "data": {
      "text/html": [
       "<div>\n",
       "<style scoped>\n",
       "    .dataframe tbody tr th:only-of-type {\n",
       "        vertical-align: middle;\n",
       "    }\n",
       "\n",
       "    .dataframe tbody tr th {\n",
       "        vertical-align: top;\n",
       "    }\n",
       "\n",
       "    .dataframe thead th {\n",
       "        text-align: right;\n",
       "    }\n",
       "</style>\n",
       "<table border=\"1\" class=\"dataframe\">\n",
       "  <thead>\n",
       "    <tr style=\"text-align: right;\">\n",
       "      <th></th>\n",
       "      <th>test id</th>\n",
       "      <th>price</th>\n",
       "    </tr>\n",
       "  </thead>\n",
       "  <tbody>\n",
       "    <tr>\n",
       "      <th>0</th>\n",
       "      <td>0</td>\n",
       "      <td>10.128337</td>\n",
       "    </tr>\n",
       "    <tr>\n",
       "      <th>1</th>\n",
       "      <td>1</td>\n",
       "      <td>7.898854</td>\n",
       "    </tr>\n",
       "    <tr>\n",
       "      <th>2</th>\n",
       "      <td>2</td>\n",
       "      <td>53.795877</td>\n",
       "    </tr>\n",
       "    <tr>\n",
       "      <th>3</th>\n",
       "      <td>3</td>\n",
       "      <td>17.382129</td>\n",
       "    </tr>\n",
       "    <tr>\n",
       "      <th>4</th>\n",
       "      <td>4</td>\n",
       "      <td>11.132957</td>\n",
       "    </tr>\n",
       "    <tr>\n",
       "      <th>...</th>\n",
       "      <td>...</td>\n",
       "      <td>...</td>\n",
       "    </tr>\n",
       "    <tr>\n",
       "      <th>3460720</th>\n",
       "      <td>3460720</td>\n",
       "      <td>10.562711</td>\n",
       "    </tr>\n",
       "    <tr>\n",
       "      <th>3460721</th>\n",
       "      <td>3460721</td>\n",
       "      <td>18.869632</td>\n",
       "    </tr>\n",
       "    <tr>\n",
       "      <th>3460722</th>\n",
       "      <td>3460722</td>\n",
       "      <td>20.105930</td>\n",
       "    </tr>\n",
       "    <tr>\n",
       "      <th>3460723</th>\n",
       "      <td>3460723</td>\n",
       "      <td>20.171891</td>\n",
       "    </tr>\n",
       "    <tr>\n",
       "      <th>3460724</th>\n",
       "      <td>3460724</td>\n",
       "      <td>19.429493</td>\n",
       "    </tr>\n",
       "  </tbody>\n",
       "</table>\n",
       "<p>3460725 rows × 2 columns</p>\n",
       "</div>"
      ],
      "text/plain": [
       "         test id      price\n",
       "0              0  10.128337\n",
       "1              1   7.898854\n",
       "2              2  53.795877\n",
       "3              3  17.382129\n",
       "4              4  11.132957\n",
       "...          ...        ...\n",
       "3460720  3460720  10.562711\n",
       "3460721  3460721  18.869632\n",
       "3460722  3460722  20.105930\n",
       "3460723  3460723  20.171891\n",
       "3460724  3460724  19.429493\n",
       "\n",
       "[3460725 rows x 2 columns]"
      ]
     },
     "execution_count": 70,
     "metadata": {},
     "output_type": "execute_result"
    }
   ],
   "source": [
    "# TEST PREDICTION\n",
    "#ridge= Ridge(alpha=1,solver = \"svd\", fit_intercept=False )\n",
    "#ridge.fit(x_train, y_train)\n",
    "ridge_predict = pd.DataFrame()\n",
    "ridge_predict[\"test id\"] = df_test.index\n",
    "ridge_predict[\"price\"] = log_to_actual(reg_l2.predict(x_test))\n",
    "ridge_predict.to_csv(\"ridge_predict.csv\")\n",
    "ridge_predict"
   ]
  },
  {
   "cell_type": "markdown",
   "id": "acef0b7b",
   "metadata": {},
   "source": [
    "## 3. Decision Tree"
   ]
  },
  {
   "cell_type": "code",
   "execution_count": 71,
   "id": "4d3db2ca",
   "metadata": {},
   "outputs": [
    {
     "name": "stdout",
     "output_type": "stream",
     "text": [
      "Fitting 3 folds for each of 4 candidates, totalling 12 fits\n"
     ]
    },
    {
     "data": {
      "text/plain": [
       "GridSearchCV(cv=3, estimator=DecisionTreeRegressor(max_features='auto'),\n",
       "             n_jobs=-1, param_grid={'max_depth': [10, 50, 100, 200]},\n",
       "             return_train_score=True, scoring='neg_root_mean_squared_error',\n",
       "             verbose=1)"
      ]
     },
     "execution_count": 71,
     "metadata": {},
     "output_type": "execute_result"
    }
   ],
   "source": [
    "'''HYPERARAMETER TUNING'''\n",
    "\n",
    "dt = DecisionTreeRegressor(criterion=\"mse\",max_features=\"auto\")\n",
    "param =  {\"max_depth\":[10,50,100,200]}\n",
    "reg_dt = GridSearchCV(dt,param ,cv=3,verbose=1,return_train_score=True,scoring='neg_root_mean_squared_error',n_jobs=-1)\n",
    "reg_dt.fit(x_train_s,y_train_s)"
   ]
  },
  {
   "cell_type": "code",
   "execution_count": 72,
   "id": "08c3eda1",
   "metadata": {},
   "outputs": [
    {
     "data": {
      "image/png": "[encoded data removed]",
      "text/plain": [
       "<Figure size 432x288 with 1 Axes>"
      ]
     },
     "metadata": {},
     "output_type": "display_data"
    }
   ],
   "source": [
    "'''DISPLAYING THE RESULTS'''\n",
    "\n",
    "results = pd.DataFrame(reg_dt.cv_results_)\n",
    "results = results.sort_values(['param_max_depth'])\n",
    "\n",
    "train_score=results[\"mean_train_score\"] #STORING TRAINING DATASET AUC SCORE\n",
    "cv_score=results[\"mean_test_score\"] #STORING CV DATESET AUC SCORE\n",
    "alpha=results[\"param_max_depth\"]\n",
    "\n",
    "sns.set_style(\"whitegrid\")\n",
    "sns.lineplot(x=alpha,y=train_score,label=\"Train\")\n",
    "sns.lineplot(x=alpha,y=cv_score,label=\"CV\")\n",
    "sns.scatterplot(x=alpha,y=train_score)\n",
    "sns.scatterplot(x=alpha,y=cv_score)\n",
    "plt.xlabel(\"Max Depth\")\n",
    "plt.ylabel(\"-RMSE\")\n",
    "plt.legend()\n",
    "plt.show()"
   ]
  },
  {
   "cell_type": "code",
   "execution_count": 73,
   "id": "b73792b9",
   "metadata": {},
   "outputs": [
    {
     "data": {
      "text/plain": [
       "{'max_depth': 10}"
      ]
     },
     "execution_count": 73,
     "metadata": {},
     "output_type": "execute_result"
    }
   ],
   "source": [
    "# BEST PARAMETERS\n",
    "reg_dt.best_params_"
   ]
  },
  {
   "cell_type": "code",
   "execution_count": 74,
   "id": "1708a882",
   "metadata": {},
   "outputs": [
    {
     "data": {
      "text/plain": [
       "DecisionTreeRegressor(max_depth=10, max_features='auto')"
      ]
     },
     "execution_count": 74,
     "metadata": {},
     "output_type": "execute_result"
    }
   ],
   "source": [
    "'''TRAINING WITH THE BEST PARAMETERS'''\n",
    "dt_best = DecisionTreeRegressor(criterion=\"mse\",max_depth= 10,max_features=\"auto\")\n",
    "dt_best.fit(x_train,y_train)"
   ]
  },
  {
   "cell_type": "code",
   "execution_count": 75,
   "id": "f7d7021f",
   "metadata": {},
   "outputs": [],
   "source": [
    "# TRAIN PREDICTIONS\n",
    "train_pred_dt = dt_best.predict(x_train)\n",
    "# VALIDATION PREDICTIONS\n",
    "val_pred_dt = dt_best.predict(x_val)"
   ]
  },
  {
   "cell_type": "markdown",
   "id": "9fbf3a5a",
   "metadata": {},
   "source": [
    "### performance"
   ]
  },
  {
   "cell_type": "code",
   "execution_count": 76,
   "id": "a0aa03f6",
   "metadata": {},
   "outputs": [
    {
     "data": {
      "text/plain": [
       "0.6294674416394338"
      ]
     },
     "execution_count": 76,
     "metadata": {},
     "output_type": "execute_result"
    }
   ],
   "source": [
    "# TRAIN ERROR\n",
    "np.sqrt(mean_squared_error(y_train , train_pred_dt))"
   ]
  },
  {
   "cell_type": "code",
   "execution_count": 77,
   "id": "ae0bafa8",
   "metadata": {},
   "outputs": [
    {
     "data": {
      "text/plain": [
       "0.6359070468699112"
      ]
     },
     "execution_count": 77,
     "metadata": {},
     "output_type": "execute_result"
    }
   ],
   "source": [
    "# VALIDATION ERROR\n",
    "np.sqrt(mean_squared_error(y_val , val_pred_dt))"
   ]
  },
  {
   "cell_type": "code",
   "execution_count": 78,
   "id": "7ebcdc81",
   "metadata": {},
   "outputs": [
    {
     "data": {
      "text/html": [
       "<div>\n",
       "<style scoped>\n",
       "    .dataframe tbody tr th:only-of-type {\n",
       "        vertical-align: middle;\n",
       "    }\n",
       "\n",
       "    .dataframe tbody tr th {\n",
       "        vertical-align: top;\n",
       "    }\n",
       "\n",
       "    .dataframe thead th {\n",
       "        text-align: right;\n",
       "    }\n",
       "</style>\n",
       "<table border=\"1\" class=\"dataframe\">\n",
       "  <thead>\n",
       "    <tr style=\"text-align: right;\">\n",
       "      <th></th>\n",
       "      <th>test id</th>\n",
       "      <th>price</th>\n",
       "    </tr>\n",
       "  </thead>\n",
       "  <tbody>\n",
       "    <tr>\n",
       "      <th>0</th>\n",
       "      <td>0</td>\n",
       "      <td>10.346677</td>\n",
       "    </tr>\n",
       "    <tr>\n",
       "      <th>1</th>\n",
       "      <td>1</td>\n",
       "      <td>11.918006</td>\n",
       "    </tr>\n",
       "    <tr>\n",
       "      <th>2</th>\n",
       "      <td>2</td>\n",
       "      <td>31.876081</td>\n",
       "    </tr>\n",
       "    <tr>\n",
       "      <th>3</th>\n",
       "      <td>3</td>\n",
       "      <td>27.667938</td>\n",
       "    </tr>\n",
       "    <tr>\n",
       "      <th>4</th>\n",
       "      <td>4</td>\n",
       "      <td>12.038796</td>\n",
       "    </tr>\n",
       "    <tr>\n",
       "      <th>...</th>\n",
       "      <td>...</td>\n",
       "      <td>...</td>\n",
       "    </tr>\n",
       "    <tr>\n",
       "      <th>3460720</th>\n",
       "      <td>3460720</td>\n",
       "      <td>11.810429</td>\n",
       "    </tr>\n",
       "    <tr>\n",
       "      <th>3460721</th>\n",
       "      <td>3460721</td>\n",
       "      <td>16.435011</td>\n",
       "    </tr>\n",
       "    <tr>\n",
       "      <th>3460722</th>\n",
       "      <td>3460722</td>\n",
       "      <td>20.723901</td>\n",
       "    </tr>\n",
       "    <tr>\n",
       "      <th>3460723</th>\n",
       "      <td>3460723</td>\n",
       "      <td>20.403031</td>\n",
       "    </tr>\n",
       "    <tr>\n",
       "      <th>3460724</th>\n",
       "      <td>3460724</td>\n",
       "      <td>24.765443</td>\n",
       "    </tr>\n",
       "  </tbody>\n",
       "</table>\n",
       "<p>3460725 rows × 2 columns</p>\n",
       "</div>"
      ],
      "text/plain": [
       "         test id      price\n",
       "0              0  10.346677\n",
       "1              1  11.918006\n",
       "2              2  31.876081\n",
       "3              3  27.667938\n",
       "4              4  12.038796\n",
       "...          ...        ...\n",
       "3460720  3460720  11.810429\n",
       "3460721  3460721  16.435011\n",
       "3460722  3460722  20.723901\n",
       "3460723  3460723  20.403031\n",
       "3460724  3460724  24.765443\n",
       "\n",
       "[3460725 rows x 2 columns]"
      ]
     },
     "execution_count": 78,
     "metadata": {},
     "output_type": "execute_result"
    }
   ],
   "source": [
    "# TEST PREDICTIONS\n",
    "#dt = DecisionTreeRegressor(criterion=\"mse\",max_features=\"auto\")\n",
    "#dt.fit(x_train, y_train)\n",
    "dt_predict = pd.DataFrame()\n",
    "dt_predict[\"test id\"] = df_test.index\n",
    "dt_predict[\"price\"] = log_to_actual(reg_dt.predict(x_test))\n",
    "dt_predict.to_csv(\"dt_predict.csv\")\n",
    "dt_predict"
   ]
  },
  {
   "cell_type": "markdown",
   "id": "1b73d896",
   "metadata": {},
   "source": [
    "## 4. Light GBM"
   ]
  },
  {
   "cell_type": "code",
   "execution_count": 79,
   "id": "d567205e",
   "metadata": {},
   "outputs": [
    {
     "name": "stdout",
     "output_type": "stream",
     "text": [
      "validation Loss for parameter 10= 0.6640446830818901\n",
      "validation Loss for parameter 50= 0.5841201310474317\n",
      "validation Loss for parameter 100= 0.5579420107452305\n",
      "validation Loss for parameter 200= 0.5371297488546809\n",
      "validation Loss for parameter 500= 0.5201914939216762\n",
      "validation Loss for parameter 1000= 0.5105624689873889\n",
      "validation Loss for parameter 1200= 0.5085326946393235\n"
     ]
    },
    {
     "data": {
      "image/png": "[encoded data removed]",
      "text/plain": [
       "<Figure size 432x288 with 1 Axes>"
      ]
     },
     "metadata": {},
     "output_type": "display_data"
    }
   ],
   "source": [
    "'''HYPERPARAMETER TUNING '''\n",
    "param =  [10,50,100,200,500,1000,1200]\n",
    "train_error_list = [] # FOR STORING TRAIN ERROR\n",
    "val_error_list = [] # FOR STORING VALIDATION ERROR\n",
    "\n",
    "# FOR EACH PARAMETER\n",
    "for i in param:\n",
    "    # TRAIN THE MODEL\n",
    "    lgb = LGBMRegressor(  n_estimators = i , n_jobs=-1 )\n",
    "    lgb.fit(x_train_s,y_train_s)\n",
    "    # PREDICT THE RESULTS\n",
    "    train_pred = lgb.predict(x_train)\n",
    "    val_pred = lgb.predict(x_val)\n",
    "    # COMPUTING THE ERROR\n",
    "    train_error = np.sqrt(mean_squared_error(y_train,train_pred))\n",
    "    val_error = np.sqrt(mean_squared_error(y_val,val_pred))\n",
    "    # APPENGING THE RESULTS \n",
    "    train_error_list.append(train_error)\n",
    "    val_error_list.append(val_error)\n",
    "    \n",
    "    print(f\"validation Loss for parameter {i}=\",val_error)\n",
    "# PLOTTING THE RESULTS\n",
    "sns.set_style(\"darkgrid\")\n",
    "sns.lineplot(x=param,y=train_error_list,label=\"Train\")\n",
    "sns.scatterplot(x=param,y=train_error_list)\n",
    "sns.lineplot(x=param,y=val_error_list,label=\"CV\")\n",
    "sns.scatterplot(x=param,y=val_error_list)\n",
    "plt.xlabel(\"Parameter\")\n",
    "plt.ylabel(\"Loss\")\n",
    "plt.legend()\n",
    "plt.show()"
   ]
  },
  {
   "cell_type": "code",
   "execution_count": 80,
   "id": "b7ab882b",
   "metadata": {},
   "outputs": [
    {
     "name": "stdout",
     "output_type": "stream",
     "text": [
      "Time Taken=  600.44 s\n"
     ]
    }
   ],
   "source": [
    "'''TRAINIG WITH BEST PARAMETER'''\n",
    "\n",
    "start_time = time.time()\n",
    "lgb = LGBMRegressor(  n_estimators = 1200 , n_jobs=-1 )\n",
    "lgb.fit(x_train,y_train)\n",
    "print(\"Time Taken= \",round(time.time()-start_time,2),\"s\")"
   ]
  },
  {
   "cell_type": "code",
   "execution_count": 81,
   "id": "7f905033",
   "metadata": {},
   "outputs": [],
   "source": [
    "'''PREDICTING THE RESULTS'''\n",
    "\n",
    "train_pred_lgb = lgb.predict(x_train)\n",
    "val_pred_lgb = lgb.predict(x_val)"
   ]
  },
  {
   "cell_type": "markdown",
   "id": "993d53fe",
   "metadata": {},
   "source": [
    "### Performance"
   ]
  },
  {
   "cell_type": "code",
   "execution_count": 82,
   "id": "8e5a0c85",
   "metadata": {},
   "outputs": [
    {
     "data": {
      "text/plain": [
       "0.47790344352875724"
      ]
     },
     "execution_count": 82,
     "metadata": {},
     "output_type": "execute_result"
    }
   ],
   "source": [
    "# TRAIN ERROR\n",
    "np.sqrt(mean_squared_error(y_train ,train_pred_lgb))"
   ]
  },
  {
   "cell_type": "code",
   "execution_count": 83,
   "id": "bdbdde74",
   "metadata": {},
   "outputs": [
    {
     "data": {
      "text/plain": [
       "0.4994332719431563"
      ]
     },
     "execution_count": 83,
     "metadata": {},
     "output_type": "execute_result"
    }
   ],
   "source": [
    "# VALIDATION ERROR\n",
    "np.sqrt(mean_squared_error(y_val , val_pred_lgb))"
   ]
  },
  {
   "cell_type": "code",
   "execution_count": 84,
   "id": "74ff91ac",
   "metadata": {},
   "outputs": [
    {
     "data": {
      "text/html": [
       "<div>\n",
       "<style scoped>\n",
       "    .dataframe tbody tr th:only-of-type {\n",
       "        vertical-align: middle;\n",
       "    }\n",
       "\n",
       "    .dataframe tbody tr th {\n",
       "        vertical-align: top;\n",
       "    }\n",
       "\n",
       "    .dataframe thead th {\n",
       "        text-align: right;\n",
       "    }\n",
       "</style>\n",
       "<table border=\"1\" class=\"dataframe\">\n",
       "  <thead>\n",
       "    <tr style=\"text-align: right;\">\n",
       "      <th></th>\n",
       "      <th>test id</th>\n",
       "      <th>price</th>\n",
       "    </tr>\n",
       "  </thead>\n",
       "  <tbody>\n",
       "    <tr>\n",
       "      <th>0</th>\n",
       "      <td>0</td>\n",
       "      <td>8.018866</td>\n",
       "    </tr>\n",
       "    <tr>\n",
       "      <th>1</th>\n",
       "      <td>1</td>\n",
       "      <td>9.729848</td>\n",
       "    </tr>\n",
       "    <tr>\n",
       "      <th>2</th>\n",
       "      <td>2</td>\n",
       "      <td>49.393582</td>\n",
       "    </tr>\n",
       "    <tr>\n",
       "      <th>3</th>\n",
       "      <td>3</td>\n",
       "      <td>16.032278</td>\n",
       "    </tr>\n",
       "    <tr>\n",
       "      <th>4</th>\n",
       "      <td>4</td>\n",
       "      <td>7.148574</td>\n",
       "    </tr>\n",
       "    <tr>\n",
       "      <th>...</th>\n",
       "      <td>...</td>\n",
       "      <td>...</td>\n",
       "    </tr>\n",
       "    <tr>\n",
       "      <th>3460720</th>\n",
       "      <td>3460720</td>\n",
       "      <td>11.098061</td>\n",
       "    </tr>\n",
       "    <tr>\n",
       "      <th>3460721</th>\n",
       "      <td>3460721</td>\n",
       "      <td>21.113379</td>\n",
       "    </tr>\n",
       "    <tr>\n",
       "      <th>3460722</th>\n",
       "      <td>3460722</td>\n",
       "      <td>16.883761</td>\n",
       "    </tr>\n",
       "    <tr>\n",
       "      <th>3460723</th>\n",
       "      <td>3460723</td>\n",
       "      <td>24.627922</td>\n",
       "    </tr>\n",
       "    <tr>\n",
       "      <th>3460724</th>\n",
       "      <td>3460724</td>\n",
       "      <td>29.314221</td>\n",
       "    </tr>\n",
       "  </tbody>\n",
       "</table>\n",
       "<p>3460725 rows × 2 columns</p>\n",
       "</div>"
      ],
      "text/plain": [
       "         test id      price\n",
       "0              0   8.018866\n",
       "1              1   9.729848\n",
       "2              2  49.393582\n",
       "3              3  16.032278\n",
       "4              4   7.148574\n",
       "...          ...        ...\n",
       "3460720  3460720  11.098061\n",
       "3460721  3460721  21.113379\n",
       "3460722  3460722  16.883761\n",
       "3460723  3460723  24.627922\n",
       "3460724  3460724  29.314221\n",
       "\n",
       "[3460725 rows x 2 columns]"
      ]
     },
     "execution_count": 84,
     "metadata": {},
     "output_type": "execute_result"
    }
   ],
   "source": [
    "# TEST PREDICTIONS\n",
    "lgb_predict = pd.DataFrame()\n",
    "lgb_predict[\"test id\"] = df_test.index\n",
    "lgb_predict[\"price\"] = log_to_actual(lgb.predict(x_test))\n",
    "lgb_predict.to_csv(\"lgb_predict.csv\")\n",
    "lgb_predict"
   ]
  },
  {
   "cell_type": "markdown",
   "id": "ba95b2fd",
   "metadata": {},
   "source": [
    "# 2. Feature Engineering"
   ]
  },
  {
   "cell_type": "markdown",
   "id": "e7582fcc",
   "metadata": {},
   "source": [
    "## Categorical Data : One Hot Encoding"
   ]
  },
  {
   "cell_type": "markdown",
   "id": "ff2a94f3",
   "metadata": {},
   "source": [
    "## Text data : Tfidf"
   ]
  },
  {
   "cell_type": "markdown",
   "id": "5f199637",
   "metadata": {},
   "source": [
    "## Categorical Data"
   ]
  },
  {
   "cell_type": "markdown",
   "id": "8743835d",
   "metadata": {},
   "source": [
    "### 1. item_condition_id"
   ]
  },
  {
   "cell_type": "code",
   "execution_count": 85,
   "id": "f435e46e",
   "metadata": {},
   "outputs": [],
   "source": [
    "'''ITEM CONDITION ID ONE HOT ENDODING '''\n",
    "\n",
    "train_vec_item_con = pd.get_dummies(df_train.item_condition_id).values\n",
    "val_vec_item_con = pd.get_dummies(df_val.item_condition_id).values"
   ]
  },
  {
   "cell_type": "code",
   "execution_count": 86,
   "id": "fade8d19",
   "metadata": {},
   "outputs": [
    {
     "name": "stdout",
     "output_type": "stream",
     "text": [
      "(1334281, 5)\n",
      "(148254, 5)\n"
     ]
    }
   ],
   "source": [
    "print(train_vec_item_con.shape)\n",
    "print(val_vec_item_con.shape)"
   ]
  },
  {
   "cell_type": "code",
   "execution_count": 87,
   "id": "af4091e0",
   "metadata": {},
   "outputs": [
    {
     "name": "stdout",
     "output_type": "stream",
     "text": [
      "(3460725, 5)\n"
     ]
    }
   ],
   "source": [
    "test_vec_item_con = pd.get_dummies(df_test.item_condition_id).values\n",
    "print(test_vec_item_con.shape)"
   ]
  },
  {
   "cell_type": "markdown",
   "id": "e75a07c5",
   "metadata": {},
   "source": [
    "### 2. shipping"
   ]
  },
  {
   "cell_type": "code",
   "execution_count": 88,
   "id": "f274c655",
   "metadata": {},
   "outputs": [],
   "source": [
    "'''SHIPPING ONE HOT ENCODING'''\n",
    "\n",
    "train_vec_shipping = pd.get_dummies(df_train.shipping).values\n",
    "val_vec_shipping = pd.get_dummies(df_val.shipping).values"
   ]
  },
  {
   "cell_type": "code",
   "execution_count": 89,
   "id": "5dfe42a4",
   "metadata": {},
   "outputs": [
    {
     "name": "stdout",
     "output_type": "stream",
     "text": [
      "(1334281, 2)\n",
      "(148254, 2)\n"
     ]
    }
   ],
   "source": [
    "print(train_vec_shipping.shape)\n",
    "print(val_vec_shipping.shape)"
   ]
  },
  {
   "cell_type": "code",
   "execution_count": 90,
   "id": "a537c5a0",
   "metadata": {},
   "outputs": [
    {
     "name": "stdout",
     "output_type": "stream",
     "text": [
      "(3460725, 2)\n"
     ]
    }
   ],
   "source": [
    "test_vec_shipping = pd.get_dummies(df_test.shipping).values\n",
    "print(test_vec_shipping.shape)"
   ]
  },
  {
   "cell_type": "markdown",
   "id": "f4dc9563",
   "metadata": {},
   "source": [
    "### 3. brand_name"
   ]
  },
  {
   "cell_type": "code",
   "execution_count": 91,
   "id": "971f02c2",
   "metadata": {},
   "outputs": [
    {
     "name": "stdout",
     "output_type": "stream",
     "text": [
      "(1334281, 4702)\n",
      "(148254, 4702)\n"
     ]
    }
   ],
   "source": [
    "'''BRAND NAME ONE HOT ENCODING'''\n",
    "\n",
    "label_brand = OneHotEncoder(handle_unknown=\"ignore\")\n",
    "label_brand.fit(df_train.brand_name_processed.values.reshape(-1,1))\n",
    "\n",
    "train_vec_brand =label_brand.transform(df_train.brand_name_processed.values.reshape(-1,1))\n",
    "val_vec_brand = label_brand.transform(df_val.brand_name_processed.values.reshape(-1,1))\n",
    "\n",
    "print(train_vec_brand.shape)\n",
    "print(val_vec_brand.shape)"
   ]
  },
  {
   "cell_type": "code",
   "execution_count": 92,
   "id": "a25faa21",
   "metadata": {},
   "outputs": [
    {
     "name": "stdout",
     "output_type": "stream",
     "text": [
      "(3460725, 4702)\n"
     ]
    }
   ],
   "source": [
    "test_vec_brand = label_brand.transform(df_test.brand_name_processed.values.reshape(-1,1))\n",
    "print(test_vec_brand.shape)"
   ]
  },
  {
   "cell_type": "markdown",
   "id": "53072e51",
   "metadata": {},
   "source": [
    "### 4. Tier_1"
   ]
  },
  {
   "cell_type": "code",
   "execution_count": 93,
   "id": "55b6b317",
   "metadata": {},
   "outputs": [
    {
     "name": "stdout",
     "output_type": "stream",
     "text": [
      "(1334281, 11)\n",
      "(148254, 11)\n"
     ]
    }
   ],
   "source": [
    "'''TIER1 ONE HOT ENCODING'''\n",
    "\n",
    "label_t1 = OneHotEncoder(handle_unknown='ignore')\n",
    "label_t1.fit(df_train.Tier_1.values.reshape(-1,1))\n",
    "\n",
    "train_vec_t1 = label_t1.transform(df_train.Tier_1.values.reshape(-1,1))\n",
    "val_vec_t1 =   label_t1.transform(df_val.Tier_1.values.reshape(-1,1))\n",
    "\n",
    "\n",
    "print(train_vec_t1.shape)\n",
    "print(val_vec_t1.shape)"
   ]
  },
  {
   "cell_type": "code",
   "execution_count": 94,
   "id": "ac507b8e",
   "metadata": {},
   "outputs": [
    {
     "name": "stdout",
     "output_type": "stream",
     "text": [
      "(3460725, 11)\n"
     ]
    }
   ],
   "source": [
    "test_vec_t1 =   label_t1.transform(df_test.Tier_1.values.reshape(-1,1))\n",
    "print(test_vec_t1.shape)"
   ]
  },
  {
   "cell_type": "markdown",
   "id": "d3b441d0",
   "metadata": {},
   "source": [
    "### 5. Tier_2"
   ]
  },
  {
   "cell_type": "code",
   "execution_count": 95,
   "id": "3876c370",
   "metadata": {},
   "outputs": [
    {
     "name": "stdout",
     "output_type": "stream",
     "text": [
      "(1334281, 111)\n",
      "(148254, 111)\n"
     ]
    }
   ],
   "source": [
    "'''TIER2 ONE HOT ENCODING'''\n",
    "\n",
    "label_t2 = OneHotEncoder(handle_unknown='ignore')\n",
    "label_t2.fit(df_train.Tier_2.values.reshape(-1,1))\n",
    "\n",
    "train_vec_t2 =label_t2.transform(df_train.Tier_2.values.reshape(-1,1))\n",
    "val_vec_t2 = label_t2.transform(df_val.Tier_2.values.reshape(-1,1))\n",
    "\n",
    "print(train_vec_t2.shape)\n",
    "print(val_vec_t2.shape)"
   ]
  },
  {
   "cell_type": "code",
   "execution_count": 96,
   "id": "c5cc8e86",
   "metadata": {},
   "outputs": [
    {
     "data": {
      "text/plain": [
       "(3460725, 111)"
      ]
     },
     "execution_count": 96,
     "metadata": {},
     "output_type": "execute_result"
    }
   ],
   "source": [
    "test_vec_t2 = label_t2.transform(df_test.Tier_2.values.reshape(-1,1))\n",
    "test_vec_t2.shape"
   ]
  },
  {
   "cell_type": "markdown",
   "id": "b7caf754",
   "metadata": {},
   "source": [
    "### 6. Tier_3"
   ]
  },
  {
   "cell_type": "code",
   "execution_count": 97,
   "id": "e1a703cb",
   "metadata": {},
   "outputs": [
    {
     "name": "stdout",
     "output_type": "stream",
     "text": [
      "(1334281, 863)\n",
      "(1334281, 863)\n"
     ]
    }
   ],
   "source": [
    "'''TIER 3 ONE HOT ENDODING'''\n",
    "\n",
    "label_t3 = OneHotEncoder(handle_unknown='ignore')\n",
    "label_t3.fit(df_train.Tier_3.values.reshape(-1,1))\n",
    "\n",
    "train_vec_t3 =label_t3.transform(df_train.Tier_3.values.reshape(-1,1))\n",
    "val_vec_t3 = label_t3.transform(df_val.Tier_3.values.reshape(-1,1))\n",
    "#\n",
    "print(train_vec_t3.shape)\n",
    "print(train_vec_t3.shape)\n"
   ]
  },
  {
   "cell_type": "code",
   "execution_count": 98,
   "id": "e82ab174",
   "metadata": {},
   "outputs": [
    {
     "data": {
      "text/plain": [
       "(3460725, 863)"
      ]
     },
     "execution_count": 98,
     "metadata": {},
     "output_type": "execute_result"
    }
   ],
   "source": [
    "'''FEATURIZING THE TEST DATASET'''\n",
    "\n",
    "test_vec_t3 = label_t3.transform(df_test.Tier_3.values.reshape(-1,1))\n",
    "test_vec_t3.shape"
   ]
  },
  {
   "cell_type": "markdown",
   "id": "1f955b66",
   "metadata": {},
   "source": [
    "## Text Data"
   ]
  },
  {
   "cell_type": "markdown",
   "id": "ca6d844d",
   "metadata": {},
   "source": [
    "## Tfidf"
   ]
  },
  {
   "cell_type": "markdown",
   "id": "489f6678",
   "metadata": {},
   "source": [
    "### 7. name_processed"
   ]
  },
  {
   "cell_type": "code",
   "execution_count": 99,
   "id": "14b5edf7",
   "metadata": {},
   "outputs": [
    {
     "name": "stdout",
     "output_type": "stream",
     "text": [
      "(1334281, 50000)\n",
      "(148254, 50000)\n"
     ]
    }
   ],
   "source": [
    "'''PROCESSED NAME TFIDF VECTORIZER'''\n",
    "\n",
    "tfidf = TfidfVectorizer(ngram_range=(1,2),max_features=50000,encoding='utf-8')\n",
    "tfidf.fit(df_train.name_processed.values.astype('U'))\n",
    "\n",
    "train_vec_name = tfidf.transform((df_train.name_processed).values.astype('U'))\n",
    "val_vec_name = tfidf.transform((df_val.name_processed).values.astype('U'))\n",
    "\n",
    "\n",
    "print(train_vec_name.shape)\n",
    "print(val_vec_name.shape)"
   ]
  },
  {
   "cell_type": "code",
   "execution_count": 100,
   "id": "03ee954a",
   "metadata": {},
   "outputs": [
    {
     "name": "stdout",
     "output_type": "stream",
     "text": [
      "(3460725, 50000)\n"
     ]
    }
   ],
   "source": [
    "'''VECTORIZATION OF PROCESSED NAME IN  TEST DATASET '''\n",
    "\n",
    "test_vec_name = tfidf.transform(df_test.name_processed)\n",
    "print(test_vec_name.shape)"
   ]
  },
  {
   "cell_type": "markdown",
   "id": "e5eb558f",
   "metadata": {},
   "source": [
    "### 8. processed_item_description"
   ]
  },
  {
   "cell_type": "code",
   "execution_count": 101,
   "id": "7a496d7b",
   "metadata": {},
   "outputs": [
    {
     "name": "stdout",
     "output_type": "stream",
     "text": [
      "(1334281, 50000)\n",
      "(148254, 50000)\n"
     ]
    }
   ],
   "source": [
    "'''PROCESSED ITEM DESCRIPTION TFIDF VECTORIZATION'''\n",
    "\n",
    "tfidf_desc = TfidfVectorizer(max_features=50000,ngram_range=(1, 2))\n",
    "tfidf_desc.fit(df_train.processed_item_description)\n",
    "\n",
    "train_vec_desc = tfidf_desc.transform(df_train.processed_item_description  )\n",
    "val_vec_desc   = tfidf_desc.transform(df_val.processed_item_description)\n",
    "\n",
    "\n",
    "print(train_vec_desc.shape)\n",
    "print(val_vec_desc.shape)"
   ]
  },
  {
   "cell_type": "code",
   "execution_count": 102,
   "id": "34326bb2",
   "metadata": {},
   "outputs": [
    {
     "name": "stdout",
     "output_type": "stream",
     "text": [
      "(3460725, 50000)\n"
     ]
    }
   ],
   "source": [
    "'''TEST DATASET PROCESSED ITEM DESCRIPTION TFIDF VECTOR'''\n",
    "\n",
    "test_vec_desc   = tfidf_desc.transform(df_test.processed_item_description.values.astype('U'))\n",
    "print(test_vec_desc.shape)"
   ]
  },
  {
   "cell_type": "markdown",
   "id": "b6318396",
   "metadata": {},
   "source": [
    "### 9. is_missing"
   ]
  },
  {
   "cell_type": "code",
   "execution_count": 103,
   "id": "acdb268e",
   "metadata": {},
   "outputs": [],
   "source": [
    "'''IS MISSIN FEATURE FOR TRAIN DATASET'''\n",
    "\n",
    "df_train[\"is_missing\"]  =  (df_train.brand_name_processed==\"missing\") | (df_train.name_processed ==\"missing\")| (df_train.processed_item_description==\"missing\")\n",
    "df_train[\"is_missing\"]  = df_train[\"is_missing\"].astype(int)"
   ]
  },
  {
   "cell_type": "code",
   "execution_count": 104,
   "id": "18a02f2f",
   "metadata": {},
   "outputs": [],
   "source": [
    "'''IS MISSING FEATURE FOR VALIDATION DATASET'''\n",
    "\n",
    "df_val[\"is_missing\"]  =  (df_val.brand_name_processed==\"missing\") | (df_val.name_processed ==\"missing\")| (df_val.processed_item_description==\"missing\")\n",
    "df_val[\"is_missing\"]  = df_val[\"is_missing\"].astype(int)"
   ]
  },
  {
   "cell_type": "code",
   "execution_count": 105,
   "id": "199d8144",
   "metadata": {},
   "outputs": [],
   "source": [
    "'''IS MISSING FEATURE FOR TEST DATASET'''\n",
    "\n",
    "df_test[\"is_missing\"]  =  (df_test.brand_name_processed==\"missing\") | (df_test.name_processed ==\"missing\")| (df_test.processed_item_description==\"missing\")\n",
    "df_test[\"is_missing\"]  = df_test[\"is_missing\"].astype(int)"
   ]
  },
  {
   "cell_type": "markdown",
   "id": "93f8a753",
   "metadata": {},
   "source": [
    "## Concatenating"
   ]
  },
  {
   "cell_type": "code",
   "execution_count": 106,
   "id": "6e630fff",
   "metadata": {},
   "outputs": [
    {
     "name": "stdout",
     "output_type": "stream",
     "text": [
      "(1334281, 105695)\n",
      "(148254, 105695)\n",
      "(3460725, 105695)\n"
     ]
    }
   ],
   "source": [
    "'''STACKING ALL THE FEATURES'''\n",
    "\n",
    "\n",
    "# STACKING TRAIN FEATURES\n",
    "x_train = hstack((train_vec_item_con,train_vec_shipping,\n",
    "                  train_vec_name,train_vec_brand,train_vec_t1,\n",
    "                   train_vec_t2,\n",
    "                    train_vec_t3,\n",
    "                  df_train.is_missing.values.reshape(-1,1)\n",
    "                   ,train_vec_desc))\n",
    "\n",
    "\n",
    "# STACKING VALIDATION FEATURES\n",
    "x_val = hstack((val_vec_item_con,val_vec_shipping\n",
    "                ,val_vec_name ,val_vec_brand ,val_vec_t1 ,\\\n",
    "                  val_vec_t2 ,val_vec_t3 ,\n",
    "                df_val.is_missing.values.reshape(-1,1)\n",
    "                ,val_vec_desc))\n",
    "\n",
    "# STACKING TEST FEATURES\n",
    "x_test = hstack((test_vec_item_con,test_vec_shipping\n",
    "                ,test_vec_name ,test_vec_brand ,test_vec_t1 ,\\\n",
    "                  test_vec_t2 ,test_vec_t3 ,\n",
    "                df_test.is_missing.values.reshape(-1,1)\n",
    "                ,test_vec_desc))\n",
    "\n",
    "print(x_train.shape)\n",
    "print(x_val.shape)\n",
    "print(x_test.shape)"
   ]
  },
  {
   "cell_type": "markdown",
   "id": "0d223a02",
   "metadata": {},
   "source": [
    "# C. Models"
   ]
  },
  {
   "cell_type": "markdown",
   "id": "70e67e12",
   "metadata": {},
   "source": [
    "## Linear regression"
   ]
  },
  {
   "cell_type": "code",
   "execution_count": 107,
   "id": "b5ef30e5",
   "metadata": {},
   "outputs": [
    {
     "data": {
      "text/plain": [
       "LinearRegression(normalize=True)"
      ]
     },
     "execution_count": 107,
     "metadata": {},
     "output_type": "execute_result"
    }
   ],
   "source": [
    "'''TRAINING LINEAR REGERSSION'''\n",
    "\n",
    "lr = LinearRegression(normalize=True)\n",
    "lr.fit(x_train,y_train)"
   ]
  },
  {
   "cell_type": "code",
   "execution_count": 108,
   "id": "aaad0fbe",
   "metadata": {},
   "outputs": [],
   "source": [
    "# TRAIN PREDICTION\n",
    "train_pred_lr = lr.predict(x_train)\n",
    "# VALIDATION PREDICTION\n",
    "val_pred_lr = lr.predict(x_val)"
   ]
  },
  {
   "cell_type": "code",
   "execution_count": 109,
   "id": "d2296b19",
   "metadata": {},
   "outputs": [
    {
     "name": "stdout",
     "output_type": "stream",
     "text": [
      "Train Error 0.424085676924213\n",
      "Validation Error 0.46200501816414163\n"
     ]
    }
   ],
   "source": [
    "# TRAIN ERROR\n",
    "train_error = np.sqrt(mean_squared_error(y_train,train_pred_lr))\n",
    "print(\"Train Error\",train_error)\n",
    "# TEST ERROR\n",
    "val_error = np.sqrt(mean_squared_error(y_val,val_pred_lr))\n",
    "print(\"Validation Error\",val_error)"
   ]
  },
  {
   "cell_type": "code",
   "execution_count": 110,
   "id": "351052df",
   "metadata": {
    "scrolled": true
   },
   "outputs": [
    {
     "data": {
      "text/html": [
       "<div>\n",
       "<style scoped>\n",
       "    .dataframe tbody tr th:only-of-type {\n",
       "        vertical-align: middle;\n",
       "    }\n",
       "\n",
       "    .dataframe tbody tr th {\n",
       "        vertical-align: top;\n",
       "    }\n",
       "\n",
       "    .dataframe thead th {\n",
       "        text-align: right;\n",
       "    }\n",
       "</style>\n",
       "<table border=\"1\" class=\"dataframe\">\n",
       "  <thead>\n",
       "    <tr style=\"text-align: right;\">\n",
       "      <th></th>\n",
       "      <th>test id</th>\n",
       "      <th>price</th>\n",
       "    </tr>\n",
       "  </thead>\n",
       "  <tbody>\n",
       "    <tr>\n",
       "      <th>0</th>\n",
       "      <td>0</td>\n",
       "      <td>9.421827</td>\n",
       "    </tr>\n",
       "    <tr>\n",
       "      <th>1</th>\n",
       "      <td>1</td>\n",
       "      <td>6.430580</td>\n",
       "    </tr>\n",
       "    <tr>\n",
       "      <th>2</th>\n",
       "      <td>2</td>\n",
       "      <td>43.903804</td>\n",
       "    </tr>\n",
       "    <tr>\n",
       "      <th>3</th>\n",
       "      <td>3</td>\n",
       "      <td>17.423701</td>\n",
       "    </tr>\n",
       "    <tr>\n",
       "      <th>4</th>\n",
       "      <td>4</td>\n",
       "      <td>7.696463</td>\n",
       "    </tr>\n",
       "    <tr>\n",
       "      <th>...</th>\n",
       "      <td>...</td>\n",
       "      <td>...</td>\n",
       "    </tr>\n",
       "    <tr>\n",
       "      <th>3460720</th>\n",
       "      <td>3460720</td>\n",
       "      <td>10.841812</td>\n",
       "    </tr>\n",
       "    <tr>\n",
       "      <th>3460721</th>\n",
       "      <td>3460721</td>\n",
       "      <td>45.799954</td>\n",
       "    </tr>\n",
       "    <tr>\n",
       "      <th>3460722</th>\n",
       "      <td>3460722</td>\n",
       "      <td>18.338052</td>\n",
       "    </tr>\n",
       "    <tr>\n",
       "      <th>3460723</th>\n",
       "      <td>3460723</td>\n",
       "      <td>22.851735</td>\n",
       "    </tr>\n",
       "    <tr>\n",
       "      <th>3460724</th>\n",
       "      <td>3460724</td>\n",
       "      <td>27.515675</td>\n",
       "    </tr>\n",
       "  </tbody>\n",
       "</table>\n",
       "<p>3460725 rows × 2 columns</p>\n",
       "</div>"
      ],
      "text/plain": [
       "         test id      price\n",
       "0              0   9.421827\n",
       "1              1   6.430580\n",
       "2              2  43.903804\n",
       "3              3  17.423701\n",
       "4              4   7.696463\n",
       "...          ...        ...\n",
       "3460720  3460720  10.841812\n",
       "3460721  3460721  45.799954\n",
       "3460722  3460722  18.338052\n",
       "3460723  3460723  22.851735\n",
       "3460724  3460724  27.515675\n",
       "\n",
       "[3460725 rows x 2 columns]"
      ]
     },
     "execution_count": 110,
     "metadata": {},
     "output_type": "execute_result"
    }
   ],
   "source": [
    "# TEST PREDICTION\n",
    "lr_predict = pd.DataFrame()\n",
    "lr_predict[\"test id\"] = df_test.index\n",
    "lr_predict[\"price\"] = log_to_actual(lr.predict(x_test))\n",
    "lr_predict.to_csv(\"linear_tfidf_predict.csv\")\n",
    "lr_predict"
   ]
  },
  {
   "cell_type": "markdown",
   "id": "c77562f3",
   "metadata": {},
   "source": [
    "## Ridge"
   ]
  },
  {
   "cell_type": "code",
   "execution_count": 111,
   "id": "7cf7bef5",
   "metadata": {},
   "outputs": [
    {
     "name": "stdout",
     "output_type": "stream",
     "text": [
      "validation Loss for parameter {i}= 0.46059875576083315\n",
      "validation Loss for parameter {i}= 0.46053633666361515\n",
      "validation Loss for parameter {i}= 0.4605303736439473\n",
      "validation Loss for parameter {i}= 0.46043163859141784\n",
      "validation Loss for parameter {i}= 0.45988014847737246\n",
      "validation Loss for parameter {i}= 0.4568448717134031\n",
      "validation Loss for parameter {i}= 0.45810613134388256\n",
      "validation Loss for parameter {i}= 0.4850253685990414\n",
      "validation Loss for parameter {i}= 0.5384689138424145\n",
      "validation Loss for parameter {i}= 0.6099330524786071\n",
      "validation Loss for parameter {i}= 0.6738959568056672\n"
     ]
    },
    {
     "data": {
      "image/png": "[encoded data removed]",
      "text/plain": [
       "<Figure size 432x288 with 1 Axes>"
      ]
     },
     "metadata": {},
     "output_type": "display_data"
    }
   ],
   "source": [
    "'''HYPERPARAMETER TUNING '''\n",
    "\n",
    "param =  [10**x for x in range(-5,6)]\n",
    "train_error_list = [] # STORING TRAIN ERROR\n",
    "val_error_list = [] # STORING VALIDATION ERROR\n",
    "\n",
    "# FOR EACH PARAMETER\n",
    "for i in param:\n",
    "    # TRAIN THE PARAMETER\n",
    "    l2 = Ridge(alpha=i, random_state=241)\n",
    "    l2.fit(x_train,y_train)\n",
    "    # PREDICT THE RESULTS\n",
    "    train_pred = l2.predict(x_train)\n",
    "    val_pred = l2.predict(x_val)\n",
    "    # COMPUTE THE ERROR\n",
    "    train_error = np.sqrt(mean_squared_error(y_train,train_pred))\n",
    "    val_error = np.sqrt(mean_squared_error(y_val,val_pred))\n",
    "    # APPEND THE ERROR\n",
    "    train_error_list.append(train_error)\n",
    "    val_error_list.append(val_error)\n",
    "    # PRINT THE RESULTS\n",
    "    print(\"validation Loss for parameter {i}=\",val_error)\n",
    "# SHOW THE RESULTS\n",
    "log_param = np.log10(np.array(param))\n",
    "sns.set_style(\"darkgrid\")\n",
    "sns.lineplot(x=log_param,y=train_error_list,label=\"Train\")\n",
    "sns.scatterplot(x=log_param,y=train_error_list)\n",
    "sns.lineplot(x=log_param,y=val_error_list,label=\"CV\")\n",
    "sns.scatterplot(x=log_param,y=val_error_list)\n",
    "plt.xlabel(\"Parameter\")\n",
    "plt.ylabel(\"Loss\")\n",
    "plt.legend()\n",
    "plt.show()"
   ]
  },
  {
   "cell_type": "code",
   "execution_count": 112,
   "id": "3af02c61",
   "metadata": {},
   "outputs": [
    {
     "data": {
      "text/plain": [
       "Ridge(alpha=10)"
      ]
     },
     "execution_count": 112,
     "metadata": {},
     "output_type": "execute_result"
    }
   ],
   "source": [
    "# best_alpha = 10\n",
    "'''TRAINING WITH BEST PARAMETERS'''\n",
    "\n",
    "l2_best = Ridge(alpha=10)\n",
    "l2_best.fit(x_train,y_train)"
   ]
  },
  {
   "cell_type": "code",
   "execution_count": 113,
   "id": "4bd9aa46",
   "metadata": {},
   "outputs": [],
   "source": [
    "# TRAIN PREDICTION\n",
    "train_pred = l2_best.predict(x_train)\n",
    "# VALIDATION PREDICTION\n",
    "val_pred = l2_best.predict(x_val)"
   ]
  },
  {
   "cell_type": "code",
   "execution_count": 114,
   "id": "1db96082",
   "metadata": {},
   "outputs": [
    {
     "name": "stdout",
     "output_type": "stream",
     "text": [
      "Train Error =  0.4413924331011221\n",
      "Validation Error =  0.45810613134388256\n"
     ]
    }
   ],
   "source": [
    "# TRAIN ERROR\n",
    "train_error = np.sqrt(mean_squared_error(y_train,train_pred))\n",
    "print(\"Train Error = \",train_error)\n",
    "# VALIDATION ERROR\n",
    "val_error = np.sqrt(mean_squared_error(y_val,val_pred))\n",
    "print(\"Validation Error = \",val_error)"
   ]
  },
  {
   "cell_type": "code",
   "execution_count": 115,
   "id": "f2615041",
   "metadata": {},
   "outputs": [
    {
     "data": {
      "text/html": [
       "<div>\n",
       "<style scoped>\n",
       "    .dataframe tbody tr th:only-of-type {\n",
       "        vertical-align: middle;\n",
       "    }\n",
       "\n",
       "    .dataframe tbody tr th {\n",
       "        vertical-align: top;\n",
       "    }\n",
       "\n",
       "    .dataframe thead th {\n",
       "        text-align: right;\n",
       "    }\n",
       "</style>\n",
       "<table border=\"1\" class=\"dataframe\">\n",
       "  <thead>\n",
       "    <tr style=\"text-align: right;\">\n",
       "      <th></th>\n",
       "      <th>test id</th>\n",
       "      <th>price</th>\n",
       "    </tr>\n",
       "  </thead>\n",
       "  <tbody>\n",
       "    <tr>\n",
       "      <th>0</th>\n",
       "      <td>0</td>\n",
       "      <td>9.116746</td>\n",
       "    </tr>\n",
       "    <tr>\n",
       "      <th>1</th>\n",
       "      <td>1</td>\n",
       "      <td>9.133506</td>\n",
       "    </tr>\n",
       "    <tr>\n",
       "      <th>2</th>\n",
       "      <td>2</td>\n",
       "      <td>42.380197</td>\n",
       "    </tr>\n",
       "    <tr>\n",
       "      <th>3</th>\n",
       "      <td>3</td>\n",
       "      <td>16.781443</td>\n",
       "    </tr>\n",
       "    <tr>\n",
       "      <th>4</th>\n",
       "      <td>4</td>\n",
       "      <td>7.520939</td>\n",
       "    </tr>\n",
       "    <tr>\n",
       "      <th>...</th>\n",
       "      <td>...</td>\n",
       "      <td>...</td>\n",
       "    </tr>\n",
       "    <tr>\n",
       "      <th>3460720</th>\n",
       "      <td>3460720</td>\n",
       "      <td>9.657800</td>\n",
       "    </tr>\n",
       "    <tr>\n",
       "      <th>3460721</th>\n",
       "      <td>3460721</td>\n",
       "      <td>32.744726</td>\n",
       "    </tr>\n",
       "    <tr>\n",
       "      <th>3460722</th>\n",
       "      <td>3460722</td>\n",
       "      <td>17.703741</td>\n",
       "    </tr>\n",
       "    <tr>\n",
       "      <th>3460723</th>\n",
       "      <td>3460723</td>\n",
       "      <td>21.511721</td>\n",
       "    </tr>\n",
       "    <tr>\n",
       "      <th>3460724</th>\n",
       "      <td>3460724</td>\n",
       "      <td>27.132044</td>\n",
       "    </tr>\n",
       "  </tbody>\n",
       "</table>\n",
       "<p>3460725 rows × 2 columns</p>\n",
       "</div>"
      ],
      "text/plain": [
       "         test id      price\n",
       "0              0   9.116746\n",
       "1              1   9.133506\n",
       "2              2  42.380197\n",
       "3              3  16.781443\n",
       "4              4   7.520939\n",
       "...          ...        ...\n",
       "3460720  3460720   9.657800\n",
       "3460721  3460721  32.744726\n",
       "3460722  3460722  17.703741\n",
       "3460723  3460723  21.511721\n",
       "3460724  3460724  27.132044\n",
       "\n",
       "[3460725 rows x 2 columns]"
      ]
     },
     "execution_count": 115,
     "metadata": {},
     "output_type": "execute_result"
    }
   ],
   "source": [
    "# TEST PREDICTIONS\n",
    "ridge_predict = pd.DataFrame()\n",
    "ridge_predict[\"test id\"] = df_test.index\n",
    "ridge_predict[\"price\"] = log_to_actual(l2_best.predict(x_test))\n",
    "ridge_predict.to_csv(\"ridge_tfidf_predict.csv\")\n",
    "ridge_predict"
   ]
  },
  {
   "cell_type": "markdown",
   "id": "1027d08e",
   "metadata": {},
   "source": [
    "# Model Comparision "
   ]
  },
  {
   "cell_type": "code",
   "execution_count": 116,
   "id": "f3bc5d46",
   "metadata": {},
   "outputs": [
    {
     "data": {
      "text/html": [
       "<div>\n",
       "<style scoped>\n",
       "    .dataframe tbody tr th:only-of-type {\n",
       "        vertical-align: middle;\n",
       "    }\n",
       "\n",
       "    .dataframe tbody tr th {\n",
       "        vertical-align: top;\n",
       "    }\n",
       "\n",
       "    .dataframe thead th {\n",
       "        text-align: right;\n",
       "    }\n",
       "</style>\n",
       "<table border=\"1\" class=\"dataframe\">\n",
       "  <thead>\n",
       "    <tr style=\"text-align: right;\">\n",
       "      <th></th>\n",
       "      <th>Model</th>\n",
       "      <th>Feature Type</th>\n",
       "      <th>Best Param</th>\n",
       "      <th>Train Error</th>\n",
       "      <th>Validation Error</th>\n",
       "      <th>Test Error</th>\n",
       "    </tr>\n",
       "  </thead>\n",
       "  <tbody>\n",
       "    <tr>\n",
       "      <th>0</th>\n",
       "      <td>Benchmark</td>\n",
       "      <td>-</td>\n",
       "      <td>-</td>\n",
       "      <td>0.7267</td>\n",
       "      <td>0.7254</td>\n",
       "      <td>0.72753</td>\n",
       "    </tr>\n",
       "    <tr>\n",
       "      <th>1</th>\n",
       "      <td>Lasso</td>\n",
       "      <td>Label Endoing+Word2Vec</td>\n",
       "      <td>0.00001</td>\n",
       "      <td>0.6044</td>\n",
       "      <td>0.6037</td>\n",
       "      <td>0.60518</td>\n",
       "    </tr>\n",
       "    <tr>\n",
       "      <th>2</th>\n",
       "      <td>Ridge</td>\n",
       "      <td>Label Endoing+Word2Vec</td>\n",
       "      <td>10</td>\n",
       "      <td>0.6044</td>\n",
       "      <td>0.6037</td>\n",
       "      <td>0.60518</td>\n",
       "    </tr>\n",
       "    <tr>\n",
       "      <th>3</th>\n",
       "      <td>Decision Tree</td>\n",
       "      <td>Label Endoing+Word2Vec</td>\n",
       "      <td>10</td>\n",
       "      <td>0.6231</td>\n",
       "      <td>0.6311</td>\n",
       "      <td>0.63700</td>\n",
       "    </tr>\n",
       "    <tr>\n",
       "      <th>4</th>\n",
       "      <td>Light GBM</td>\n",
       "      <td>Label Endoing+Word2Vec</td>\n",
       "      <td>1200</td>\n",
       "      <td>0.4778</td>\n",
       "      <td>0.4992</td>\n",
       "      <td>0.50050</td>\n",
       "    </tr>\n",
       "    <tr>\n",
       "      <th>5</th>\n",
       "      <td>linear Regression</td>\n",
       "      <td>One hot endoding + Tfidf</td>\n",
       "      <td>-</td>\n",
       "      <td>0.4240</td>\n",
       "      <td>0.4620</td>\n",
       "      <td>0.46210</td>\n",
       "    </tr>\n",
       "    <tr>\n",
       "      <th>6</th>\n",
       "      <td>Ridge</td>\n",
       "      <td>One hot endoding + Tfidf</td>\n",
       "      <td>10</td>\n",
       "      <td>0.4413</td>\n",
       "      <td>0.4581</td>\n",
       "      <td>0.45831</td>\n",
       "    </tr>\n",
       "  </tbody>\n",
       "</table>\n",
       "</div>"
      ],
      "text/plain": [
       "               Model              Feature Type Best Param  Train Error  \\\n",
       "0          Benchmark                         -          -       0.7267   \n",
       "1              Lasso    Label Endoing+Word2Vec    0.00001       0.6044   \n",
       "2              Ridge    Label Endoing+Word2Vec         10       0.6044   \n",
       "3      Decision Tree    Label Endoing+Word2Vec         10       0.6231   \n",
       "4          Light GBM    Label Endoing+Word2Vec       1200       0.4778   \n",
       "5  linear Regression  One hot endoding + Tfidf          -       0.4240   \n",
       "6              Ridge  One hot endoding + Tfidf         10       0.4413   \n",
       "\n",
       "   Validation Error  Test Error  \n",
       "0            0.7254     0.72753  \n",
       "1            0.6037     0.60518  \n",
       "2            0.6037     0.60518  \n",
       "3            0.6311     0.63700  \n",
       "4            0.4992     0.50050  \n",
       "5            0.4620     0.46210  \n",
       "6            0.4581     0.45831  "
      ]
     },
     "execution_count": 116,
     "metadata": {},
     "output_type": "execute_result"
    }
   ],
   "source": [
    "res = pd.DataFrame()\n",
    "res[\"Model\"] = [\"Benchmark\",\"Lasso\",\"Ridge\",\"Decision Tree\",\"Light GBM\",\"linear Regression\",\"Ridge\"]\n",
    "res[\"Feature Type\"] = [\"-\",\"Label Endoing+Word2Vec\",\"Label Endoing+Word2Vec\",\"Label Endoing+Word2Vec\",\"Label Endoing+Word2Vec\",\"One hot endoding + Tfidf\", \"One hot endoding + Tfidf\"]\n",
    "res[\"Best Param\"] = [\"-\",1e-5,10,10,1200,\"-\",10]\n",
    "res[\"Train Error\"] = [0.7267,0.6044,0.6044,0.6231,0.4778,0.4240,0.4413]\n",
    "res[\"Validation Error\"] = [0.7254,0.6037,0.6037,0.6311,0.4992,0.4620,0.4581]\n",
    "res[\"Test Error\"] = [0.72753,0.60518,0.60518,0.6370,0.50050,0.46210,0.45831]\n",
    "res"
   ]
  },
  {
   "cell_type": "code",
   "execution_count": null,
   "id": "beb94bdc",
   "metadata": {},
   "outputs": [],
   "source": []
  }
 ],
 "metadata": {
  "kernelspec": {
   "display_name": "Python 3",
   "language": "python",
   "name": "python3"
  },
  "language_info": {
   "codemirror_mode": {
    "name": "ipython",
    "version": 3
   },
   "file_extension": ".py",
   "mimetype": "text/x-python",
   "name": "python",
   "nbconvert_exporter": "python",
   "pygments_lexer": "ipython3",
   "version": "3.8.8"
  }
 },
 "nbformat": 4,
 "nbformat_minor": 5
}
